{
  "nbformat": 4,
  "nbformat_minor": 0,
  "metadata": {
    "colab": {
      "provenance": [],
      "collapsed_sections": []
    },
    "kernelspec": {
      "name": "python3",
      "display_name": "Python 3"
    }
  },
  "cells": [
    {
      "cell_type": "code",
      "metadata": {
        "id": "dvbPBWm7c4Xz",
        "outputId": "05ab9942-5fbc-49db-e25e-aff859923e7e",
        "colab": {
          "base_uri": "https://localhost:8080/",
          "height": 221
        }
      },
      "source": [
        "# Install the required packages\n",
        "!pip3 install -U elasticsearch\n",
        "!pip3 install -U jsonlines"
      ],
      "execution_count": null,
      "outputs": [
        {
          "output_type": "stream",
          "text": [
            "Collecting elasticsearch\n",
            "\u001b[?25l  Downloading https://files.pythonhosted.org/packages/e4/b7/f8f03019089671486e2910282c1b6fce26ccc8a513322df72ac8994ab2de/elasticsearch-7.9.1-py2.py3-none-any.whl (219kB)\n",
            "\u001b[K     |████████████████████████████████| 225kB 2.7MB/s \n",
            "\u001b[?25hRequirement already satisfied, skipping upgrade: urllib3>=1.21.1 in /usr/local/lib/python3.6/dist-packages (from elasticsearch) (1.24.3)\n",
            "Requirement already satisfied, skipping upgrade: certifi in /usr/local/lib/python3.6/dist-packages (from elasticsearch) (2020.6.20)\n",
            "Installing collected packages: elasticsearch\n",
            "Successfully installed elasticsearch-7.9.1\n",
            "Collecting jsonlines\n",
            "  Downloading https://files.pythonhosted.org/packages/4f/9a/ab96291470e305504aa4b7a2e0ec132e930da89eb3ca7a82fbe03167c131/jsonlines-1.2.0-py2.py3-none-any.whl\n",
            "Requirement already satisfied, skipping upgrade: six in /usr/local/lib/python3.6/dist-packages (from jsonlines) (1.15.0)\n",
            "Installing collected packages: jsonlines\n",
            "Successfully installed jsonlines-1.2.0\n"
          ],
          "name": "stdout"
        }
      ]
    },
    {
      "cell_type": "code",
      "metadata": {
        "id": "47q9JCjHdbYS"
      },
      "source": [
        "from datetime import datetime\n",
        "from elasticsearch import Elasticsearch\n",
        "from elasticsearch import helpers\n",
        "import time\n",
        "import jsonlines\n",
        "import pandas as pd"
      ],
      "execution_count": null,
      "outputs": []
    },
    {
      "cell_type": "code",
      "metadata": {
        "id": "NhgAbqocdeuZ"
      },
      "source": [
        "# you can use RFC-1738 to specify the url | Initialize the ES client \n",
        "host = \"https://search-covidtweets-pc7dqt6roqlapjsdifs6fk6oy4.us-east-1.es.amazonaws.com/\"\n",
        "\n",
        "es = Elasticsearch(['https://search-covidtweets-pc7dqt6roqlapjsdifs6fk6oy4.us-east-1.es.amazonaws.com/'], sniff_on_connection_fail= True) #, timeout=500000) << Not certain these parameters add value"
      ],
      "execution_count": null,
      "outputs": []
    },
    {
      "cell_type": "code",
      "metadata": {
        "id": "KaS3mMindhvn"
      },
      "source": [
        "# Specify the search query via the json & execute the command \n",
        "# This is sample to create a baseline \n",
        "body = {\n",
        "    \"from\": 0, # index from which the search is carried out\n",
        "    \"size\":100, # Number of matches that should be returned\n",
        "    \"_source\": [\"created_at\", \"user.screen_name\",\"user.location\", \"full_text\"],\n",
        "    \"query\" : {\n",
        "        \"constant_score\" : {\n",
        "            \"filter\" : {\n",
        "                \"bool\": {\n",
        "                    \"must_not\": {\"term\": {\"user.location\": ''}}\n",
        "                }\n",
        "            }\n",
        "        }\n",
        "    \n",
        "}\n",
        "}\n",
        "\n",
        "q1 = es.search(index='covidtweets*', body=body)\n"
      ],
      "execution_count": null,
      "outputs": []
    },
    {
      "cell_type": "code",
      "metadata": {
        "id": "PGx99Akgeduu",
        "outputId": "2c338909-cb90-4feb-a26d-387434e252a2",
        "colab": {
          "base_uri": "https://localhost:8080/",
          "height": 419
        }
      },
      "source": [
        "pd.DataFrame(q1['hits']['hits'])"
      ],
      "execution_count": null,
      "outputs": [
        {
          "output_type": "execute_result",
          "data": {
            "text/html": [
              "<div>\n",
              "<style scoped>\n",
              "    .dataframe tbody tr th:only-of-type {\n",
              "        vertical-align: middle;\n",
              "    }\n",
              "\n",
              "    .dataframe tbody tr th {\n",
              "        vertical-align: top;\n",
              "    }\n",
              "\n",
              "    .dataframe thead th {\n",
              "        text-align: right;\n",
              "    }\n",
              "</style>\n",
              "<table border=\"1\" class=\"dataframe\">\n",
              "  <thead>\n",
              "    <tr style=\"text-align: right;\">\n",
              "      <th></th>\n",
              "      <th>_index</th>\n",
              "      <th>_type</th>\n",
              "      <th>_id</th>\n",
              "      <th>_score</th>\n",
              "      <th>_source</th>\n",
              "    </tr>\n",
              "  </thead>\n",
              "  <tbody>\n",
              "    <tr>\n",
              "      <th>0</th>\n",
              "      <td>covidtweets</td>\n",
              "      <td>_doc</td>\n",
              "      <td>4960977802362444979686349219675985584355120556...</td>\n",
              "      <td>1.0</td>\n",
              "      <td>{'full_text': 'RT @wsfa12news: UPDATE: Alabama...</td>\n",
              "    </tr>\n",
              "    <tr>\n",
              "      <th>1</th>\n",
              "      <td>covidtweets</td>\n",
              "      <td>_doc</td>\n",
              "      <td>4960977802362444979686349219676106476937082019...</td>\n",
              "      <td>1.0</td>\n",
              "      <td>{'full_text': '@DmKasganj @CMOfficeUP जय हिंद ...</td>\n",
              "    </tr>\n",
              "    <tr>\n",
              "      <th>2</th>\n",
              "      <td>covidtweets</td>\n",
              "      <td>_doc</td>\n",
              "      <td>4960977802362444979686349219676227369519043482...</td>\n",
              "      <td>1.0</td>\n",
              "      <td>{'full_text': 'RT @meiccymru: Already bored of...</td>\n",
              "    </tr>\n",
              "    <tr>\n",
              "      <th>3</th>\n",
              "      <td>covidtweets</td>\n",
              "      <td>_doc</td>\n",
              "      <td>4960977802362444979686349219678282543412388351...</td>\n",
              "      <td>1.0</td>\n",
              "      <td>{'full_text': 'RT @AyinAzirinee: Good article ...</td>\n",
              "    </tr>\n",
              "    <tr>\n",
              "      <th>4</th>\n",
              "      <td>covidtweets</td>\n",
              "      <td>_doc</td>\n",
              "      <td>4960977802362444979686349219678524328576311277...</td>\n",
              "      <td>1.0</td>\n",
              "      <td>{'full_text': 'RT @SupJvse: What Latino parent...</td>\n",
              "    </tr>\n",
              "    <tr>\n",
              "      <th>...</th>\n",
              "      <td>...</td>\n",
              "      <td>...</td>\n",
              "      <td>...</td>\n",
              "      <td>...</td>\n",
              "      <td>...</td>\n",
              "    </tr>\n",
              "    <tr>\n",
              "      <th>95</th>\n",
              "      <td>covidtweets</td>\n",
              "      <td>_doc</td>\n",
              "      <td>4960977802362444979686349219812110631643727822...</td>\n",
              "      <td>1.0</td>\n",
              "      <td>{'full_text': 'RT @CNN: This is how the Wuhan ...</td>\n",
              "    </tr>\n",
              "    <tr>\n",
              "      <th>96</th>\n",
              "      <td>covidtweets</td>\n",
              "      <td>_doc</td>\n",
              "      <td>4960977802362444979686349219812352416807650741...</td>\n",
              "      <td>1.0</td>\n",
              "      <td>{'full_text': 'RT @Doranimated: US and British...</td>\n",
              "    </tr>\n",
              "    <tr>\n",
              "      <th>97</th>\n",
              "      <td>covidtweets</td>\n",
              "      <td>_doc</td>\n",
              "      <td>4960977802362444979686349219812956879717458055...</td>\n",
              "      <td>1.0</td>\n",
              "      <td>{'full_text': 'RT @aravosis: Yep.', 'created_a...</td>\n",
              "    </tr>\n",
              "    <tr>\n",
              "      <th>98</th>\n",
              "      <td>covidtweets</td>\n",
              "      <td>_doc</td>\n",
              "      <td>4960977802362444979686349219813198664881380981...</td>\n",
              "      <td>1.0</td>\n",
              "      <td>{'full_text': 'RT @joncoopertweets: The corona...</td>\n",
              "    </tr>\n",
              "    <tr>\n",
              "      <th>99</th>\n",
              "      <td>covidtweets</td>\n",
              "      <td>_doc</td>\n",
              "      <td>4960977802362444979686349219813319557463342444...</td>\n",
              "      <td>1.0</td>\n",
              "      <td>{'full_text': '🔴 #irdirc needs u! We would lik...</td>\n",
              "    </tr>\n",
              "  </tbody>\n",
              "</table>\n",
              "<p>100 rows × 5 columns</p>\n",
              "</div>"
            ],
            "text/plain": [
              "         _index  ...                                            _source\n",
              "0   covidtweets  ...  {'full_text': 'RT @wsfa12news: UPDATE: Alabama...\n",
              "1   covidtweets  ...  {'full_text': '@DmKasganj @CMOfficeUP जय हिंद ...\n",
              "2   covidtweets  ...  {'full_text': 'RT @meiccymru: Already bored of...\n",
              "3   covidtweets  ...  {'full_text': 'RT @AyinAzirinee: Good article ...\n",
              "4   covidtweets  ...  {'full_text': 'RT @SupJvse: What Latino parent...\n",
              "..          ...  ...                                                ...\n",
              "95  covidtweets  ...  {'full_text': 'RT @CNN: This is how the Wuhan ...\n",
              "96  covidtweets  ...  {'full_text': 'RT @Doranimated: US and British...\n",
              "97  covidtweets  ...  {'full_text': 'RT @aravosis: Yep.', 'created_a...\n",
              "98  covidtweets  ...  {'full_text': 'RT @joncoopertweets: The corona...\n",
              "99  covidtweets  ...  {'full_text': '🔴 #irdirc needs u! We would lik...\n",
              "\n",
              "[100 rows x 5 columns]"
            ]
          },
          "metadata": {
            "tags": []
          },
          "execution_count": 5
        }
      ]
    },
    {
      "cell_type": "code",
      "metadata": {
        "id": "7rtGXbTWe6Fr"
      },
      "source": [
        "# Specify the search query via the json & execute the command\n",
        "body = {\n",
        "    \"from\": 0, # index from which the search is carried out\n",
        "    \"size\":1000, # Number of matches that should be returned\n",
        "    \"_source\": [\"created_at\", \"user.screen_name\",\"user.location\", \"user.description\", \"full_text\"],\n",
        "    \"query\": {\n",
        "    \"query_string\": {\n",
        "      \"query\": \"(advocaat) OR (staatssecretaris) OR (manager) OR (gezondheidscentrum) OR (medisch) OR (welzijnsinstelling) OR (agent) OR (apoth)\"\n",
        "      \n",
        "    }\n",
        "  }\n",
        "    \n",
        "      }\n",
        "\n",
        "q1 = es.search(index='dutch*', body=body)\n",
        "query_DF = pd.DataFrame(q1['hits']['hits'])"
      ],
      "execution_count": null,
      "outputs": []
    },
    {
      "cell_type": "markdown",
      "metadata": {
        "id": "A6FhaWmCrJQF"
      },
      "source": [
        "++++++++++++++++++++++++++++++++++++++++++++++++++++++++++++++++++++++++++\n",
        "\n",
        "The next few code blocks I will try to implement a scroll API to extract all the docs from an index \n",
        "\n",
        "Source:\n",
        "https://kb.objectrocket.com/elasticsearch/how-to-use-python-to-make-scroll-queries-to-get-all-documents-in-an-elasticsearch-index-752"
      ]
    },
    {
      "cell_type": "code",
      "metadata": {
        "id": "k9lLbJHsqQiO"
      },
      "source": [
        "# import the Elasticsearch client library\n",
        "from elasticsearch import Elasticsearch, exceptions\n",
        "\n",
        "# import JSON and time\n",
        "import json, time\n",
        "\n",
        "index = \"dutch*\""
      ],
      "execution_count": null,
      "outputs": []
    },
    {
      "cell_type": "code",
      "metadata": {
        "id": "cP4zIcZ6lb2S"
      },
      "source": [
        "# declare a filter query dict object\n",
        "match_all = {\n",
        "    \"size\": 5000,\n",
        "    \"_source\": [\"created_at\", \"user.screen_name\",\"user.location\", \"user.description\", \"full_text\"],\n",
        "    \"query\": {\n",
        "        \"match_all\": {}\n",
        "        }\n",
        "    }\n",
        "\n",
        "# make a search() request to get all docs in the index\n",
        "resp = es.search(\n",
        "            index = 'dutch*',\n",
        "            body = match_all,\n",
        "            scroll = '15s' # length of time to keep search context\n",
        "        )\n",
        "\n",
        "# keep track of pass scroll _id\n",
        "old_scroll_id = resp['_scroll_id']"
      ],
      "execution_count": null,
      "outputs": []
    },
    {
      "cell_type": "code",
      "metadata": {
        "id": "CszW7OsO-RnN"
      },
      "source": [
        "allData = pd.DataFrame()"
      ],
      "execution_count": null,
      "outputs": []
    },
    {
      "cell_type": "code",
      "metadata": {
        "id": "BIl-EGpLysnI",
        "outputId": "611ff65b-13a6-4136-808d-8503467eb2d5",
        "colab": {
          "base_uri": "https://localhost:8080/",
          "height": 374
        }
      },
      "source": [
        "azaaaaaAAQA\n",
        "time.sleep(5)\n",
        "\n",
        "# use a 'while' iterator to loop over document 'hits'\n",
        "while len(resp['hits']['hits']):\n",
        "            query_DF = pd.DataFrame(resp['hits']['hits'])\n",
        "            queryDF = pd.DataFrame(list(query_DF['_source']))\n",
        "            user_info = queryDF['user'].apply(pd.Series)\n",
        "            queryDF = pd.concat( [queryDF.drop(['user'],axis=1) , user_info], axis=1)\n",
        "            allData = pd.concat([allData, queryDF], axis =0)\n",
        "            # make a request using the Scroll API\n",
        "            resp = es.scroll(\n",
        "                scroll_id = old_scroll_id,\n",
        "                scroll = '15s' # length of time to keep search context\n",
        "            )\n",
        "\n",
        "            # check if there's a new scroll ID\n",
        "            if old_scroll_id != resp['_scroll_id']:\n",
        "                print (\"NEW SCROLL ID:\", resp['_scroll_id'])\n",
        "\n",
        "            # keep track of pass scroll _id\n",
        "            old_scroll_id = resp['_scroll_id']\n",
        "\n",
        "            # print the response results\n",
        "            print (\"\\nresponse for index:\", index)\n",
        "            print (\"_scroll_id:\", resp['_scroll_id'])\n",
        "            print ('Collected data:', str(allData.shape[0]))\n",
        "            time.sleep(5)\n",
        "            "
      ],
      "execution_count": null,
      "outputs": [
        {
          "output_type": "error",
          "ename": "NotFoundError",
          "evalue": "ignored",
          "traceback": [
            "\u001b[0;31m---------------------------------------------------------------------------\u001b[0m",
            "\u001b[0;31mNotFoundError\u001b[0m                             Traceback (most recent call last)",
            "\u001b[0;32m<ipython-input-53-02d2d4a48e19>\u001b[0m in \u001b[0;36m<module>\u001b[0;34m()\u001b[0m\n\u001b[1;32m     12\u001b[0m             resp = es.scroll(\n\u001b[1;32m     13\u001b[0m                 \u001b[0mscroll_id\u001b[0m \u001b[0;34m=\u001b[0m \u001b[0mold_scroll_id\u001b[0m\u001b[0;34m,\u001b[0m\u001b[0;34m\u001b[0m\u001b[0;34m\u001b[0m\u001b[0m\n\u001b[0;32m---> 14\u001b[0;31m                 \u001b[0mscroll\u001b[0m \u001b[0;34m=\u001b[0m \u001b[0;34m'15s'\u001b[0m \u001b[0;31m# length of time to keep search context\u001b[0m\u001b[0;34m\u001b[0m\u001b[0;34m\u001b[0m\u001b[0m\n\u001b[0m\u001b[1;32m     15\u001b[0m             )\n\u001b[1;32m     16\u001b[0m \u001b[0;34m\u001b[0m\u001b[0m\n",
            "\u001b[0;32m/usr/local/lib/python3.6/dist-packages/elasticsearch/client/utils.py\u001b[0m in \u001b[0;36m_wrapped\u001b[0;34m(*args, **kwargs)\u001b[0m\n\u001b[1;32m    150\u001b[0m                 \u001b[0;32mif\u001b[0m \u001b[0mp\u001b[0m \u001b[0;32min\u001b[0m \u001b[0mkwargs\u001b[0m\u001b[0;34m:\u001b[0m\u001b[0;34m\u001b[0m\u001b[0;34m\u001b[0m\u001b[0m\n\u001b[1;32m    151\u001b[0m                     \u001b[0mparams\u001b[0m\u001b[0;34m[\u001b[0m\u001b[0mp\u001b[0m\u001b[0;34m]\u001b[0m \u001b[0;34m=\u001b[0m \u001b[0mkwargs\u001b[0m\u001b[0;34m.\u001b[0m\u001b[0mpop\u001b[0m\u001b[0;34m(\u001b[0m\u001b[0mp\u001b[0m\u001b[0;34m)\u001b[0m\u001b[0;34m\u001b[0m\u001b[0;34m\u001b[0m\u001b[0m\n\u001b[0;32m--> 152\u001b[0;31m             \u001b[0;32mreturn\u001b[0m \u001b[0mfunc\u001b[0m\u001b[0;34m(\u001b[0m\u001b[0;34m*\u001b[0m\u001b[0margs\u001b[0m\u001b[0;34m,\u001b[0m \u001b[0mparams\u001b[0m\u001b[0;34m=\u001b[0m\u001b[0mparams\u001b[0m\u001b[0;34m,\u001b[0m \u001b[0mheaders\u001b[0m\u001b[0;34m=\u001b[0m\u001b[0mheaders\u001b[0m\u001b[0;34m,\u001b[0m \u001b[0;34m**\u001b[0m\u001b[0mkwargs\u001b[0m\u001b[0;34m)\u001b[0m\u001b[0;34m\u001b[0m\u001b[0;34m\u001b[0m\u001b[0m\n\u001b[0m\u001b[1;32m    153\u001b[0m \u001b[0;34m\u001b[0m\u001b[0m\n\u001b[1;32m    154\u001b[0m         \u001b[0;32mreturn\u001b[0m \u001b[0m_wrapped\u001b[0m\u001b[0;34m\u001b[0m\u001b[0;34m\u001b[0m\u001b[0m\n",
            "\u001b[0;32m/usr/local/lib/python3.6/dist-packages/elasticsearch/client/__init__.py\u001b[0m in \u001b[0;36mscroll\u001b[0;34m(self, body, scroll_id, params, headers)\u001b[0m\n\u001b[1;32m   1458\u001b[0m \u001b[0;34m\u001b[0m\u001b[0m\n\u001b[1;32m   1459\u001b[0m         return self.transport.perform_request(\n\u001b[0;32m-> 1460\u001b[0;31m             \u001b[0;34m\"POST\"\u001b[0m\u001b[0;34m,\u001b[0m \u001b[0;34m\"/_search/scroll\"\u001b[0m\u001b[0;34m,\u001b[0m \u001b[0mparams\u001b[0m\u001b[0;34m=\u001b[0m\u001b[0mparams\u001b[0m\u001b[0;34m,\u001b[0m \u001b[0mheaders\u001b[0m\u001b[0;34m=\u001b[0m\u001b[0mheaders\u001b[0m\u001b[0;34m,\u001b[0m \u001b[0mbody\u001b[0m\u001b[0;34m=\u001b[0m\u001b[0mbody\u001b[0m\u001b[0;34m\u001b[0m\u001b[0;34m\u001b[0m\u001b[0m\n\u001b[0m\u001b[1;32m   1461\u001b[0m         )\n\u001b[1;32m   1462\u001b[0m \u001b[0;34m\u001b[0m\u001b[0m\n",
            "\u001b[0;32m/usr/local/lib/python3.6/dist-packages/elasticsearch/transport.py\u001b[0m in \u001b[0;36mperform_request\u001b[0;34m(self, method, url, headers, params, body)\u001b[0m\n\u001b[1;32m    390\u001b[0m                         \u001b[0;32mraise\u001b[0m \u001b[0me\u001b[0m\u001b[0;34m\u001b[0m\u001b[0;34m\u001b[0m\u001b[0m\n\u001b[1;32m    391\u001b[0m                 \u001b[0;32melse\u001b[0m\u001b[0;34m:\u001b[0m\u001b[0;34m\u001b[0m\u001b[0;34m\u001b[0m\u001b[0m\n\u001b[0;32m--> 392\u001b[0;31m                     \u001b[0;32mraise\u001b[0m \u001b[0me\u001b[0m\u001b[0;34m\u001b[0m\u001b[0;34m\u001b[0m\u001b[0m\n\u001b[0m\u001b[1;32m    393\u001b[0m \u001b[0;34m\u001b[0m\u001b[0m\n\u001b[1;32m    394\u001b[0m             \u001b[0;32melse\u001b[0m\u001b[0;34m:\u001b[0m\u001b[0;34m\u001b[0m\u001b[0;34m\u001b[0m\u001b[0m\n",
            "\u001b[0;32m/usr/local/lib/python3.6/dist-packages/elasticsearch/transport.py\u001b[0m in \u001b[0;36mperform_request\u001b[0;34m(self, method, url, headers, params, body)\u001b[0m\n\u001b[1;32m    363\u001b[0m                     \u001b[0mheaders\u001b[0m\u001b[0;34m=\u001b[0m\u001b[0mheaders\u001b[0m\u001b[0;34m,\u001b[0m\u001b[0;34m\u001b[0m\u001b[0;34m\u001b[0m\u001b[0m\n\u001b[1;32m    364\u001b[0m                     \u001b[0mignore\u001b[0m\u001b[0;34m=\u001b[0m\u001b[0mignore\u001b[0m\u001b[0;34m,\u001b[0m\u001b[0;34m\u001b[0m\u001b[0;34m\u001b[0m\u001b[0m\n\u001b[0;32m--> 365\u001b[0;31m                     \u001b[0mtimeout\u001b[0m\u001b[0;34m=\u001b[0m\u001b[0mtimeout\u001b[0m\u001b[0;34m,\u001b[0m\u001b[0;34m\u001b[0m\u001b[0;34m\u001b[0m\u001b[0m\n\u001b[0m\u001b[1;32m    366\u001b[0m                 )\n\u001b[1;32m    367\u001b[0m \u001b[0;34m\u001b[0m\u001b[0m\n",
            "\u001b[0;32m/usr/local/lib/python3.6/dist-packages/elasticsearch/connection/http_urllib3.py\u001b[0m in \u001b[0;36mperform_request\u001b[0;34m(self, method, url, params, body, timeout, ignore, headers)\u001b[0m\n\u001b[1;32m    267\u001b[0m                 \u001b[0mmethod\u001b[0m\u001b[0;34m,\u001b[0m \u001b[0mfull_url\u001b[0m\u001b[0;34m,\u001b[0m \u001b[0murl\u001b[0m\u001b[0;34m,\u001b[0m \u001b[0morig_body\u001b[0m\u001b[0;34m,\u001b[0m \u001b[0mduration\u001b[0m\u001b[0;34m,\u001b[0m \u001b[0mresponse\u001b[0m\u001b[0;34m.\u001b[0m\u001b[0mstatus\u001b[0m\u001b[0;34m,\u001b[0m \u001b[0mraw_data\u001b[0m\u001b[0;34m\u001b[0m\u001b[0;34m\u001b[0m\u001b[0m\n\u001b[1;32m    268\u001b[0m             )\n\u001b[0;32m--> 269\u001b[0;31m             \u001b[0mself\u001b[0m\u001b[0;34m.\u001b[0m\u001b[0m_raise_error\u001b[0m\u001b[0;34m(\u001b[0m\u001b[0mresponse\u001b[0m\u001b[0;34m.\u001b[0m\u001b[0mstatus\u001b[0m\u001b[0;34m,\u001b[0m \u001b[0mraw_data\u001b[0m\u001b[0;34m)\u001b[0m\u001b[0;34m\u001b[0m\u001b[0;34m\u001b[0m\u001b[0m\n\u001b[0m\u001b[1;32m    270\u001b[0m \u001b[0;34m\u001b[0m\u001b[0m\n\u001b[1;32m    271\u001b[0m         self.log_request_success(\n",
            "\u001b[0;32m/usr/local/lib/python3.6/dist-packages/elasticsearch/connection/base.py\u001b[0m in \u001b[0;36m_raise_error\u001b[0;34m(self, status_code, raw_data)\u001b[0m\n\u001b[1;32m    299\u001b[0m \u001b[0;34m\u001b[0m\u001b[0m\n\u001b[1;32m    300\u001b[0m         raise HTTP_EXCEPTIONS.get(status_code, TransportError)(\n\u001b[0;32m--> 301\u001b[0;31m             \u001b[0mstatus_code\u001b[0m\u001b[0;34m,\u001b[0m \u001b[0merror_message\u001b[0m\u001b[0;34m,\u001b[0m \u001b[0madditional_info\u001b[0m\u001b[0;34m\u001b[0m\u001b[0;34m\u001b[0m\u001b[0m\n\u001b[0m\u001b[1;32m    302\u001b[0m         )\n\u001b[1;32m    303\u001b[0m \u001b[0;34m\u001b[0m\u001b[0m\n",
            "\u001b[0;31mNotFoundError\u001b[0m: NotFoundError(404, 'search_phase_execution_exception', 'No search context found for id [22]')"
          ]
        }
      ]
    },
    {
      "cell_type": "markdown",
      "metadata": {
        "id": "3JAjKyYkrREm"
      },
      "source": [
        "++++++++++++++++++++++++++++++++++++++++++++++++++++++++++++++++++++++++++"
      ]
    },
    {
      "cell_type": "code",
      "metadata": {
        "id": "x1cY2XzT3jfE",
        "outputId": "c4aa35be-0510-44de-ab2f-9240922eb684",
        "colab": {
          "base_uri": "https://localhost:8080/",
          "height": 34
        }
      },
      "source": [
        "allData.shape"
      ],
      "execution_count": null,
      "outputs": [
        {
          "output_type": "execute_result",
          "data": {
            "text/plain": [
              "(201721, 5)"
            ]
          },
          "metadata": {
            "tags": []
          },
          "execution_count": 62
        }
      ]
    },
    {
      "cell_type": "code",
      "metadata": {
        "id": "C6gTq-L183Mi",
        "outputId": "f09a3d34-a759-4559-8f66-73777b51d45b",
        "colab": {
          "base_uri": "https://localhost:8080/",
          "height": 204
        }
      },
      "source": [
        "allData.head()"
      ],
      "execution_count": null,
      "outputs": [
        {
          "output_type": "execute_result",
          "data": {
            "text/html": [
              "<div>\n",
              "<style scoped>\n",
              "    .dataframe tbody tr th:only-of-type {\n",
              "        vertical-align: middle;\n",
              "    }\n",
              "\n",
              "    .dataframe tbody tr th {\n",
              "        vertical-align: top;\n",
              "    }\n",
              "\n",
              "    .dataframe thead th {\n",
              "        text-align: right;\n",
              "    }\n",
              "</style>\n",
              "<table border=\"1\" class=\"dataframe\">\n",
              "  <thead>\n",
              "    <tr style=\"text-align: right;\">\n",
              "      <th></th>\n",
              "      <th>full_text</th>\n",
              "      <th>created_at</th>\n",
              "      <th>screen_name</th>\n",
              "      <th>description</th>\n",
              "      <th>location</th>\n",
              "    </tr>\n",
              "  </thead>\n",
              "  <tbody>\n",
              "    <tr>\n",
              "      <th>0</th>\n",
              "      <td>@pflegearzt @Friedelkorn @LAguja44 Pardon, wol...</td>\n",
              "      <td>Mon Mar 09 12:26:29 +0000 2020</td>\n",
              "      <td>TheoRettich</td>\n",
              "      <td>I ❤️science, therefore a Commie.   ☭ FALGSC: P...</td>\n",
              "      <td>Netherlands</td>\n",
              "    </tr>\n",
              "    <tr>\n",
              "      <th>1</th>\n",
              "      <td>RT @grantshapps: Aviation demand is reduced du...</td>\n",
              "      <td>Mon Mar 09 12:26:34 +0000 2020</td>\n",
              "      <td>davidiwanow</td>\n",
              "      <td>I tweet a lot but love to engage &amp; converse. P...</td>\n",
              "      <td>Amsterdam, The Netherlands</td>\n",
              "    </tr>\n",
              "    <tr>\n",
              "      <th>2</th>\n",
              "      <td>RT @DDStandaard: De droom van D66 wordt werkel...</td>\n",
              "      <td>Mon Mar 09 12:26:37 +0000 2020</td>\n",
              "      <td>EricL65</td>\n",
              "      <td></td>\n",
              "      <td></td>\n",
              "    </tr>\n",
              "    <tr>\n",
              "      <th>3</th>\n",
              "      <td>De droom van D66 wordt werkelijkheid: COVID-19...</td>\n",
              "      <td>Mon Mar 09 12:26:47 +0000 2020</td>\n",
              "      <td>EhrErwin</td>\n",
              "      <td>Budget-Life Coach. Time management Coaching. b...</td>\n",
              "      <td>Amsterdam</td>\n",
              "    </tr>\n",
              "    <tr>\n",
              "      <th>4</th>\n",
              "      <td>RT @eucopresident: Following consultations I w...</td>\n",
              "      <td>Mon Mar 09 12:27:12 +0000 2020</td>\n",
              "      <td>TomasRiemens</td>\n",
              "      <td>Politiek redacteur Hart van Nederland</td>\n",
              "      <td>Amsterdam</td>\n",
              "    </tr>\n",
              "  </tbody>\n",
              "</table>\n",
              "</div>"
            ],
            "text/plain": [
              "                                           full_text  ...                    location\n",
              "0  @pflegearzt @Friedelkorn @LAguja44 Pardon, wol...  ...                 Netherlands\n",
              "1  RT @grantshapps: Aviation demand is reduced du...  ...  Amsterdam, The Netherlands\n",
              "2  RT @DDStandaard: De droom van D66 wordt werkel...  ...                            \n",
              "3  De droom van D66 wordt werkelijkheid: COVID-19...  ...                   Amsterdam\n",
              "4  RT @eucopresident: Following consultations I w...  ...                   Amsterdam\n",
              "\n",
              "[5 rows x 5 columns]"
            ]
          },
          "metadata": {
            "tags": []
          },
          "execution_count": 63
        }
      ]
    },
    {
      "cell_type": "code",
      "metadata": {
        "id": "0LhTRDeLg91V"
      },
      "source": [
        "queryDF = pd.DataFrame(list(query_DF['_source']))"
      ],
      "execution_count": null,
      "outputs": []
    },
    {
      "cell_type": "code",
      "metadata": {
        "id": "Lk75m6TtkyEw"
      },
      "source": [
        "user_info = queryDF['user'].apply(pd.Series)"
      ],
      "execution_count": null,
      "outputs": []
    },
    {
      "cell_type": "code",
      "metadata": {
        "id": "7__pbXaxk2Jc"
      },
      "source": [
        "queryDF = pd.concat( [queryDF.drop(['user'],axis=1) , user_info], axis=1)"
      ],
      "execution_count": null,
      "outputs": []
    },
    {
      "cell_type": "code",
      "metadata": {
        "id": "x1Jd2ATBlLP8",
        "outputId": "db90e29c-e2cb-42b5-e294-582cd580e4c8",
        "colab": {
          "base_uri": "https://localhost:8080/",
          "height": 514
        }
      },
      "source": [
        "queryDF.head(15)"
      ],
      "execution_count": null,
      "outputs": [
        {
          "output_type": "execute_result",
          "data": {
            "text/html": [
              "<div>\n",
              "<style scoped>\n",
              "    .dataframe tbody tr th:only-of-type {\n",
              "        vertical-align: middle;\n",
              "    }\n",
              "\n",
              "    .dataframe tbody tr th {\n",
              "        vertical-align: top;\n",
              "    }\n",
              "\n",
              "    .dataframe thead th {\n",
              "        text-align: right;\n",
              "    }\n",
              "</style>\n",
              "<table border=\"1\" class=\"dataframe\">\n",
              "  <thead>\n",
              "    <tr style=\"text-align: right;\">\n",
              "      <th></th>\n",
              "      <th>full_text</th>\n",
              "      <th>created_at</th>\n",
              "      <th>screen_name</th>\n",
              "      <th>description</th>\n",
              "      <th>location</th>\n",
              "    </tr>\n",
              "  </thead>\n",
              "  <tbody>\n",
              "    <tr>\n",
              "      <th>0</th>\n",
              "      <td>@pflegearzt @Friedelkorn @LAguja44 Pardon, wol...</td>\n",
              "      <td>Mon Mar 09 12:26:29 +0000 2020</td>\n",
              "      <td>TheoRettich</td>\n",
              "      <td>I ❤️science, therefore a Commie.   ☭ FALGSC: P...</td>\n",
              "      <td>Netherlands</td>\n",
              "    </tr>\n",
              "    <tr>\n",
              "      <th>1</th>\n",
              "      <td>RT @grantshapps: Aviation demand is reduced du...</td>\n",
              "      <td>Mon Mar 09 12:26:34 +0000 2020</td>\n",
              "      <td>davidiwanow</td>\n",
              "      <td>I tweet a lot but love to engage &amp; converse. P...</td>\n",
              "      <td>Amsterdam, The Netherlands</td>\n",
              "    </tr>\n",
              "    <tr>\n",
              "      <th>2</th>\n",
              "      <td>RT @DDStandaard: De droom van D66 wordt werkel...</td>\n",
              "      <td>Mon Mar 09 12:26:37 +0000 2020</td>\n",
              "      <td>EricL65</td>\n",
              "      <td></td>\n",
              "      <td></td>\n",
              "    </tr>\n",
              "    <tr>\n",
              "      <th>3</th>\n",
              "      <td>De droom van D66 wordt werkelijkheid: COVID-19...</td>\n",
              "      <td>Mon Mar 09 12:26:47 +0000 2020</td>\n",
              "      <td>EhrErwin</td>\n",
              "      <td>Budget-Life Coach. Time management Coaching. b...</td>\n",
              "      <td>Amsterdam</td>\n",
              "    </tr>\n",
              "    <tr>\n",
              "      <th>4</th>\n",
              "      <td>RT @eucopresident: Following consultations I w...</td>\n",
              "      <td>Mon Mar 09 12:27:12 +0000 2020</td>\n",
              "      <td>TomasRiemens</td>\n",
              "      <td>Politiek redacteur Hart van Nederland</td>\n",
              "      <td>Amsterdam</td>\n",
              "    </tr>\n",
              "    <tr>\n",
              "      <th>5</th>\n",
              "      <td>Read absorb and share https://t.co/IHPDY6qS4w</td>\n",
              "      <td>Mon Mar 09 12:27:17 +0000 2020</td>\n",
              "      <td>DenisonChapman</td>\n",
              "      <td>British European Optimist Scientist Engineer. ...</td>\n",
              "      <td>The Netherlands</td>\n",
              "    </tr>\n",
              "    <tr>\n",
              "      <th>6</th>\n",
              "      <td>RT @FrankvanWijck: Het aantal deskundigen over...</td>\n",
              "      <td>Mon Mar 09 12:27:35 +0000 2020</td>\n",
              "      <td>martijnmollers</td>\n",
              "      <td>Chirurg @ Heelkunde Friesland | Auteur Hart en...</td>\n",
              "      <td></td>\n",
              "    </tr>\n",
              "    <tr>\n",
              "      <th>7</th>\n",
              "      <td>RT @HanTenBroeke: Ook zo benieuwd of het Coron...</td>\n",
              "      <td>Mon Mar 09 12:27:36 +0000 2020</td>\n",
              "      <td>jterHeide</td>\n",
              "      <td>Militair, KL, VBDD, 1GNC, NATO, EW/Cyber Polit...</td>\n",
              "      <td>NLD-DEU</td>\n",
              "    </tr>\n",
              "    <tr>\n",
              "      <th>8</th>\n",
              "      <td>Het wordt dommer en dommer! We weten nu alleen...</td>\n",
              "      <td>Mon Mar 09 12:27:52 +0000 2020</td>\n",
              "      <td>Barbes_NL</td>\n",
              "      <td>❌ A critical error occurred trying to install ...</td>\n",
              "      <td>Amsterdam, The Netherlands</td>\n",
              "    </tr>\n",
              "    <tr>\n",
              "      <th>9</th>\n",
              "      <td>@volkskrant We hebben toch niet een ander viru...</td>\n",
              "      <td>Mon Mar 09 12:27:56 +0000 2020</td>\n",
              "      <td>ninjasavant</td>\n",
              "      <td>I'm only here to piss people off so the little...</td>\n",
              "      <td>Amsterdam, The Netherlands</td>\n",
              "    </tr>\n",
              "    <tr>\n",
              "      <th>10</th>\n",
              "      <td>Ook hier komt het #coronavirus helaas steeds d...</td>\n",
              "      <td>Mon Mar 09 12:27:59 +0000 2020</td>\n",
              "      <td>olraC1977</td>\n",
              "      <td>|| Crazy dutch guy || History ||\\n🇳🇱 Veteran |...</td>\n",
              "      <td>Netherlands</td>\n",
              "    </tr>\n",
              "    <tr>\n",
              "      <th>11</th>\n",
              "      <td>RT @spectatorindex: Stockmarkets today.\\n\\nIta...</td>\n",
              "      <td>Mon Mar 09 12:28:01 +0000 2020</td>\n",
              "      <td>hijden</td>\n",
              "      <td>Software developer by profession | Fan of soli...</td>\n",
              "      <td>Netherlands</td>\n",
              "    </tr>\n",
              "    <tr>\n",
              "      <th>12</th>\n",
              "      <td>Corona virus is sws gemaakt door handzeep bedr...</td>\n",
              "      <td>Mon Mar 09 12:28:04 +0000 2020</td>\n",
              "      <td>seIouaa</td>\n",
              "      <td></td>\n",
              "      <td></td>\n",
              "    </tr>\n",
              "    <tr>\n",
              "      <th>13</th>\n",
              "      <td>@KHJ_Esq The Corona-crisis offers great opport...</td>\n",
              "      <td>Mon Mar 09 12:28:06 +0000 2020</td>\n",
              "      <td>Innopolis</td>\n",
              "      <td>Communications + innovation</td>\n",
              "      <td>The Netherlands</td>\n",
              "    </tr>\n",
              "    <tr>\n",
              "      <th>14</th>\n",
              "      <td>RT @parool: Het coronavirus breidt zich verder...</td>\n",
              "      <td>Mon Mar 09 12:28:31 +0000 2020</td>\n",
              "      <td>BakelsAdrianus</td>\n",
              "      <td></td>\n",
              "      <td>Lopik / Holland</td>\n",
              "    </tr>\n",
              "  </tbody>\n",
              "</table>\n",
              "</div>"
            ],
            "text/plain": [
              "                                            full_text  ...                    location\n",
              "0   @pflegearzt @Friedelkorn @LAguja44 Pardon, wol...  ...                 Netherlands\n",
              "1   RT @grantshapps: Aviation demand is reduced du...  ...  Amsterdam, The Netherlands\n",
              "2   RT @DDStandaard: De droom van D66 wordt werkel...  ...                            \n",
              "3   De droom van D66 wordt werkelijkheid: COVID-19...  ...                   Amsterdam\n",
              "4   RT @eucopresident: Following consultations I w...  ...                   Amsterdam\n",
              "5       Read absorb and share https://t.co/IHPDY6qS4w  ...             The Netherlands\n",
              "6   RT @FrankvanWijck: Het aantal deskundigen over...  ...                            \n",
              "7   RT @HanTenBroeke: Ook zo benieuwd of het Coron...  ...                     NLD-DEU\n",
              "8   Het wordt dommer en dommer! We weten nu alleen...  ...  Amsterdam, The Netherlands\n",
              "9   @volkskrant We hebben toch niet een ander viru...  ...  Amsterdam, The Netherlands\n",
              "10  Ook hier komt het #coronavirus helaas steeds d...  ...                 Netherlands\n",
              "11  RT @spectatorindex: Stockmarkets today.\\n\\nIta...  ...                 Netherlands\n",
              "12  Corona virus is sws gemaakt door handzeep bedr...  ...                            \n",
              "13  @KHJ_Esq The Corona-crisis offers great opport...  ...             The Netherlands\n",
              "14  RT @parool: Het coronavirus breidt zich verder...  ...             Lopik / Holland\n",
              "\n",
              "[15 rows x 5 columns]"
            ]
          },
          "metadata": {
            "tags": []
          },
          "execution_count": 13
        }
      ]
    },
    {
      "cell_type": "code",
      "metadata": {
        "id": "n03UOsnKpaHM",
        "outputId": "7e4dc379-c4a1-4454-cac3-30ea65101ca6",
        "colab": {
          "base_uri": "https://localhost:8080/",
          "height": 514
        }
      },
      "source": [
        "queryDF.tail(15)"
      ],
      "execution_count": null,
      "outputs": [
        {
          "output_type": "execute_result",
          "data": {
            "text/html": [
              "<div>\n",
              "<style scoped>\n",
              "    .dataframe tbody tr th:only-of-type {\n",
              "        vertical-align: middle;\n",
              "    }\n",
              "\n",
              "    .dataframe tbody tr th {\n",
              "        vertical-align: top;\n",
              "    }\n",
              "\n",
              "    .dataframe thead th {\n",
              "        text-align: right;\n",
              "    }\n",
              "</style>\n",
              "<table border=\"1\" class=\"dataframe\">\n",
              "  <thead>\n",
              "    <tr style=\"text-align: right;\">\n",
              "      <th></th>\n",
              "      <th>full_text</th>\n",
              "      <th>created_at</th>\n",
              "      <th>screen_name</th>\n",
              "      <th>description</th>\n",
              "      <th>location</th>\n",
              "    </tr>\n",
              "  </thead>\n",
              "  <tbody>\n",
              "    <tr>\n",
              "      <th>985</th>\n",
              "      <td>Steeds meer bedrijven blunderen met hun corona...</td>\n",
              "      <td>Thu Jul 30 12:58:50 +0000 2020</td>\n",
              "      <td>Wikram</td>\n",
              "      <td>Interim manager in changing environment, Direc...</td>\n",
              "      <td>The Hague, Netherlands</td>\n",
              "    </tr>\n",
              "    <tr>\n",
              "      <th>986</th>\n",
              "      <td>Corona test came in and it's negative 🥳</td>\n",
              "      <td>Thu Aug 20 08:57:11 +0000 2020</td>\n",
              "      <td>hennesheijmans</td>\n",
              "      <td>20 | Manager @ATL_Letshe | Team &amp; Sponsorship ...</td>\n",
              "      <td>Nijmegen, Netherlands</td>\n",
              "    </tr>\n",
              "    <tr>\n",
              "      <th>987</th>\n",
              "      <td>Everyone please wear a damn mask so we can go ...</td>\n",
              "      <td>Sun Jul 26 23:47:38 +0000 2020</td>\n",
              "      <td>JoeyLeiz</td>\n",
              "      <td>Free Agent. Former Premier League, Champions L...</td>\n",
              "      <td>Amsterdam, The Netherlands</td>\n",
              "    </tr>\n",
              "    <tr>\n",
              "      <th>988</th>\n",
              "      <td>RT @jorisvancauter: Goed dat het parlement op ...</td>\n",
              "      <td>Thu Jun 18 20:22:36 +0000 2020</td>\n",
              "      <td>DevolderArne</td>\n",
              "      <td></td>\n",
              "      <td></td>\n",
              "    </tr>\n",
              "    <tr>\n",
              "      <th>989</th>\n",
              "      <td>RT @frankvanardenne: “Tussen 17 maart tot 21 m...</td>\n",
              "      <td>Thu Jun 25 06:03:33 +0000 2020</td>\n",
              "      <td>noade_leon</td>\n",
              "      <td>Advocaat | tuchtrecht | (jeugd)strafrecht |fou...</td>\n",
              "      <td></td>\n",
              "    </tr>\n",
              "    <tr>\n",
              "      <th>990</th>\n",
              "      <td>@VogelvrijeHArts Er is bij zes medewerkers van...</td>\n",
              "      <td>Sun Sep 13 17:31:18 +0000 2020</td>\n",
              "      <td>_j3lena_</td>\n",
              "      <td>#prayfortheNetherlands\\n\\n#covid19nl\\n#herdimm...</td>\n",
              "      <td>Universe</td>\n",
              "    </tr>\n",
              "    <tr>\n",
              "      <th>991</th>\n",
              "      <td>RT @RutgervdNoort: Leestip:” Medisch gezien is...</td>\n",
              "      <td>Mon May 04 11:26:17 +0000 2020</td>\n",
              "      <td>AvdBn</td>\n",
              "      <td>Het leven is kut. Daarom ben ik voor abortus.</td>\n",
              "      <td>Nederland / The Netherlands</td>\n",
              "    </tr>\n",
              "    <tr>\n",
              "      <th>992</th>\n",
              "      <td>RT @LudwigBollaerts: Zullen we deze foto morge...</td>\n",
              "      <td>Tue Mar 17 09:59:25 +0000 2020</td>\n",
              "      <td>AMPOORTERHANS</td>\n",
              "      <td>Verba volent,scripta manent</td>\n",
              "      <td></td>\n",
              "    </tr>\n",
              "    <tr>\n",
              "      <th>993</th>\n",
              "      <td>RT @EricChrSmit: Eelco van Anken, celbioloog e...</td>\n",
              "      <td>Thu Mar 19 06:29:30 +0000 2020</td>\n",
              "      <td>Dontlookawayor1</td>\n",
              "      <td>GAB: sniperonwatch</td>\n",
              "      <td>Usan, Scotland</td>\n",
              "    </tr>\n",
              "    <tr>\n",
              "      <th>994</th>\n",
              "      <td>RT @Bloempje141: Deze meneer met verstand en e...</td>\n",
              "      <td>Thu Aug 20 08:56:40 +0000 2020</td>\n",
              "      <td>WBV01789100</td>\n",
              "      <td>#Samen staan we Sterk\\n#WWG1WGA\\n#AntiGates\\n#...</td>\n",
              "      <td></td>\n",
              "    </tr>\n",
              "    <tr>\n",
              "      <th>995</th>\n",
              "      <td>RT @ZZPLoosduinen: \"Ik ben medisch moleculair ...</td>\n",
              "      <td>Thu Aug 20 08:57:22 +0000 2020</td>\n",
              "      <td>1111Polaris369</td>\n",
              "      <td>Holistic therapist, coach &amp; reikimaster 🙏 moth...</td>\n",
              "      <td>Nederland</td>\n",
              "    </tr>\n",
              "    <tr>\n",
              "      <th>996</th>\n",
              "      <td>RT @ZZPLoosduinen: \"Ik ben medisch moleculair ...</td>\n",
              "      <td>Thu Aug 20 08:57:45 +0000 2020</td>\n",
              "      <td>WBV01789100</td>\n",
              "      <td>#Samen staan we Sterk\\n#WWG1WGA\\n#AntiGates\\n#...</td>\n",
              "      <td></td>\n",
              "    </tr>\n",
              "    <tr>\n",
              "      <th>997</th>\n",
              "      <td>RT @biancadenouter: ‘Laten we een beetje nucht...</td>\n",
              "      <td>Fri Mar 06 08:30:58 +0000 2020</td>\n",
              "      <td>Crea_Marg</td>\n",
              "      <td>Mem fan 3. Earder slager, frijwilliger stiftin...</td>\n",
              "      <td>Westerkwartier, Grins</td>\n",
              "    </tr>\n",
              "    <tr>\n",
              "      <th>998</th>\n",
              "      <td>RT @fvdemocratie: #FVD-senator @NickiVerweij l...</td>\n",
              "      <td>Sat Sep 12 15:30:33 +0000 2020</td>\n",
              "      <td>JacquelineWxxx</td>\n",
              "      <td>JesuisAmsterdam -mokum- zwevende kiezer - stop...</td>\n",
              "      <td>Amsterdam</td>\n",
              "    </tr>\n",
              "    <tr>\n",
              "      <th>999</th>\n",
              "      <td>@Ella_Ster huisarts kan wel voorschrijven, maa...</td>\n",
              "      <td>Fri Sep 25 09:14:01 +0000 2020</td>\n",
              "      <td>curvedwater</td>\n",
              "      <td></td>\n",
              "      <td></td>\n",
              "    </tr>\n",
              "  </tbody>\n",
              "</table>\n",
              "</div>"
            ],
            "text/plain": [
              "                                             full_text  ...                     location\n",
              "985  Steeds meer bedrijven blunderen met hun corona...  ...       The Hague, Netherlands\n",
              "986            Corona test came in and it's negative 🥳  ...        Nijmegen, Netherlands\n",
              "987  Everyone please wear a damn mask so we can go ...  ...  Amsterdam, The Netherlands \n",
              "988  RT @jorisvancauter: Goed dat het parlement op ...  ...                             \n",
              "989  RT @frankvanardenne: “Tussen 17 maart tot 21 m...  ...                             \n",
              "990  @VogelvrijeHArts Er is bij zes medewerkers van...  ...                     Universe\n",
              "991  RT @RutgervdNoort: Leestip:” Medisch gezien is...  ...  Nederland / The Netherlands\n",
              "992  RT @LudwigBollaerts: Zullen we deze foto morge...  ...                             \n",
              "993  RT @EricChrSmit: Eelco van Anken, celbioloog e...  ...               Usan, Scotland\n",
              "994  RT @Bloempje141: Deze meneer met verstand en e...  ...                             \n",
              "995  RT @ZZPLoosduinen: \"Ik ben medisch moleculair ...  ...                    Nederland\n",
              "996  RT @ZZPLoosduinen: \"Ik ben medisch moleculair ...  ...                             \n",
              "997  RT @biancadenouter: ‘Laten we een beetje nucht...  ...        Westerkwartier, Grins\n",
              "998  RT @fvdemocratie: #FVD-senator @NickiVerweij l...  ...                    Amsterdam\n",
              "999  @Ella_Ster huisarts kan wel voorschrijven, maa...  ...                             \n",
              "\n",
              "[15 rows x 5 columns]"
            ]
          },
          "metadata": {
            "tags": []
          },
          "execution_count": 35
        }
      ]
    },
    {
      "cell_type": "code",
      "metadata": {
        "id": "AFQeKpLtlq2X"
      },
      "source": [
        "allData.to_csv('dutch_tweets.csv', index=False)"
      ],
      "execution_count": null,
      "outputs": []
    },
    {
      "cell_type": "code",
      "metadata": {
        "id": "7iPNr5sjsbtd"
      },
      "source": [
        "!pip3 install -U spacy"
      ],
      "execution_count": null,
      "outputs": []
    },
    {
      "cell_type": "code",
      "metadata": {
        "id": "QIp6x-fNl07r"
      },
      "source": [
        "!python3 -m spacy download nl_core_news_sm"
      ],
      "execution_count": null,
      "outputs": []
    },
    {
      "cell_type": "code",
      "metadata": {
        "id": "qwtGQG98rXNG"
      },
      "source": [
        "import spacy"
      ],
      "execution_count": null,
      "outputs": []
    },
    {
      "cell_type": "code",
      "metadata": {
        "id": "HUg_RNXdr5Ad"
      },
      "source": [
        "nlp = spacy.load(\"nl_core_news_sm\")"
      ],
      "execution_count": null,
      "outputs": []
    },
    {
      "cell_type": "code",
      "metadata": {
        "id": "bQuUN0lLr7-4"
      },
      "source": [
        "doc = nlp(\"Dit is een zin.\")"
      ],
      "execution_count": null,
      "outputs": []
    },
    {
      "cell_type": "code",
      "metadata": {
        "id": "H_M9NmKys4K5",
        "outputId": "1e8fc66d-a183-4db7-8ca0-d6065eae3455",
        "colab": {
          "base_uri": "https://localhost:8080/",
          "height": 34
        }
      },
      "source": [
        "print([(w.text, w.pos_) for w in doc])"
      ],
      "execution_count": null,
      "outputs": [
        {
          "output_type": "stream",
          "text": [
            "[('Dit', 'PRON'), ('is', 'VERB'), ('een', 'DET'), ('zin', 'NOUN'), ('.', 'SYM')]\n"
          ],
          "name": "stdout"
        }
      ]
    },
    {
      "cell_type": "code",
      "metadata": {
        "id": "V2iztNC4s7ei"
      },
      "source": [
        "for ent in doc.ents:\n",
        "    print(ent.text, ent.start_char, ent.end_char, ent.label_)"
      ],
      "execution_count": null,
      "outputs": []
    },
    {
      "cell_type": "code",
      "metadata": {
        "id": "H6CosFY1tQex",
        "outputId": "044fa7ee-1623-4aaf-ef22-e4892bfeb183",
        "colab": {
          "base_uri": "https://localhost:8080/",
          "height": 102
        }
      },
      "source": [
        "for token in doc:\n",
        "    print(token.text, token.lemma_, token.pos_, token.tag_, token.dep_,\n",
        "            token.shape_, token.is_alpha, token.is_stop)"
      ],
      "execution_count": null,
      "outputs": [
        {
          "output_type": "stream",
          "text": [
            "Dit dit PRON VNW|aanw|pron|stan|vol|3o|ev__Person=3|PronType=Dem nsubj Xxx True True\n",
            "is zijn VERB WW|pv|tgw|ev__Number=Sing|Tense=Pres|VerbForm=Fin cop xx True True\n",
            "een een DET LID|onbep|stan|agr__Definite=Ind det xxx True True\n",
            "zin zin NOUN N|soort|ev|basis|zijd|stan__Gender=Com|Number=Sing ROOT xxx True False\n",
            ". . SYM LET punct . False False\n"
          ],
          "name": "stdout"
        }
      ]
    },
    {
      "cell_type": "code",
      "metadata": {
        "id": "PpUpU31btgyz"
      },
      "source": [
        "for chunk in doc.noun_chunks:\n",
        "    print(chunk.text, chunk.root.text, chunk.root.dep_,\n",
        "            chunk.root.head.text)"
      ],
      "execution_count": null,
      "outputs": []
    },
    {
      "cell_type": "code",
      "metadata": {
        "id": "pssm_WMAtlsA"
      },
      "source": [
        "def checkWords(textString):\n",
        "  matches = ['advocaat', 'staatssecretaris', 'gezondheidscentrum', 'welzijnsinstelling', 'medisch']\n",
        "\n",
        "  if any(x in textString for x in matches):\n",
        "    return True\n",
        "  else:\n",
        "    return False\n"
      ],
      "execution_count": null,
      "outputs": []
    },
    {
      "cell_type": "code",
      "metadata": {
        "id": "pfyi3dfEALte"
      },
      "source": [
        "queryDF['Industry'] = queryDF['full_text'].apply(checkWords)"
      ],
      "execution_count": null,
      "outputs": []
    },
    {
      "cell_type": "code",
      "metadata": {
        "id": "08v7OWeSATtB",
        "outputId": "d8921582-7f1f-46cd-cfca-da8a509289f9",
        "colab": {
          "base_uri": "https://localhost:8080/",
          "height": 34
        }
      },
      "source": [
        "sum(queryDF['Industry'])"
      ],
      "execution_count": null,
      "outputs": [
        {
          "output_type": "execute_result",
          "data": {
            "text/plain": [
              "167"
            ]
          },
          "metadata": {
            "tags": []
          },
          "execution_count": 50
        }
      ]
    },
    {
      "cell_type": "code",
      "metadata": {
        "id": "ajTDR6aiAoff",
        "outputId": "e9ed3e26-aede-4583-82a0-79997771dbef",
        "colab": {
          "base_uri": "https://localhost:8080/",
          "height": 514
        }
      },
      "source": [
        "queryDF.head(15)"
      ],
      "execution_count": null,
      "outputs": [
        {
          "output_type": "execute_result",
          "data": {
            "text/html": [
              "<div>\n",
              "<style scoped>\n",
              "    .dataframe tbody tr th:only-of-type {\n",
              "        vertical-align: middle;\n",
              "    }\n",
              "\n",
              "    .dataframe tbody tr th {\n",
              "        vertical-align: top;\n",
              "    }\n",
              "\n",
              "    .dataframe thead th {\n",
              "        text-align: right;\n",
              "    }\n",
              "</style>\n",
              "<table border=\"1\" class=\"dataframe\">\n",
              "  <thead>\n",
              "    <tr style=\"text-align: right;\">\n",
              "      <th></th>\n",
              "      <th>full_text</th>\n",
              "      <th>created_at</th>\n",
              "      <th>screen_name</th>\n",
              "      <th>description</th>\n",
              "      <th>location</th>\n",
              "      <th>Industry</th>\n",
              "    </tr>\n",
              "  </thead>\n",
              "  <tbody>\n",
              "    <tr>\n",
              "      <th>0</th>\n",
              "      <td>RT @NVALeuven: Onaanvaardbaar! 😡😡😡\\n\\nSpoedig ...</td>\n",
              "      <td>Mon Sep 14 14:08:15 +0000 2020</td>\n",
              "      <td>karel_mortier</td>\n",
              "      <td>Vader | Echtgenoot | Leuvenaar | Advocaat  arb...</td>\n",
              "      <td></td>\n",
              "      <td>False</td>\n",
              "    </tr>\n",
              "    <tr>\n",
              "      <th>1</th>\n",
              "      <td>Coronabonus voor leiding Zaans Medisch Centrum...</td>\n",
              "      <td>Sat Aug 08 13:55:42 +0000 2020</td>\n",
              "      <td>rightsofearth</td>\n",
              "      <td>Agent provocateur. Stelt rare dingen #stemrech...</td>\n",
              "      <td>Amsterdam Zuidoost</td>\n",
              "      <td>False</td>\n",
              "    </tr>\n",
              "    <tr>\n",
              "      <th>2</th>\n",
              "      <td>Dubbele verantwoordelijkheid dus voor werkgeve...</td>\n",
              "      <td>Wed Sep 16 09:06:56 +0000 2020</td>\n",
              "      <td>wisbin</td>\n",
              "      <td>𝔻𝕠𝕔𝕖𝕟𝕥 𝕧𝕠/𝕊𝕠𝕔𝕚𝕠𝕝𝕠𝕠𝕘/𝔸𝕟𝕥𝕚𝕥𝕙𝕖ï𝕤𝕥/𝔻𝕒𝕥𝕒 ℝ𝕒𝕡𝕡𝕖𝕣/ℙ𝕚𝕩...</td>\n",
              "      <td>Schiedam, Nederland</td>\n",
              "      <td>False</td>\n",
              "    </tr>\n",
              "    <tr>\n",
              "      <th>3</th>\n",
              "      <td>RT @Elsdijkstra95: Nee tatuurlijk niet he. Waa...</td>\n",
              "      <td>Wed Aug 19 15:27:21 +0000 2020</td>\n",
              "      <td>lorelei3112</td>\n",
              "      <td>Hannelore Bruijn  Manus-je-van-alles in apothe...</td>\n",
              "      <td>Streefkerk</td>\n",
              "      <td>False</td>\n",
              "    </tr>\n",
              "    <tr>\n",
              "      <th>4</th>\n",
              "      <td>RT @mikercarpenter: News that got completely b...</td>\n",
              "      <td>Wed May 13 14:49:54 +0000 2020</td>\n",
              "      <td>mvanderKist</td>\n",
              "      <td>Jurist, oud-advocaat, kinderrechten, (jeugd)st...</td>\n",
              "      <td>Apeldoorn e.o.  Netherlands</td>\n",
              "      <td>False</td>\n",
              "    </tr>\n",
              "    <tr>\n",
              "      <th>5</th>\n",
              "      <td>RT @FaQuix: Nog zo’n willekeur, de kleurencode...</td>\n",
              "      <td>Sun Aug 02 21:23:26 +0000 2020</td>\n",
              "      <td>WNiemegeers</td>\n",
              "      <td>Advocaat - Адвокат/юрист - Voorzitter “Vlaams ...</td>\n",
              "      <td></td>\n",
              "      <td>False</td>\n",
              "    </tr>\n",
              "    <tr>\n",
              "      <th>6</th>\n",
              "      <td>RT @RubenKorthorst: De ‘willing to pay’ lijkt ...</td>\n",
              "      <td>Wed Mar 25 11:46:27 +0000 2020</td>\n",
              "      <td>Lammerthoeve</td>\n",
              "      <td>Huisarts, Opleider, Bestuurslid VPHuisartsen. ...</td>\n",
              "      <td></td>\n",
              "      <td>False</td>\n",
              "    </tr>\n",
              "    <tr>\n",
              "      <th>7</th>\n",
              "      <td>Zij die vinden dat covid19 een voldoende concr...</td>\n",
              "      <td>Sun Jul 26 05:58:50 +0000 2020</td>\n",
              "      <td>2Plot</td>\n",
              "      <td>West-Vlaams advocaat wiens mening niet door ie...</td>\n",
              "      <td></td>\n",
              "      <td>False</td>\n",
              "    </tr>\n",
              "    <tr>\n",
              "      <th>8</th>\n",
              "      <td>RT @FleurAgemaPVV: Ingezet voor de zorg? Je be...</td>\n",
              "      <td>Wed Jun 24 18:29:59 +0000 2020</td>\n",
              "      <td>PalingRobert</td>\n",
              "      <td>Senior redacteur Vastgoedmarkt, eeuwige advoca...</td>\n",
              "      <td>Dordrecht</td>\n",
              "      <td>False</td>\n",
              "    </tr>\n",
              "    <tr>\n",
              "      <th>9</th>\n",
              "      <td>RT @bslagter: (A) Van Dissel legt in die video...</td>\n",
              "      <td>Wed Sep 23 06:38:09 +0000 2020</td>\n",
              "      <td>RubenKorthorst</td>\n",
              "      <td>uroloog | medisch manager | @ziekenhuisMST | U...</td>\n",
              "      <td></td>\n",
              "      <td>False</td>\n",
              "    </tr>\n",
              "    <tr>\n",
              "      <th>10</th>\n",
              "      <td>RT @Museumschat: Ik vind het zo erg dat hier w...</td>\n",
              "      <td>Sat Jun 27 07:52:52 +0000 2020</td>\n",
              "      <td>NazmiTurkkol</td>\n",
              "      <td>Advocaat, lid van het college van afgevaardigd...</td>\n",
              "      <td>Amsterdam, Nederland</td>\n",
              "      <td>False</td>\n",
              "    </tr>\n",
              "    <tr>\n",
              "      <th>11</th>\n",
              "      <td>RT @HrothN: Wat u niet zult zien bij de staats...</td>\n",
              "      <td>Wed Aug 26 11:58:35 +0000 2020</td>\n",
              "      <td>EviletteH</td>\n",
              "      <td>Salonfasciste ende Professioneel Muggeziftster...</td>\n",
              "      <td></td>\n",
              "      <td>False</td>\n",
              "    </tr>\n",
              "    <tr>\n",
              "      <th>12</th>\n",
              "      <td>RT @fransweisglas: Terechte woede. Maar dit is...</td>\n",
              "      <td>Sat Aug 08 13:07:51 +0000 2020</td>\n",
              "      <td>LuukWilson</td>\n",
              "      <td>Leefbaar Rotterdam</td>\n",
              "      <td>Rotterdam</td>\n",
              "      <td>False</td>\n",
              "    </tr>\n",
              "    <tr>\n",
              "      <th>13</th>\n",
              "      <td>Nederland gaat verder open. Coronavirus heeft ...</td>\n",
              "      <td>Tue Jun 23 07:47:54 +0000 2020</td>\n",
              "      <td>KienhuisHoving1</td>\n",
              "      <td>Advocaten en notarissen, alle rechtsgebieden, ...</td>\n",
              "      <td>Enschede</td>\n",
              "      <td>True</td>\n",
              "    </tr>\n",
              "    <tr>\n",
              "      <th>14</th>\n",
              "      <td>Onbegrijpelijk dat de EU de regels voor het te...</td>\n",
              "      <td>Mon Jun 29 09:39:40 +0000 2020</td>\n",
              "      <td>vandesanden2</td>\n",
              "      <td>Advocaat bestuurs- en privacyrecht</td>\n",
              "      <td>'s-Hertogenbosch, Nederland</td>\n",
              "      <td>True</td>\n",
              "    </tr>\n",
              "  </tbody>\n",
              "</table>\n",
              "</div>"
            ],
            "text/plain": [
              "                                            full_text  ... Industry\n",
              "0   RT @NVALeuven: Onaanvaardbaar! 😡😡😡\\n\\nSpoedig ...  ...    False\n",
              "1   Coronabonus voor leiding Zaans Medisch Centrum...  ...    False\n",
              "2   Dubbele verantwoordelijkheid dus voor werkgeve...  ...    False\n",
              "3   RT @Elsdijkstra95: Nee tatuurlijk niet he. Waa...  ...    False\n",
              "4   RT @mikercarpenter: News that got completely b...  ...    False\n",
              "5   RT @FaQuix: Nog zo’n willekeur, de kleurencode...  ...    False\n",
              "6   RT @RubenKorthorst: De ‘willing to pay’ lijkt ...  ...    False\n",
              "7   Zij die vinden dat covid19 een voldoende concr...  ...    False\n",
              "8   RT @FleurAgemaPVV: Ingezet voor de zorg? Je be...  ...    False\n",
              "9   RT @bslagter: (A) Van Dissel legt in die video...  ...    False\n",
              "10  RT @Museumschat: Ik vind het zo erg dat hier w...  ...    False\n",
              "11  RT @HrothN: Wat u niet zult zien bij de staats...  ...    False\n",
              "12  RT @fransweisglas: Terechte woede. Maar dit is...  ...    False\n",
              "13  Nederland gaat verder open. Coronavirus heeft ...  ...     True\n",
              "14  Onbegrijpelijk dat de EU de regels voor het te...  ...     True\n",
              "\n",
              "[15 rows x 6 columns]"
            ]
          },
          "metadata": {
            "tags": []
          },
          "execution_count": 51
        }
      ]
    },
    {
      "cell_type": "code",
      "metadata": {
        "id": "z3wIsc7vArON"
      },
      "source": [
        "queryDF.to_excel('query.xlsx', index=False)"
      ],
      "execution_count": null,
      "outputs": []
    },
    {
      "cell_type": "markdown",
      "metadata": {
        "id": "ly8R_AShQtWA"
      },
      "source": [
        "++++++++++++++++++++++++++++++++++++++++++++++++++++++++++++++++++++++++++++++++++++++++++++\n",
        "\n",
        "This code block will calculate the weekday/ month/ year dat points "
      ]
    },
    {
      "cell_type": "code",
      "metadata": {
        "id": "P_wCMn48AvOA"
      },
      "source": [
        "import datetime\n",
        "\n",
        "allData['dateObject'] = allData['created_at'].apply(lambda x: datetime.datetime.strptime(x, '%a %b %d %H:%M:%S %z %Y'))\n",
        "\n",
        "allData['Day'] = allData['dateObject'].apply(lambda x: x.day)\n",
        "allData['Weekday'] = allData['dateObject'].apply(lambda x: x.weekday)\n",
        "allData['Month'] = allData['dateObject'].apply(lambda x: x.month)\n",
        "allData['Year'] = allData['dateObject'].apply(lambda x: x.year)\n",
        "allData.drop(['dateObject'], axis=1, inplace=True)"
      ],
      "execution_count": null,
      "outputs": []
    },
    {
      "cell_type": "code",
      "metadata": {
        "id": "dHSSEjhkb4Az",
        "outputId": "b3dfa68b-f2e2-4486-c464-63d02267c78f",
        "colab": {
          "base_uri": "https://localhost:8080/",
          "height": 204
        }
      },
      "source": [
        "allData.head()"
      ],
      "execution_count": null,
      "outputs": [
        {
          "output_type": "execute_result",
          "data": {
            "text/html": [
              "<div>\n",
              "<style scoped>\n",
              "    .dataframe tbody tr th:only-of-type {\n",
              "        vertical-align: middle;\n",
              "    }\n",
              "\n",
              "    .dataframe tbody tr th {\n",
              "        vertical-align: top;\n",
              "    }\n",
              "\n",
              "    .dataframe thead th {\n",
              "        text-align: right;\n",
              "    }\n",
              "</style>\n",
              "<table border=\"1\" class=\"dataframe\">\n",
              "  <thead>\n",
              "    <tr style=\"text-align: right;\">\n",
              "      <th></th>\n",
              "      <th>full_text</th>\n",
              "      <th>created_at</th>\n",
              "      <th>screen_name</th>\n",
              "      <th>description</th>\n",
              "      <th>location</th>\n",
              "      <th>Weekday</th>\n",
              "      <th>Month</th>\n",
              "      <th>Year</th>\n",
              "      <th>Day</th>\n",
              "    </tr>\n",
              "  </thead>\n",
              "  <tbody>\n",
              "    <tr>\n",
              "      <th>0</th>\n",
              "      <td>@pflegearzt @Friedelkorn @LAguja44 Pardon, wol...</td>\n",
              "      <td>Mon Mar 09 12:26:29 +0000 2020</td>\n",
              "      <td>TheoRettich</td>\n",
              "      <td>I ❤️science, therefore a Commie.   ☭ FALGSC: P...</td>\n",
              "      <td>Netherlands</td>\n",
              "      <td>0</td>\n",
              "      <td>3</td>\n",
              "      <td>2020</td>\n",
              "      <td>9</td>\n",
              "    </tr>\n",
              "    <tr>\n",
              "      <th>1</th>\n",
              "      <td>RT @grantshapps: Aviation demand is reduced du...</td>\n",
              "      <td>Mon Mar 09 12:26:34 +0000 2020</td>\n",
              "      <td>davidiwanow</td>\n",
              "      <td>I tweet a lot but love to engage &amp; converse. P...</td>\n",
              "      <td>Amsterdam, The Netherlands</td>\n",
              "      <td>0</td>\n",
              "      <td>3</td>\n",
              "      <td>2020</td>\n",
              "      <td>9</td>\n",
              "    </tr>\n",
              "    <tr>\n",
              "      <th>2</th>\n",
              "      <td>RT @DDStandaard: De droom van D66 wordt werkel...</td>\n",
              "      <td>Mon Mar 09 12:26:37 +0000 2020</td>\n",
              "      <td>EricL65</td>\n",
              "      <td></td>\n",
              "      <td></td>\n",
              "      <td>0</td>\n",
              "      <td>3</td>\n",
              "      <td>2020</td>\n",
              "      <td>9</td>\n",
              "    </tr>\n",
              "    <tr>\n",
              "      <th>3</th>\n",
              "      <td>De droom van D66 wordt werkelijkheid: COVID-19...</td>\n",
              "      <td>Mon Mar 09 12:26:47 +0000 2020</td>\n",
              "      <td>EhrErwin</td>\n",
              "      <td>Budget-Life Coach. Time management Coaching. b...</td>\n",
              "      <td>Amsterdam</td>\n",
              "      <td>0</td>\n",
              "      <td>3</td>\n",
              "      <td>2020</td>\n",
              "      <td>9</td>\n",
              "    </tr>\n",
              "    <tr>\n",
              "      <th>4</th>\n",
              "      <td>RT @eucopresident: Following consultations I w...</td>\n",
              "      <td>Mon Mar 09 12:27:12 +0000 2020</td>\n",
              "      <td>TomasRiemens</td>\n",
              "      <td>Politiek redacteur Hart van Nederland</td>\n",
              "      <td>Amsterdam</td>\n",
              "      <td>0</td>\n",
              "      <td>3</td>\n",
              "      <td>2020</td>\n",
              "      <td>9</td>\n",
              "    </tr>\n",
              "  </tbody>\n",
              "</table>\n",
              "</div>"
            ],
            "text/plain": [
              "                                           full_text  ... Day\n",
              "0  @pflegearzt @Friedelkorn @LAguja44 Pardon, wol...  ...   9\n",
              "1  RT @grantshapps: Aviation demand is reduced du...  ...   9\n",
              "2  RT @DDStandaard: De droom van D66 wordt werkel...  ...   9\n",
              "3  De droom van D66 wordt werkelijkheid: COVID-19...  ...   9\n",
              "4  RT @eucopresident: Following consultations I w...  ...   9\n",
              "\n",
              "[5 rows x 9 columns]"
            ]
          },
          "metadata": {
            "tags": []
          },
          "execution_count": 104
        }
      ]
    },
    {
      "cell_type": "markdown",
      "metadata": {
        "id": "LvapAXSdQ5V8"
      },
      "source": [
        "++++++++++++++++++++++++++++++++++++++++++++++++++++++++++++++++++++++++++++++++++++++++++++"
      ]
    },
    {
      "cell_type": "markdown",
      "metadata": {
        "id": "H0Vl_FdEQ6_V"
      },
      "source": [
        "++++++++++++++++++++++++++++++++++++++++++++++++++++++++++++++++++++++++++++++++++++++++++++\n",
        "\n",
        "The next code block will use the geoCoder API (OSM) to get the lat,long for each of the location (unique) in the dataset"
      ]
    },
    {
      "cell_type": "code",
      "metadata": {
        "id": "YBPqxPOHCX2h"
      },
      "source": [
        "import geopy.geocoders\n",
        "from geopy.geocoders import Nominatim\n",
        "from geopy.extra.rate_limiter import RateLimiter\n"
      ],
      "execution_count": null,
      "outputs": []
    },
    {
      "cell_type": "code",
      "metadata": {
        "id": "-ICeu69vCvck"
      },
      "source": [
        "locator = Nominatim(user_agent=\"myGeocoder\")\n",
        "\n",
        "# 1 - conveneint function to delay between geocoding calls\n",
        "geocode = RateLimiter(locator.geocode, min_delay_seconds=1)\n"
      ],
      "execution_count": null,
      "outputs": []
    },
    {
      "cell_type": "code",
      "metadata": {
        "id": "1edz3_dbRRI7",
        "outputId": "fd8ee042-0fb3-4e1e-f834-ee0bc9914ade",
        "colab": {
          "base_uri": "https://localhost:8080/",
          "height": 34
        }
      },
      "source": [
        "# Get all unique locations \n",
        "\n",
        "allLocation = allData['location'].unique().tolist()\n",
        "print(\"Nuber of unique locations\",len(allLocation))"
      ],
      "execution_count": null,
      "outputs": [
        {
          "output_type": "stream",
          "text": [
            "Nuber of unique locations 15283\n"
          ],
          "name": "stdout"
        }
      ]
    },
    {
      "cell_type": "code",
      "metadata": {
        "id": "l1uOy8EXCyKJ",
        "outputId": "89b4a809-aa16-4250-b279-599cfe244459",
        "colab": {
          "base_uri": "https://localhost:8080/",
          "height": 136
        }
      },
      "source": [
        "allLocation =pd.DataFrame(allLocation)\n",
        "print(allLocation.shape)\n",
        "allLocation.columns = ['location']\n",
        "print(allLocation.head())"
      ],
      "execution_count": null,
      "outputs": [
        {
          "output_type": "stream",
          "text": [
            "(15283, 1)\n",
            "                     location\n",
            "0                 Netherlands\n",
            "1  Amsterdam, The Netherlands\n",
            "2                            \n",
            "3                   Amsterdam\n",
            "4             The Netherlands\n"
          ],
          "name": "stdout"
        }
      ]
    },
    {
      "cell_type": "markdown",
      "metadata": {
        "id": "Vsn-TGDoWwFG"
      },
      "source": [
        "I have a one second rate limiter so for 15283 records it may take a lot of time! 42hrs+ \n",
        "\n",
        "So lets try to break up the records into smaller units & run them in parallel"
      ]
    },
    {
      "cell_type": "code",
      "metadata": {
        "id": "J2zFL_ACXIL7",
        "outputId": "aa459b50-b6ec-47d2-ea89-2bd2c29b3ff4",
        "colab": {
          "base_uri": "https://localhost:8080/",
          "height": 419
        }
      },
      "source": [
        "import numpy as np\n",
        "\n",
        "allLocationArray = np.array_split(allLocation, 10)\n",
        "allLocationArray[1]"
      ],
      "execution_count": null,
      "outputs": [
        {
          "output_type": "execute_result",
          "data": {
            "text/html": [
              "<div>\n",
              "<style scoped>\n",
              "    .dataframe tbody tr th:only-of-type {\n",
              "        vertical-align: middle;\n",
              "    }\n",
              "\n",
              "    .dataframe tbody tr th {\n",
              "        vertical-align: top;\n",
              "    }\n",
              "\n",
              "    .dataframe thead th {\n",
              "        text-align: right;\n",
              "    }\n",
              "</style>\n",
              "<table border=\"1\" class=\"dataframe\">\n",
              "  <thead>\n",
              "    <tr style=\"text-align: right;\">\n",
              "      <th></th>\n",
              "      <th>location</th>\n",
              "    </tr>\n",
              "  </thead>\n",
              "  <tbody>\n",
              "    <tr>\n",
              "      <th>1529</th>\n",
              "      <td>Veere</td>\n",
              "    </tr>\n",
              "    <tr>\n",
              "      <th>1530</th>\n",
              "      <td>overal en nergens</td>\n",
              "    </tr>\n",
              "    <tr>\n",
              "      <th>1531</th>\n",
              "      <td>Earth,The One and Only Truth</td>\n",
              "    </tr>\n",
              "    <tr>\n",
              "      <th>1532</th>\n",
              "      <td>Diepenveen, Netherlands</td>\n",
              "    </tr>\n",
              "    <tr>\n",
              "      <th>1533</th>\n",
              "      <td>Oosterhout</td>\n",
              "    </tr>\n",
              "    <tr>\n",
              "      <th>...</th>\n",
              "      <td>...</td>\n",
              "    </tr>\n",
              "    <tr>\n",
              "      <th>3053</th>\n",
              "      <td>Leiden, Den Haag, Teylingen</td>\n",
              "    </tr>\n",
              "    <tr>\n",
              "      <th>3054</th>\n",
              "      <td>Liskwartier, Rotterdam</td>\n",
              "    </tr>\n",
              "    <tr>\n",
              "      <th>3055</th>\n",
              "      <td>Scheveningen ..</td>\n",
              "    </tr>\n",
              "    <tr>\n",
              "      <th>3056</th>\n",
              "      <td>Het Heuge Neurden</td>\n",
              "    </tr>\n",
              "    <tr>\n",
              "      <th>3057</th>\n",
              "      <td>Zutphen, Nederland</td>\n",
              "    </tr>\n",
              "  </tbody>\n",
              "</table>\n",
              "<p>1529 rows × 1 columns</p>\n",
              "</div>"
            ],
            "text/plain": [
              "                          location\n",
              "1529                         Veere\n",
              "1530             overal en nergens\n",
              "1531  Earth,The One and Only Truth\n",
              "1532       Diepenveen, Netherlands\n",
              "1533                    Oosterhout\n",
              "...                            ...\n",
              "3053   Leiden, Den Haag, Teylingen\n",
              "3054        Liskwartier, Rotterdam\n",
              "3055               Scheveningen ..\n",
              "3056             Het Heuge Neurden\n",
              "3057            Zutphen, Nederland\n",
              "\n",
              "[1529 rows x 1 columns]"
            ]
          },
          "metadata": {
            "tags": []
          },
          "execution_count": 79
        }
      ]
    },
    {
      "cell_type": "code",
      "metadata": {
        "id": "pz-5PKEoXpjD"
      },
      "source": [
        "for idx in range(len(allLocationArray)):\n",
        "  allLocationArray[idx].to_excel(\"allLocation_chunk\"+str(idx)+\".xlsx\", index=True)"
      ],
      "execution_count": null,
      "outputs": []
    },
    {
      "cell_type": "code",
      "metadata": {
        "id": "P-VJxmEtX4W2",
        "outputId": "1d12845d-a476-4834-c798-558861eb779c",
        "colab": {
          "base_uri": "https://localhost:8080/",
          "height": 34
        }
      },
      "source": [
        "from google.colab import drive\n",
        "drive.mount('/content/drive')"
      ],
      "execution_count": null,
      "outputs": [
        {
          "output_type": "stream",
          "text": [
            "Mounted at /content/drive\n"
          ],
          "name": "stdout"
        }
      ]
    },
    {
      "cell_type": "code",
      "metadata": {
        "id": "tGBxrxn7YDk8",
        "outputId": "9bece485-325f-4e4c-f31f-9dc0b02b73bb",
        "colab": {
          "base_uri": "https://localhost:8080/",
          "height": 34
        }
      },
      "source": [
        "!cp drive/\"My Drive\"/\"Dutch Tweets/allLocation_chunk8.xlsx\" ."
      ],
      "execution_count": null,
      "outputs": [
        {
          "output_type": "stream",
          "text": [
            "cp: cannot stat 'drive/My Drive/Dutch Tweets/allLocation_chunk8.xlsx': No such file or directory\n"
          ],
          "name": "stdout"
        }
      ]
    },
    {
      "cell_type": "code",
      "metadata": {
        "id": "Cd8MLVV4YiU9",
        "outputId": "752ff36e-cc6e-49e0-de5d-94465204fc77",
        "colab": {
          "base_uri": "https://localhost:8080/",
          "height": 85
        }
      },
      "source": [
        "!ls drive/\"My Drive\"/\"Dutch Tweets\""
      ],
      "execution_count": null,
      "outputs": [
        {
          "output_type": "stream",
          "text": [
            "allLocation_chunk0.csv\tallLocation_chunk4.csv\tallLocation_chunk8.csv\n",
            "allLocation_chunk1.csv\tallLocation_chunk5.csv\tallLocation_chunk9.csv\n",
            "allLocation_chunk2.csv\tallLocation_chunk6.csv\tdutch_tweets.csv\n",
            "allLocation_chunk3.csv\tallLocation_chunk7.csv\n"
          ],
          "name": "stdout"
        }
      ]
    },
    {
      "cell_type": "code",
      "metadata": {
        "id": "95WS4kzdYlou",
        "outputId": "a1b59e46-8e75-4227-c72d-f3d8ca757ae9",
        "colab": {
          "base_uri": "https://localhost:8080/",
          "height": 34
        }
      },
      "source": [
        "drive.flush_and_unmount()\n",
        "print('All changes made in this colab session should now be visible in Drive.')"
      ],
      "execution_count": null,
      "outputs": [
        {
          "output_type": "stream",
          "text": [
            "All changes made in this colab session should now be visible in Drive.\n"
          ],
          "name": "stdout"
        }
      ]
    },
    {
      "cell_type": "code",
      "metadata": {
        "id": "PYCowg7HaB5j"
      },
      "source": [
        "allDataList = np.array_split(allData, 10)"
      ],
      "execution_count": null,
      "outputs": []
    },
    {
      "cell_type": "code",
      "metadata": {
        "id": "AQyXfbtuaXQL",
        "outputId": "0ecca46b-4ea6-463e-fff3-bcf454f93ccb",
        "colab": {
          "base_uri": "https://localhost:8080/",
          "height": 187
        }
      },
      "source": [
        "for idx in range(len(allDataList)):\n",
        "  print(idx)\n",
        "  try:\n",
        "    allDataList[idx].to_csv(\"allDataList_chunk\"+str(idx)+\".csv\", index=True)\n",
        "  except:\n",
        "    print(\"ERR in idx: \", idx)"
      ],
      "execution_count": null,
      "outputs": [
        {
          "output_type": "stream",
          "text": [
            "0\n",
            "1\n",
            "2\n",
            "3\n",
            "4\n",
            "5\n",
            "6\n",
            "7\n",
            "8\n",
            "9\n"
          ],
          "name": "stdout"
        }
      ]
    },
    {
      "cell_type": "code",
      "metadata": {
        "id": "1t-Wp706adpm",
        "outputId": "34aa847c-e1ca-41da-e39b-e53106130922",
        "colab": {
          "base_uri": "https://localhost:8080/",
          "height": 153
        }
      },
      "source": [
        "!cp allDataList*.csv drive/\"My Drive\"/\"Dutch Tweets\"\n",
        "!ls drive/\"My Drive\"/\"Dutch Tweets\""
      ],
      "execution_count": null,
      "outputs": [
        {
          "output_type": "stream",
          "text": [
            "allDataList_chunk0.csv\tallDataList_chunk8.csv\t   allLocation_chunk5.csv\n",
            "allDataList_chunk1.csv\tallDataList_chunk9.csv\t   allLocation_chunk6.csv\n",
            "allDataList_chunk2.csv\tallDataList_chunk9.gsheet  allLocation_chunk7.csv\n",
            "allDataList_chunk3.csv\tallLocation_chunk0.csv\t   allLocation_chunk8.csv\n",
            "allDataList_chunk4.csv\tallLocation_chunk1.csv\t   allLocation_chunk9.csv\n",
            "allDataList_chunk5.csv\tallLocation_chunk2.csv\t   dutch_tweets.csv\n",
            "allDataList_chunk6.csv\tallLocation_chunk3.csv\n",
            "allDataList_chunk7.csv\tallLocation_chunk4.csv\n"
          ],
          "name": "stdout"
        }
      ]
    },
    {
      "cell_type": "code",
      "metadata": {
        "id": "-DnzT8pUanPy",
        "outputId": "e98271d2-9d52-4506-fc07-c94434d69242",
        "colab": {
          "base_uri": "https://localhost:8080/",
          "height": 34
        }
      },
      "source": [
        "drive.flush_and_unmount()\n",
        "print('All changes made in this colab session should now be visible in Drive.')"
      ],
      "execution_count": null,
      "outputs": [
        {
          "output_type": "stream",
          "text": [
            "All changes made in this colab session should now be visible in Drive.\n"
          ],
          "name": "stdout"
        }
      ]
    },
    {
      "cell_type": "code",
      "metadata": {
        "id": "WgXR7NJdeYEt",
        "outputId": "dfa85c7d-296a-4efe-aedf-fd192cc8fb17",
        "colab": {
          "base_uri": "https://localhost:8080/",
          "height": 204
        }
      },
      "source": [
        "# Read location chunks \n",
        "import pandas as pd \n",
        "\n",
        "idx = 8\n",
        "\n",
        "allLocation_chunk = pd.read_excel(\"allLocation_chunk\"+str(idx)+\".xlsx\")\n",
        "allLocation_chunk.shape\n",
        "allLocation_chunk.head()"
      ],
      "execution_count": null,
      "outputs": [
        {
          "output_type": "execute_result",
          "data": {
            "text/html": [
              "<div>\n",
              "<style scoped>\n",
              "    .dataframe tbody tr th:only-of-type {\n",
              "        vertical-align: middle;\n",
              "    }\n",
              "\n",
              "    .dataframe tbody tr th {\n",
              "        vertical-align: top;\n",
              "    }\n",
              "\n",
              "    .dataframe thead th {\n",
              "        text-align: right;\n",
              "    }\n",
              "</style>\n",
              "<table border=\"1\" class=\"dataframe\">\n",
              "  <thead>\n",
              "    <tr style=\"text-align: right;\">\n",
              "      <th></th>\n",
              "      <th>Unnamed: 0</th>\n",
              "      <th>location</th>\n",
              "    </tr>\n",
              "  </thead>\n",
              "  <tbody>\n",
              "    <tr>\n",
              "      <th>0</th>\n",
              "      <td>12227</td>\n",
              "      <td>Renkum, The Netherlands</td>\n",
              "    </tr>\n",
              "    <tr>\n",
              "      <th>1</th>\n",
              "      <td>12228</td>\n",
              "      <td>Noord-Holland en Zuid-Holland</td>\n",
              "    </tr>\n",
              "    <tr>\n",
              "      <th>2</th>\n",
              "      <td>12229</td>\n",
              "      <td>Sin city / Amsterdam</td>\n",
              "    </tr>\n",
              "    <tr>\n",
              "      <th>3</th>\n",
              "      <td>12230</td>\n",
              "      <td>Heeswijk-Dinther, Bernheze</td>\n",
              "    </tr>\n",
              "    <tr>\n",
              "      <th>4</th>\n",
              "      <td>12231</td>\n",
              "      <td>Hintham-Zuid, 's-Hertogenbosch</td>\n",
              "    </tr>\n",
              "  </tbody>\n",
              "</table>\n",
              "</div>"
            ],
            "text/plain": [
              "   Unnamed: 0                        location\n",
              "0       12227         Renkum, The Netherlands\n",
              "1       12228   Noord-Holland en Zuid-Holland\n",
              "2       12229            Sin city / Amsterdam\n",
              "3       12230      Heeswijk-Dinther, Bernheze\n",
              "4       12231  Hintham-Zuid, 's-Hertogenbosch"
            ]
          },
          "metadata": {
            "tags": []
          },
          "execution_count": 20
        }
      ]
    },
    {
      "cell_type": "code",
      "metadata": {
        "id": "1HYBcWw2Rv7c",
        "outputId": "3c71f917-5fff-4d28-876f-061e4e776e7d",
        "colab": {
          "base_uri": "https://localhost:8080/",
          "height": 1000
        }
      },
      "source": [
        "# 2- - create location column\n",
        "allLocation_chunk['point_info'] = allLocation_chunk['location'].apply(geocode)"
      ],
      "execution_count": null,
      "outputs": [
        {
          "output_type": "stream",
          "text": [
            "RateLimiter caught an error, retrying (0/2 tries). Called with (*('N.v.t.',), **{}).\n",
            "Traceback (most recent call last):\n",
            "  File \"/usr/local/lib/python3.6/dist-packages/geopy/geocoders/base.py\", line 344, in _call_geocoder\n",
            "    page = requester(req, timeout=timeout, **kwargs)\n",
            "  File \"/usr/lib/python3.6/urllib/request.py\", line 526, in open\n",
            "    response = self._open(req, data)\n",
            "  File \"/usr/lib/python3.6/urllib/request.py\", line 544, in _open\n",
            "    '_open', req)\n",
            "  File \"/usr/lib/python3.6/urllib/request.py\", line 504, in _call_chain\n",
            "    result = func(*args)\n",
            "  File \"/usr/lib/python3.6/urllib/request.py\", line 1368, in https_open\n",
            "    context=self._context, check_hostname=self._check_hostname)\n",
            "  File \"/usr/lib/python3.6/urllib/request.py\", line 1328, in do_open\n",
            "    r = h.getresponse()\n",
            "  File \"/usr/lib/python3.6/http/client.py\", line 1356, in getresponse\n",
            "    response.begin()\n",
            "  File \"/usr/lib/python3.6/http/client.py\", line 307, in begin\n",
            "    version, status, reason = self._read_status()\n",
            "  File \"/usr/lib/python3.6/http/client.py\", line 268, in _read_status\n",
            "    line = str(self.fp.readline(_MAXLINE + 1), \"iso-8859-1\")\n",
            "  File \"/usr/lib/python3.6/socket.py\", line 586, in readinto\n",
            "    return self._sock.recv_into(b)\n",
            "  File \"/usr/lib/python3.6/ssl.py\", line 1012, in recv_into\n",
            "    return self.read(nbytes, buffer)\n",
            "  File \"/usr/lib/python3.6/ssl.py\", line 874, in read\n",
            "    return self._sslobj.read(len, buffer)\n",
            "  File \"/usr/lib/python3.6/ssl.py\", line 631, in read\n",
            "    v = self._sslobj.read(len, buffer)\n",
            "socket.timeout: The read operation timed out\n",
            "\n",
            "During handling of the above exception, another exception occurred:\n",
            "\n",
            "Traceback (most recent call last):\n",
            "  File \"/usr/local/lib/python3.6/dist-packages/geopy/extra/rate_limiter.py\", line 130, in __call__\n",
            "    return self.func(*args, **kwargs)\n",
            "  File \"/usr/local/lib/python3.6/dist-packages/geopy/geocoders/osm.py\", line 307, in geocode\n",
            "    self._call_geocoder(url, timeout=timeout), exactly_one\n",
            "  File \"/usr/local/lib/python3.6/dist-packages/geopy/geocoders/base.py\", line 371, in _call_geocoder\n",
            "    raise GeocoderTimedOut('Service timed out')\n",
            "geopy.exc.GeocoderTimedOut: Service timed out\n",
            "RateLimiter caught an error, retrying (1/2 tries). Called with (*('N.v.t.',), **{}).\n",
            "Traceback (most recent call last):\n",
            "  File \"/usr/local/lib/python3.6/dist-packages/geopy/geocoders/base.py\", line 344, in _call_geocoder\n",
            "    page = requester(req, timeout=timeout, **kwargs)\n",
            "  File \"/usr/lib/python3.6/urllib/request.py\", line 526, in open\n",
            "    response = self._open(req, data)\n",
            "  File \"/usr/lib/python3.6/urllib/request.py\", line 544, in _open\n",
            "    '_open', req)\n",
            "  File \"/usr/lib/python3.6/urllib/request.py\", line 504, in _call_chain\n",
            "    result = func(*args)\n",
            "  File \"/usr/lib/python3.6/urllib/request.py\", line 1368, in https_open\n",
            "    context=self._context, check_hostname=self._check_hostname)\n",
            "  File \"/usr/lib/python3.6/urllib/request.py\", line 1328, in do_open\n",
            "    r = h.getresponse()\n",
            "  File \"/usr/lib/python3.6/http/client.py\", line 1356, in getresponse\n",
            "    response.begin()\n",
            "  File \"/usr/lib/python3.6/http/client.py\", line 307, in begin\n",
            "    version, status, reason = self._read_status()\n",
            "  File \"/usr/lib/python3.6/http/client.py\", line 268, in _read_status\n",
            "    line = str(self.fp.readline(_MAXLINE + 1), \"iso-8859-1\")\n",
            "  File \"/usr/lib/python3.6/socket.py\", line 586, in readinto\n",
            "    return self._sock.recv_into(b)\n",
            "  File \"/usr/lib/python3.6/ssl.py\", line 1012, in recv_into\n",
            "    return self.read(nbytes, buffer)\n",
            "  File \"/usr/lib/python3.6/ssl.py\", line 874, in read\n",
            "    return self._sslobj.read(len, buffer)\n",
            "  File \"/usr/lib/python3.6/ssl.py\", line 631, in read\n",
            "    v = self._sslobj.read(len, buffer)\n",
            "socket.timeout: The read operation timed out\n",
            "\n",
            "During handling of the above exception, another exception occurred:\n",
            "\n",
            "Traceback (most recent call last):\n",
            "  File \"/usr/local/lib/python3.6/dist-packages/geopy/extra/rate_limiter.py\", line 130, in __call__\n",
            "    return self.func(*args, **kwargs)\n",
            "  File \"/usr/local/lib/python3.6/dist-packages/geopy/geocoders/osm.py\", line 307, in geocode\n",
            "    self._call_geocoder(url, timeout=timeout), exactly_one\n",
            "  File \"/usr/local/lib/python3.6/dist-packages/geopy/geocoders/base.py\", line 371, in _call_geocoder\n",
            "    raise GeocoderTimedOut('Service timed out')\n",
            "geopy.exc.GeocoderTimedOut: Service timed out\n",
            "RateLimiter swallowed an error after 2 retries. Called with (*('N.v.t.',), **{}).\n",
            "Traceback (most recent call last):\n",
            "  File \"/usr/local/lib/python3.6/dist-packages/geopy/geocoders/base.py\", line 344, in _call_geocoder\n",
            "    page = requester(req, timeout=timeout, **kwargs)\n",
            "  File \"/usr/lib/python3.6/urllib/request.py\", line 526, in open\n",
            "    response = self._open(req, data)\n",
            "  File \"/usr/lib/python3.6/urllib/request.py\", line 544, in _open\n",
            "    '_open', req)\n",
            "  File \"/usr/lib/python3.6/urllib/request.py\", line 504, in _call_chain\n",
            "    result = func(*args)\n",
            "  File \"/usr/lib/python3.6/urllib/request.py\", line 1368, in https_open\n",
            "    context=self._context, check_hostname=self._check_hostname)\n",
            "  File \"/usr/lib/python3.6/urllib/request.py\", line 1328, in do_open\n",
            "    r = h.getresponse()\n",
            "  File \"/usr/lib/python3.6/http/client.py\", line 1356, in getresponse\n",
            "    response.begin()\n",
            "  File \"/usr/lib/python3.6/http/client.py\", line 307, in begin\n",
            "    version, status, reason = self._read_status()\n",
            "  File \"/usr/lib/python3.6/http/client.py\", line 268, in _read_status\n",
            "    line = str(self.fp.readline(_MAXLINE + 1), \"iso-8859-1\")\n",
            "  File \"/usr/lib/python3.6/socket.py\", line 586, in readinto\n",
            "    return self._sock.recv_into(b)\n",
            "  File \"/usr/lib/python3.6/ssl.py\", line 1012, in recv_into\n",
            "    return self.read(nbytes, buffer)\n",
            "  File \"/usr/lib/python3.6/ssl.py\", line 874, in read\n",
            "    return self._sslobj.read(len, buffer)\n",
            "  File \"/usr/lib/python3.6/ssl.py\", line 631, in read\n",
            "    v = self._sslobj.read(len, buffer)\n",
            "socket.timeout: The read operation timed out\n",
            "\n",
            "During handling of the above exception, another exception occurred:\n",
            "\n",
            "Traceback (most recent call last):\n",
            "  File \"/usr/local/lib/python3.6/dist-packages/geopy/extra/rate_limiter.py\", line 130, in __call__\n",
            "    return self.func(*args, **kwargs)\n",
            "  File \"/usr/local/lib/python3.6/dist-packages/geopy/geocoders/osm.py\", line 307, in geocode\n",
            "    self._call_geocoder(url, timeout=timeout), exactly_one\n",
            "  File \"/usr/local/lib/python3.6/dist-packages/geopy/geocoders/base.py\", line 371, in _call_geocoder\n",
            "    raise GeocoderTimedOut('Service timed out')\n",
            "geopy.exc.GeocoderTimedOut: Service timed out\n"
          ],
          "name": "stderr"
        }
      ]
    },
    {
      "cell_type": "code",
      "metadata": {
        "id": "0F__mzcAgJRg",
        "outputId": "b844aa19-7a68-4baa-eb9d-add1eec4790a",
        "colab": {
          "base_uri": "https://localhost:8080/",
          "height": 204
        }
      },
      "source": [
        "# 3 - create longitude, laatitude and altitude from location column (returns tuple)\n",
        "allLocation_chunk['point'] = allLocation_chunk['point_info'].apply(lambda loc: tuple(loc.point) if loc else None)\n",
        "\n",
        "allLocation_chunk.head()"
      ],
      "execution_count": null,
      "outputs": [
        {
          "output_type": "execute_result",
          "data": {
            "text/html": [
              "<div>\n",
              "<style scoped>\n",
              "    .dataframe tbody tr th:only-of-type {\n",
              "        vertical-align: middle;\n",
              "    }\n",
              "\n",
              "    .dataframe tbody tr th {\n",
              "        vertical-align: top;\n",
              "    }\n",
              "\n",
              "    .dataframe thead th {\n",
              "        text-align: right;\n",
              "    }\n",
              "</style>\n",
              "<table border=\"1\" class=\"dataframe\">\n",
              "  <thead>\n",
              "    <tr style=\"text-align: right;\">\n",
              "      <th></th>\n",
              "      <th>Unnamed: 0</th>\n",
              "      <th>location</th>\n",
              "      <th>point_info</th>\n",
              "      <th>point</th>\n",
              "      <th>latitude</th>\n",
              "      <th>longitude</th>\n",
              "      <th>altitude</th>\n",
              "      <th>Province</th>\n",
              "    </tr>\n",
              "  </thead>\n",
              "  <tbody>\n",
              "    <tr>\n",
              "      <th>0</th>\n",
              "      <td>12227</td>\n",
              "      <td>Renkum, The Netherlands</td>\n",
              "      <td>(Renkum, Gelderland, Nederland, (51.9751065, 5...</td>\n",
              "      <td>(51.9751065, 5.7335691, 0.0)</td>\n",
              "      <td>51.975107</td>\n",
              "      <td>5.733569</td>\n",
              "      <td>0.0</td>\n",
              "      <td>Gelderland</td>\n",
              "    </tr>\n",
              "    <tr>\n",
              "      <th>1</th>\n",
              "      <td>12228</td>\n",
              "      <td>Noord-Holland en Zuid-Holland</td>\n",
              "      <td>(Noord, Rotterdam, Zuid-Holland, Nederland, (5...</td>\n",
              "      <td>(51.9330231, 4.4722707, 0.0)</td>\n",
              "      <td>51.933023</td>\n",
              "      <td>4.472271</td>\n",
              "      <td>0.0</td>\n",
              "      <td>Zuid-Holland</td>\n",
              "    </tr>\n",
              "    <tr>\n",
              "      <th>2</th>\n",
              "      <td>12229</td>\n",
              "      <td>Sin city / Amsterdam</td>\n",
              "      <td>(Amsterdam, Lomas del Sol, Culiacán Rosales, C...</td>\n",
              "      <td>(24.8452918, -107.3821699, 0.0)</td>\n",
              "      <td>24.845292</td>\n",
              "      <td>-107.382170</td>\n",
              "      <td>0.0</td>\n",
              "      <td>False</td>\n",
              "    </tr>\n",
              "    <tr>\n",
              "      <th>3</th>\n",
              "      <td>12230</td>\n",
              "      <td>Heeswijk-Dinther, Bernheze</td>\n",
              "      <td>(Heeswijk-Dinther, Bernheze, Noord-Brabant, Ne...</td>\n",
              "      <td>(51.664083399999996, 5.466634823340177, 0.0)</td>\n",
              "      <td>51.664083</td>\n",
              "      <td>5.466635</td>\n",
              "      <td>0.0</td>\n",
              "      <td>Noord-Brabant</td>\n",
              "    </tr>\n",
              "    <tr>\n",
              "      <th>4</th>\n",
              "      <td>12231</td>\n",
              "      <td>Hintham-Zuid, 's-Hertogenbosch</td>\n",
              "      <td>(Hintham-zuid, Rosmalen, Hintham, Noord-Braban...</td>\n",
              "      <td>(51.6976614, 5.343617582664436, 0.0)</td>\n",
              "      <td>51.697661</td>\n",
              "      <td>5.343618</td>\n",
              "      <td>0.0</td>\n",
              "      <td>Noord-Brabant</td>\n",
              "    </tr>\n",
              "  </tbody>\n",
              "</table>\n",
              "</div>"
            ],
            "text/plain": [
              "   Unnamed: 0                        location  ... altitude       Province\n",
              "0       12227         Renkum, The Netherlands  ...      0.0     Gelderland\n",
              "1       12228   Noord-Holland en Zuid-Holland  ...      0.0   Zuid-Holland\n",
              "2       12229            Sin city / Amsterdam  ...      0.0          False\n",
              "3       12230      Heeswijk-Dinther, Bernheze  ...      0.0  Noord-Brabant\n",
              "4       12231  Hintham-Zuid, 's-Hertogenbosch  ...      0.0  Noord-Brabant\n",
              "\n",
              "[5 rows x 8 columns]"
            ]
          },
          "metadata": {
            "tags": []
          },
          "execution_count": 35
        }
      ]
    },
    {
      "cell_type": "code",
      "metadata": {
        "id": "eoTAoT09C7ok",
        "outputId": "690c804c-63ab-4018-a3ce-46a1b672b91d",
        "colab": {
          "base_uri": "https://localhost:8080/",
          "height": 514
        }
      },
      "source": [
        "# 4 - split point column into latitude, longitude and altitude columns\n",
        "allLocation_chunk[['latitude', 'longitude', 'altitude']] = pd.DataFrame(allLocation_chunk['point'].tolist(), index=allLocation_chunk.index)\n",
        "\n",
        "allLocation_chunk.head(15)"
      ],
      "execution_count": null,
      "outputs": [
        {
          "output_type": "execute_result",
          "data": {
            "text/html": [
              "<div>\n",
              "<style scoped>\n",
              "    .dataframe tbody tr th:only-of-type {\n",
              "        vertical-align: middle;\n",
              "    }\n",
              "\n",
              "    .dataframe tbody tr th {\n",
              "        vertical-align: top;\n",
              "    }\n",
              "\n",
              "    .dataframe thead th {\n",
              "        text-align: right;\n",
              "    }\n",
              "</style>\n",
              "<table border=\"1\" class=\"dataframe\">\n",
              "  <thead>\n",
              "    <tr style=\"text-align: right;\">\n",
              "      <th></th>\n",
              "      <th>Unnamed: 0</th>\n",
              "      <th>location</th>\n",
              "      <th>point_info</th>\n",
              "      <th>point</th>\n",
              "      <th>latitude</th>\n",
              "      <th>longitude</th>\n",
              "      <th>altitude</th>\n",
              "      <th>Province</th>\n",
              "    </tr>\n",
              "  </thead>\n",
              "  <tbody>\n",
              "    <tr>\n",
              "      <th>0</th>\n",
              "      <td>12227</td>\n",
              "      <td>Renkum, The Netherlands</td>\n",
              "      <td>(Renkum, Gelderland, Nederland, (51.9751065, 5...</td>\n",
              "      <td>(51.9751065, 5.7335691, 0.0)</td>\n",
              "      <td>51.975107</td>\n",
              "      <td>5.733569</td>\n",
              "      <td>0.0</td>\n",
              "      <td>Gelderland</td>\n",
              "    </tr>\n",
              "    <tr>\n",
              "      <th>1</th>\n",
              "      <td>12228</td>\n",
              "      <td>Noord-Holland en Zuid-Holland</td>\n",
              "      <td>(Noord, Rotterdam, Zuid-Holland, Nederland, (5...</td>\n",
              "      <td>(51.9330231, 4.4722707, 0.0)</td>\n",
              "      <td>51.933023</td>\n",
              "      <td>4.472271</td>\n",
              "      <td>0.0</td>\n",
              "      <td>Zuid-Holland</td>\n",
              "    </tr>\n",
              "    <tr>\n",
              "      <th>2</th>\n",
              "      <td>12229</td>\n",
              "      <td>Sin city / Amsterdam</td>\n",
              "      <td>(Amsterdam, Lomas del Sol, Culiacán Rosales, C...</td>\n",
              "      <td>(24.8452918, -107.3821699, 0.0)</td>\n",
              "      <td>24.845292</td>\n",
              "      <td>-107.382170</td>\n",
              "      <td>0.0</td>\n",
              "      <td>False</td>\n",
              "    </tr>\n",
              "    <tr>\n",
              "      <th>3</th>\n",
              "      <td>12230</td>\n",
              "      <td>Heeswijk-Dinther, Bernheze</td>\n",
              "      <td>(Heeswijk-Dinther, Bernheze, Noord-Brabant, Ne...</td>\n",
              "      <td>(51.664083399999996, 5.466634823340177, 0.0)</td>\n",
              "      <td>51.664083</td>\n",
              "      <td>5.466635</td>\n",
              "      <td>0.0</td>\n",
              "      <td>Noord-Brabant</td>\n",
              "    </tr>\n",
              "    <tr>\n",
              "      <th>4</th>\n",
              "      <td>12231</td>\n",
              "      <td>Hintham-Zuid, 's-Hertogenbosch</td>\n",
              "      <td>(Hintham-zuid, Rosmalen, Hintham, Noord-Braban...</td>\n",
              "      <td>(51.6976614, 5.343617582664436, 0.0)</td>\n",
              "      <td>51.697661</td>\n",
              "      <td>5.343618</td>\n",
              "      <td>0.0</td>\n",
              "      <td>Noord-Brabant</td>\n",
              "    </tr>\n",
              "    <tr>\n",
              "      <th>5</th>\n",
              "      <td>12232</td>\n",
              "      <td>Grunobuurt, Groningen</td>\n",
              "      <td>(Grunobuurt, Groningen, Nederland, (53.2066154...</td>\n",
              "      <td>(53.2066154, 6.5597569, 0.0)</td>\n",
              "      <td>53.206615</td>\n",
              "      <td>6.559757</td>\n",
              "      <td>0.0</td>\n",
              "      <td>Groningen</td>\n",
              "    </tr>\n",
              "    <tr>\n",
              "      <th>6</th>\n",
              "      <td>12233</td>\n",
              "      <td>Lochem-Zuid, Lochem</td>\n",
              "      <td>None</td>\n",
              "      <td>None</td>\n",
              "      <td>NaN</td>\n",
              "      <td>NaN</td>\n",
              "      <td>NaN</td>\n",
              "      <td>False</td>\n",
              "    </tr>\n",
              "    <tr>\n",
              "      <th>7</th>\n",
              "      <td>12234</td>\n",
              "      <td>ÜT: 36.098565,-80.311023</td>\n",
              "      <td>None</td>\n",
              "      <td>None</td>\n",
              "      <td>NaN</td>\n",
              "      <td>NaN</td>\n",
              "      <td>NaN</td>\n",
              "      <td>False</td>\n",
              "    </tr>\n",
              "    <tr>\n",
              "      <th>8</th>\n",
              "      <td>12235</td>\n",
              "      <td>BTS |﹙G﹚I﹣ᴅʟᴇ | TOP 🇵🇹</td>\n",
              "      <td>None</td>\n",
              "      <td>None</td>\n",
              "      <td>NaN</td>\n",
              "      <td>NaN</td>\n",
              "      <td>NaN</td>\n",
              "      <td>False</td>\n",
              "    </tr>\n",
              "    <tr>\n",
              "      <th>9</th>\n",
              "      <td>12236</td>\n",
              "      <td>La Capitale</td>\n",
              "      <td>(La Capitale, Valensole, Forcalquier, Alpes-de...</td>\n",
              "      <td>(43.8713728, 5.8995945, 0.0)</td>\n",
              "      <td>43.871373</td>\n",
              "      <td>5.899595</td>\n",
              "      <td>0.0</td>\n",
              "      <td>False</td>\n",
              "    </tr>\n",
              "    <tr>\n",
              "      <th>10</th>\n",
              "      <td>12237</td>\n",
              "      <td>Merksplas 🇧🇪</td>\n",
              "      <td>(Merksplas, Antwerpen, Vlaanderen, 2330, Belgi...</td>\n",
              "      <td>(51.3580597, 4.8627541, 0.0)</td>\n",
              "      <td>51.358060</td>\n",
              "      <td>4.862754</td>\n",
              "      <td>0.0</td>\n",
              "      <td>False</td>\n",
              "    </tr>\n",
              "    <tr>\n",
              "      <th>11</th>\n",
              "      <td>12238</td>\n",
              "      <td>Driebergen, Nederland</td>\n",
              "      <td>(Driebergen, A12, Driebergen-Rijsenburg, Utrec...</td>\n",
              "      <td>(52.0651958, 5.2897704, 0.0)</td>\n",
              "      <td>52.065196</td>\n",
              "      <td>5.289770</td>\n",
              "      <td>0.0</td>\n",
              "      <td>Utrecht</td>\n",
              "    </tr>\n",
              "    <tr>\n",
              "      <th>12</th>\n",
              "      <td>12239</td>\n",
              "      <td>Veenendaal | Apeldoorn</td>\n",
              "      <td>None</td>\n",
              "      <td>None</td>\n",
              "      <td>NaN</td>\n",
              "      <td>NaN</td>\n",
              "      <td>NaN</td>\n",
              "      <td>False</td>\n",
              "    </tr>\n",
              "    <tr>\n",
              "      <th>13</th>\n",
              "      <td>12240</td>\n",
              "      <td>Teheran</td>\n",
              "      <td>(شهر تهران, فرهنگسرای شفق, بخش مرکزی شهرستان ت...</td>\n",
              "      <td>(35.7006177, 51.4013785, 0.0)</td>\n",
              "      <td>35.700618</td>\n",
              "      <td>51.401378</td>\n",
              "      <td>0.0</td>\n",
              "      <td>False</td>\n",
              "    </tr>\n",
              "    <tr>\n",
              "      <th>14</th>\n",
              "      <td>12241</td>\n",
              "      <td>Schiermonnikoog</td>\n",
              "      <td>(Schiermonnikoog, Fryslân, Nederland, (53.4833...</td>\n",
              "      <td>(53.48332935, 6.2027736660373805, 0.0)</td>\n",
              "      <td>53.483329</td>\n",
              "      <td>6.202774</td>\n",
              "      <td>0.0</td>\n",
              "      <td>Friesland (Fryslân)</td>\n",
              "    </tr>\n",
              "  </tbody>\n",
              "</table>\n",
              "</div>"
            ],
            "text/plain": [
              "    Unnamed: 0                        location  ... altitude             Province\n",
              "0        12227         Renkum, The Netherlands  ...      0.0           Gelderland\n",
              "1        12228   Noord-Holland en Zuid-Holland  ...      0.0         Zuid-Holland\n",
              "2        12229            Sin city / Amsterdam  ...      0.0                False\n",
              "3        12230      Heeswijk-Dinther, Bernheze  ...      0.0        Noord-Brabant\n",
              "4        12231  Hintham-Zuid, 's-Hertogenbosch  ...      0.0        Noord-Brabant\n",
              "5        12232           Grunobuurt, Groningen  ...      0.0            Groningen\n",
              "6        12233             Lochem-Zuid, Lochem  ...      NaN                False\n",
              "7        12234        ÜT: 36.098565,-80.311023  ...      NaN                False\n",
              "8        12235          BTS |﹙G﹚I﹣ᴅʟᴇ | TOP 🇵🇹  ...      NaN                False\n",
              "9        12236                     La Capitale  ...      0.0                False\n",
              "10       12237                    Merksplas 🇧🇪  ...      0.0                False\n",
              "11       12238           Driebergen, Nederland  ...      0.0              Utrecht\n",
              "12       12239          Veenendaal | Apeldoorn  ...      NaN                False\n",
              "13       12240                         Teheran  ...      0.0                False\n",
              "14       12241                 Schiermonnikoog  ...      0.0  Friesland (Fryslân)\n",
              "\n",
              "[15 rows x 8 columns]"
            ]
          },
          "metadata": {
            "tags": []
          },
          "execution_count": 36
        }
      ]
    },
    {
      "cell_type": "code",
      "metadata": {
        "id": "IPuadVOKnEPx"
      },
      "source": [
        "!cp drive/\"My Drive\"/\"Dutch Tweets\"/*.geojson ."
      ],
      "execution_count": null,
      "outputs": []
    },
    {
      "cell_type": "code",
      "metadata": {
        "id": "GX4PgnBxnTer",
        "outputId": "9de4dc97-2f48-4894-8088-5c604d9bc708",
        "colab": {
          "base_uri": "https://localhost:8080/",
          "height": 289
        }
      },
      "source": [
        "!pip install geopandas\n",
        "!pip install geopy\n"
      ],
      "execution_count": null,
      "outputs": [
        {
          "output_type": "stream",
          "text": [
            "Requirement already satisfied: geopandas in /usr/local/lib/python3.6/dist-packages (0.8.1)\n",
            "Requirement already satisfied: pandas>=0.23.0 in /usr/local/lib/python3.6/dist-packages (from geopandas) (1.1.2)\n",
            "Requirement already satisfied: shapely in /usr/local/lib/python3.6/dist-packages (from geopandas) (1.7.1)\n",
            "Requirement already satisfied: pyproj>=2.2.0 in /usr/local/lib/python3.6/dist-packages (from geopandas) (2.6.1.post1)\n",
            "Requirement already satisfied: fiona in /usr/local/lib/python3.6/dist-packages (from geopandas) (1.8.17)\n",
            "Requirement already satisfied: pytz>=2017.2 in /usr/local/lib/python3.6/dist-packages (from pandas>=0.23.0->geopandas) (2018.9)\n",
            "Requirement already satisfied: python-dateutil>=2.7.3 in /usr/local/lib/python3.6/dist-packages (from pandas>=0.23.0->geopandas) (2.8.1)\n",
            "Requirement already satisfied: numpy>=1.15.4 in /usr/local/lib/python3.6/dist-packages (from pandas>=0.23.0->geopandas) (1.18.5)\n",
            "Requirement already satisfied: attrs>=17 in /usr/local/lib/python3.6/dist-packages (from fiona->geopandas) (20.2.0)\n",
            "Requirement already satisfied: cligj>=0.5 in /usr/local/lib/python3.6/dist-packages (from fiona->geopandas) (0.7.0)\n",
            "Requirement already satisfied: click-plugins>=1.0 in /usr/local/lib/python3.6/dist-packages (from fiona->geopandas) (1.1.1)\n",
            "Requirement already satisfied: munch in /usr/local/lib/python3.6/dist-packages (from fiona->geopandas) (2.5.0)\n",
            "Requirement already satisfied: six>=1.7 in /usr/local/lib/python3.6/dist-packages (from fiona->geopandas) (1.15.0)\n",
            "Requirement already satisfied: click<8,>=4.0 in /usr/local/lib/python3.6/dist-packages (from fiona->geopandas) (7.1.2)\n",
            "Requirement already satisfied: geopy in /usr/local/lib/python3.6/dist-packages (1.17.0)\n",
            "Requirement already satisfied: geographiclib<2,>=1.49 in /usr/local/lib/python3.6/dist-packages (from geopy) (1.50)\n"
          ],
          "name": "stdout"
        }
      ]
    },
    {
      "cell_type": "code",
      "metadata": {
        "id": "w5xeBhktnEWf",
        "outputId": "1e17e22f-c679-438f-e8d2-a43e4162340e",
        "colab": {
          "base_uri": "https://localhost:8080/",
          "height": 221
        }
      },
      "source": [
        "import geopandas as gpd\n",
        "\n",
        "provinces = gpd.read_file('provinces.geojson')\n",
        "\n",
        "print(provinces.shape)\n",
        "provinces.head()"
      ],
      "execution_count": null,
      "outputs": [
        {
          "output_type": "stream",
          "text": [
            "(12, 4)\n"
          ],
          "name": "stdout"
        },
        {
          "output_type": "execute_result",
          "data": {
            "text/html": [
              "<div>\n",
              "<style scoped>\n",
              "    .dataframe tbody tr th:only-of-type {\n",
              "        vertical-align: middle;\n",
              "    }\n",
              "\n",
              "    .dataframe tbody tr th {\n",
              "        vertical-align: top;\n",
              "    }\n",
              "\n",
              "    .dataframe thead th {\n",
              "        text-align: right;\n",
              "    }\n",
              "</style>\n",
              "<table border=\"1\" class=\"dataframe\">\n",
              "  <thead>\n",
              "    <tr style=\"text-align: right;\">\n",
              "      <th></th>\n",
              "      <th>name</th>\n",
              "      <th>regioFacetId</th>\n",
              "      <th>level</th>\n",
              "      <th>geometry</th>\n",
              "    </tr>\n",
              "  </thead>\n",
              "  <tbody>\n",
              "    <tr>\n",
              "      <th>0</th>\n",
              "      <td>Drenthe</td>\n",
              "      <td>tcm:106-353397-1024</td>\n",
              "      <td>3</td>\n",
              "      <td>POLYGON ((6.41328 52.98552, 6.36252 53.03397, ...</td>\n",
              "    </tr>\n",
              "    <tr>\n",
              "      <th>1</th>\n",
              "      <td>Flevoland</td>\n",
              "      <td>tcm:106-353410-1024</td>\n",
              "      <td>3</td>\n",
              "      <td>POLYGON ((5.36115 52.67573, 5.37726 52.76481, ...</td>\n",
              "    </tr>\n",
              "    <tr>\n",
              "      <th>2</th>\n",
              "      <td>Friesland (Fryslân)</td>\n",
              "      <td>tcm:106-353417-1024</td>\n",
              "      <td>3</td>\n",
              "      <td>POLYGON ((5.08707 53.32307, 5.10178 53.36803, ...</td>\n",
              "    </tr>\n",
              "    <tr>\n",
              "      <th>3</th>\n",
              "      <td>Gelderland</td>\n",
              "      <td>tcm:106-353445-1024</td>\n",
              "      <td>3</td>\n",
              "      <td>POLYGON ((5.60602 51.99416, 5.59200 52.00139, ...</td>\n",
              "    </tr>\n",
              "    <tr>\n",
              "      <th>4</th>\n",
              "      <td>Groningen</td>\n",
              "      <td>tcm:106-353502-1024</td>\n",
              "      <td>3</td>\n",
              "      <td>POLYGON ((6.28698 53.34138, 6.27368 53.34527, ...</td>\n",
              "    </tr>\n",
              "  </tbody>\n",
              "</table>\n",
              "</div>"
            ],
            "text/plain": [
              "                  name  ...                                           geometry\n",
              "0              Drenthe  ...  POLYGON ((6.41328 52.98552, 6.36252 53.03397, ...\n",
              "1            Flevoland  ...  POLYGON ((5.36115 52.67573, 5.37726 52.76481, ...\n",
              "2  Friesland (Fryslân)  ...  POLYGON ((5.08707 53.32307, 5.10178 53.36803, ...\n",
              "3           Gelderland  ...  POLYGON ((5.60602 51.99416, 5.59200 52.00139, ...\n",
              "4            Groningen  ...  POLYGON ((6.28698 53.34138, 6.27368 53.34527, ...\n",
              "\n",
              "[5 rows x 4 columns]"
            ]
          },
          "metadata": {
            "tags": []
          },
          "execution_count": 39
        }
      ]
    },
    {
      "cell_type": "code",
      "metadata": {
        "id": "7ynd6aYEnEZ4"
      },
      "source": [
        "from shapely.geometry import Point, Polygon"
      ],
      "execution_count": null,
      "outputs": []
    },
    {
      "cell_type": "code",
      "metadata": {
        "id": "HJEV12-8nh4m"
      },
      "source": [
        "def checkProvince(p1):\n",
        "  #print(len(p1))\n",
        "  if p1 != None and len(p1) >= 2 :\n",
        "    p1 = Point(p1[1], p1[0])  \n",
        "    provinces['InProvince'] = provinces['geometry'].apply(lambda x: x.contains(p1))\n",
        "    selProvince = provinces[provinces['InProvince'] == True]\n",
        "    #print(selProvince)\n",
        "    if selProvince.shape[0] > 0:\n",
        "      return selProvince['name'].values[0]\n",
        "    else:\n",
        "      return False\n",
        "  else:\n",
        "    return False"
      ],
      "execution_count": null,
      "outputs": []
    },
    {
      "cell_type": "code",
      "metadata": {
        "id": "GSkvP3VmnkiM",
        "outputId": "f3fef630-b705-40d4-8f16-3cdee8d37740",
        "colab": {
          "base_uri": "https://localhost:8080/",
          "height": 514
        }
      },
      "source": [
        "allLocation_chunk['Province'] = allLocation_chunk['point'].apply(lambda x: checkProvince(x))\n",
        "allLocation_chunk.head(15)"
      ],
      "execution_count": null,
      "outputs": [
        {
          "output_type": "execute_result",
          "data": {
            "text/html": [
              "<div>\n",
              "<style scoped>\n",
              "    .dataframe tbody tr th:only-of-type {\n",
              "        vertical-align: middle;\n",
              "    }\n",
              "\n",
              "    .dataframe tbody tr th {\n",
              "        vertical-align: top;\n",
              "    }\n",
              "\n",
              "    .dataframe thead th {\n",
              "        text-align: right;\n",
              "    }\n",
              "</style>\n",
              "<table border=\"1\" class=\"dataframe\">\n",
              "  <thead>\n",
              "    <tr style=\"text-align: right;\">\n",
              "      <th></th>\n",
              "      <th>Unnamed: 0</th>\n",
              "      <th>location</th>\n",
              "      <th>point_info</th>\n",
              "      <th>point</th>\n",
              "      <th>latitude</th>\n",
              "      <th>longitude</th>\n",
              "      <th>altitude</th>\n",
              "      <th>Province</th>\n",
              "    </tr>\n",
              "  </thead>\n",
              "  <tbody>\n",
              "    <tr>\n",
              "      <th>0</th>\n",
              "      <td>12227</td>\n",
              "      <td>Renkum, The Netherlands</td>\n",
              "      <td>(Renkum, Gelderland, Nederland, (51.9751065, 5...</td>\n",
              "      <td>(51.9751065, 5.7335691, 0.0)</td>\n",
              "      <td>51.975107</td>\n",
              "      <td>5.733569</td>\n",
              "      <td>0.0</td>\n",
              "      <td>Gelderland</td>\n",
              "    </tr>\n",
              "    <tr>\n",
              "      <th>1</th>\n",
              "      <td>12228</td>\n",
              "      <td>Noord-Holland en Zuid-Holland</td>\n",
              "      <td>(Noord, Rotterdam, Zuid-Holland, Nederland, (5...</td>\n",
              "      <td>(51.9330231, 4.4722707, 0.0)</td>\n",
              "      <td>51.933023</td>\n",
              "      <td>4.472271</td>\n",
              "      <td>0.0</td>\n",
              "      <td>Zuid-Holland</td>\n",
              "    </tr>\n",
              "    <tr>\n",
              "      <th>2</th>\n",
              "      <td>12229</td>\n",
              "      <td>Sin city / Amsterdam</td>\n",
              "      <td>(Amsterdam, Lomas del Sol, Culiacán Rosales, C...</td>\n",
              "      <td>(24.8452918, -107.3821699, 0.0)</td>\n",
              "      <td>24.845292</td>\n",
              "      <td>-107.382170</td>\n",
              "      <td>0.0</td>\n",
              "      <td>False</td>\n",
              "    </tr>\n",
              "    <tr>\n",
              "      <th>3</th>\n",
              "      <td>12230</td>\n",
              "      <td>Heeswijk-Dinther, Bernheze</td>\n",
              "      <td>(Heeswijk-Dinther, Bernheze, Noord-Brabant, Ne...</td>\n",
              "      <td>(51.664083399999996, 5.466634823340177, 0.0)</td>\n",
              "      <td>51.664083</td>\n",
              "      <td>5.466635</td>\n",
              "      <td>0.0</td>\n",
              "      <td>Noord-Brabant</td>\n",
              "    </tr>\n",
              "    <tr>\n",
              "      <th>4</th>\n",
              "      <td>12231</td>\n",
              "      <td>Hintham-Zuid, 's-Hertogenbosch</td>\n",
              "      <td>(Hintham-zuid, Rosmalen, Hintham, Noord-Braban...</td>\n",
              "      <td>(51.6976614, 5.343617582664436, 0.0)</td>\n",
              "      <td>51.697661</td>\n",
              "      <td>5.343618</td>\n",
              "      <td>0.0</td>\n",
              "      <td>Noord-Brabant</td>\n",
              "    </tr>\n",
              "    <tr>\n",
              "      <th>5</th>\n",
              "      <td>12232</td>\n",
              "      <td>Grunobuurt, Groningen</td>\n",
              "      <td>(Grunobuurt, Groningen, Nederland, (53.2066154...</td>\n",
              "      <td>(53.2066154, 6.5597569, 0.0)</td>\n",
              "      <td>53.206615</td>\n",
              "      <td>6.559757</td>\n",
              "      <td>0.0</td>\n",
              "      <td>Groningen</td>\n",
              "    </tr>\n",
              "    <tr>\n",
              "      <th>6</th>\n",
              "      <td>12233</td>\n",
              "      <td>Lochem-Zuid, Lochem</td>\n",
              "      <td>None</td>\n",
              "      <td>None</td>\n",
              "      <td>NaN</td>\n",
              "      <td>NaN</td>\n",
              "      <td>NaN</td>\n",
              "      <td>False</td>\n",
              "    </tr>\n",
              "    <tr>\n",
              "      <th>7</th>\n",
              "      <td>12234</td>\n",
              "      <td>ÜT: 36.098565,-80.311023</td>\n",
              "      <td>None</td>\n",
              "      <td>None</td>\n",
              "      <td>NaN</td>\n",
              "      <td>NaN</td>\n",
              "      <td>NaN</td>\n",
              "      <td>False</td>\n",
              "    </tr>\n",
              "    <tr>\n",
              "      <th>8</th>\n",
              "      <td>12235</td>\n",
              "      <td>BTS |﹙G﹚I﹣ᴅʟᴇ | TOP 🇵🇹</td>\n",
              "      <td>None</td>\n",
              "      <td>None</td>\n",
              "      <td>NaN</td>\n",
              "      <td>NaN</td>\n",
              "      <td>NaN</td>\n",
              "      <td>False</td>\n",
              "    </tr>\n",
              "    <tr>\n",
              "      <th>9</th>\n",
              "      <td>12236</td>\n",
              "      <td>La Capitale</td>\n",
              "      <td>(La Capitale, Valensole, Forcalquier, Alpes-de...</td>\n",
              "      <td>(43.8713728, 5.8995945, 0.0)</td>\n",
              "      <td>43.871373</td>\n",
              "      <td>5.899595</td>\n",
              "      <td>0.0</td>\n",
              "      <td>False</td>\n",
              "    </tr>\n",
              "    <tr>\n",
              "      <th>10</th>\n",
              "      <td>12237</td>\n",
              "      <td>Merksplas 🇧🇪</td>\n",
              "      <td>(Merksplas, Antwerpen, Vlaanderen, 2330, Belgi...</td>\n",
              "      <td>(51.3580597, 4.8627541, 0.0)</td>\n",
              "      <td>51.358060</td>\n",
              "      <td>4.862754</td>\n",
              "      <td>0.0</td>\n",
              "      <td>False</td>\n",
              "    </tr>\n",
              "    <tr>\n",
              "      <th>11</th>\n",
              "      <td>12238</td>\n",
              "      <td>Driebergen, Nederland</td>\n",
              "      <td>(Driebergen, A12, Driebergen-Rijsenburg, Utrec...</td>\n",
              "      <td>(52.0651958, 5.2897704, 0.0)</td>\n",
              "      <td>52.065196</td>\n",
              "      <td>5.289770</td>\n",
              "      <td>0.0</td>\n",
              "      <td>Utrecht</td>\n",
              "    </tr>\n",
              "    <tr>\n",
              "      <th>12</th>\n",
              "      <td>12239</td>\n",
              "      <td>Veenendaal | Apeldoorn</td>\n",
              "      <td>None</td>\n",
              "      <td>None</td>\n",
              "      <td>NaN</td>\n",
              "      <td>NaN</td>\n",
              "      <td>NaN</td>\n",
              "      <td>False</td>\n",
              "    </tr>\n",
              "    <tr>\n",
              "      <th>13</th>\n",
              "      <td>12240</td>\n",
              "      <td>Teheran</td>\n",
              "      <td>(شهر تهران, فرهنگسرای شفق, بخش مرکزی شهرستان ت...</td>\n",
              "      <td>(35.7006177, 51.4013785, 0.0)</td>\n",
              "      <td>35.700618</td>\n",
              "      <td>51.401378</td>\n",
              "      <td>0.0</td>\n",
              "      <td>False</td>\n",
              "    </tr>\n",
              "    <tr>\n",
              "      <th>14</th>\n",
              "      <td>12241</td>\n",
              "      <td>Schiermonnikoog</td>\n",
              "      <td>(Schiermonnikoog, Fryslân, Nederland, (53.4833...</td>\n",
              "      <td>(53.48332935, 6.2027736660373805, 0.0)</td>\n",
              "      <td>53.483329</td>\n",
              "      <td>6.202774</td>\n",
              "      <td>0.0</td>\n",
              "      <td>Friesland (Fryslân)</td>\n",
              "    </tr>\n",
              "  </tbody>\n",
              "</table>\n",
              "</div>"
            ],
            "text/plain": [
              "    Unnamed: 0                        location  ... altitude             Province\n",
              "0        12227         Renkum, The Netherlands  ...      0.0           Gelderland\n",
              "1        12228   Noord-Holland en Zuid-Holland  ...      0.0         Zuid-Holland\n",
              "2        12229            Sin city / Amsterdam  ...      0.0                False\n",
              "3        12230      Heeswijk-Dinther, Bernheze  ...      0.0        Noord-Brabant\n",
              "4        12231  Hintham-Zuid, 's-Hertogenbosch  ...      0.0        Noord-Brabant\n",
              "5        12232           Grunobuurt, Groningen  ...      0.0            Groningen\n",
              "6        12233             Lochem-Zuid, Lochem  ...      NaN                False\n",
              "7        12234        ÜT: 36.098565,-80.311023  ...      NaN                False\n",
              "8        12235          BTS |﹙G﹚I﹣ᴅʟᴇ | TOP 🇵🇹  ...      NaN                False\n",
              "9        12236                     La Capitale  ...      0.0                False\n",
              "10       12237                    Merksplas 🇧🇪  ...      0.0                False\n",
              "11       12238           Driebergen, Nederland  ...      0.0              Utrecht\n",
              "12       12239          Veenendaal | Apeldoorn  ...      NaN                False\n",
              "13       12240                         Teheran  ...      0.0                False\n",
              "14       12241                 Schiermonnikoog  ...      0.0  Friesland (Fryslân)\n",
              "\n",
              "[15 rows x 8 columns]"
            ]
          },
          "metadata": {
            "tags": []
          },
          "execution_count": 42
        }
      ]
    },
    {
      "cell_type": "code",
      "metadata": {
        "id": "qdXleXX5EmkS",
        "outputId": "cfbef453-f81b-413f-e9d5-332d9b8b4cc7",
        "colab": {
          "base_uri": "https://localhost:8080/",
          "height": 34
        }
      },
      "source": [
        "# idx = 0\n",
        "allLocation_chunk.to_csv(\"allLocation_chunk\"+str(idx)+\".csv\", index=False)\n",
        "print(\"Geo processing completed....allLocation_chunk\"+str(idx) + \".csv\")"
      ],
      "execution_count": null,
      "outputs": [
        {
          "output_type": "stream",
          "text": [
            "Geo processing completed....allLocation_chunk8.csv\n"
          ],
          "name": "stdout"
        }
      ]
    },
    {
      "cell_type": "code",
      "metadata": {
        "id": "GdXACSqLisQ-"
      },
      "source": [
        "!cp allLocation_chunk8.csv drive/\"My Drive\"/\"Dutch Tweets\"/allLocation_chunk8.csv"
      ],
      "execution_count": null,
      "outputs": []
    },
    {
      "cell_type": "code",
      "metadata": {
        "id": "I_fTQIEfoskF"
      },
      "source": [
        "temp = pd.read_csv(\"allLocation_chunk8.csv\")"
      ],
      "execution_count": null,
      "outputs": []
    },
    {
      "cell_type": "code",
      "metadata": {
        "id": "DossbQdWQcry"
      },
      "source": [],
      "execution_count": null,
      "outputs": []
    }
  ]
}