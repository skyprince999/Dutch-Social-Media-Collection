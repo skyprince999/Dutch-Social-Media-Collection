{
  "nbformat": 4,
  "nbformat_minor": 0,
  "metadata": {
    "colab": {
      "provenance": [],
      "collapsed_sections": [],
      "toc_visible": true
    },
    "kernelspec": {
      "name": "python3",
      "display_name": "Python 3"
    }
  },
  "cells": [
    {
      "cell_type": "markdown",
      "metadata": {
        "id": "lzkmgmexIjnw"
      },
      "source": [
        "# Note on the stuff done in this notebook\n",
        "Date: 11th Nov 2020 \n",
        "\n",
        "1# In this notebook, we will use the GCP Cloud NLP API to find sentiments for Dutch tweets. This is part of the work given to the Amsterdam research group. \n",
        "\n",
        "Reading the excel files in pandas is causing a problem (due to some unnatural characters in the text files!! :D) \n",
        "\n",
        "So we are directly reading the Google Spreadsheet files.\n",
        "\n",
        "2# Next I realised that the Dutch sentiment analyzer was not working correctly. However the translated text was working okay. So if I want to analyze a Dutch tweet, I have to first translate it to English & then do the sentiment analysis\n",
        "\n",
        "Tried writing to a google sheet, (using gspread) but it didn't work because it failed due to the special character\n",
        "\n",
        "3# Then used the gspread utility to write a Dutch tweet and then translating it using the GOOGLETRANSLATE utility from GoogleSheets\n",
        "\n",
        "4# (21-Nov-2020) Updated the sheet to check for sentiment scores for all the available languages"
      ]
    },
    {
      "cell_type": "markdown",
      "metadata": {
        "id": "RwK8_NW7grZs"
      },
      "source": [
        "\n",
        "\n",
        "---\n",
        "# Install & import all the required packages\n"
      ]
    },
    {
      "cell_type": "code",
      "metadata": {
        "id": "NVHn5oerDZz2"
      },
      "source": [
        "!pip install --upgrade google-cloud-language"
      ],
      "execution_count": null,
      "outputs": []
    },
    {
      "cell_type": "code",
      "metadata": {
        "id": "0iClj2SbQID3"
      },
      "source": [
        "!pip install google-cloud-translate==2.0.1"
      ],
      "execution_count": null,
      "outputs": []
    },
    {
      "cell_type": "code",
      "metadata": {
        "id": "BS2QUb2DQO7E"
      },
      "source": [
        "!pip3 install gspread"
      ],
      "execution_count": null,
      "outputs": []
    },
    {
      "cell_type": "code",
      "metadata": {
        "id": "CUEap0YhDivk"
      },
      "source": [
        "# Imports the Google Cloud client library\n",
        "from google.cloud import language_v1\n",
        "\n",
        "import os\n",
        "import pandas as pd\n",
        "import numpy as np\n",
        "from google.colab import drive\n"
      ],
      "execution_count": null,
      "outputs": []
    },
    {
      "cell_type": "code",
      "metadata": {
        "colab": {
          "base_uri": "https://localhost:8080/"
        },
        "id": "T5DgTeDdhEH2",
        "outputId": "a2a59d48-2093-4735-f4aa-f29ecb78052f"
      },
      "source": [
        "# from google.colab import drive\n",
        "# drive.mount('/content/drive')"
      ],
      "execution_count": null,
      "outputs": [
        {
          "output_type": "stream",
          "text": [
            "Drive already mounted at /content/drive; to attempt to forcibly remount, call drive.mount(\"/content/drive\", force_remount=True).\n"
          ],
          "name": "stdout"
        }
      ]
    },
    {
      "cell_type": "markdown",
      "metadata": {
        "id": "kEj_Tm7Wgzkh"
      },
      "source": [
        "\n",
        "\n",
        "---\n",
        "# Instantiate the env variables\n"
      ]
    },
    {
      "cell_type": "code",
      "metadata": {
        "id": "trDNVWyAWbX3"
      },
      "source": [
        "os.environ[\"GOOGLE_APPLICATION_CREDENTIALS\"]=\"/content/API_Key.json\""
      ],
      "execution_count": null,
      "outputs": []
    },
    {
      "cell_type": "code",
      "metadata": {
        "id": "226r33SpDrIm"
      },
      "source": [
        "# Instantiates a client\n",
        "client = language_v1.LanguageServiceClient()"
      ],
      "execution_count": null,
      "outputs": []
    },
    {
      "cell_type": "code",
      "metadata": {
        "id": "bXyLkieSY7Qv"
      },
      "source": [
        "lang_support = ['zh', 'zh-Hant', 'en', 'fr', 'de', 'it', 'ja', 'ko', 'pt', 'ru', 'es' ]"
      ],
      "execution_count": null,
      "outputs": []
    },
    {
      "cell_type": "markdown",
      "metadata": {
        "id": "ojVPKH7Ug44a"
      },
      "source": [
        "\n",
        "\n",
        "---\n",
        "\n",
        "# Sentiment analysis service"
      ]
    },
    {
      "cell_type": "code",
      "metadata": {
        "id": "6-5VvrISEfqY"
      },
      "source": [
        "# The text to analyze\n",
        "text = u\"RT @ deedeedoodar1: The food was ridiculously bad\"\n",
        "document = language_v1.Document(content=text, language = \"en\", type_=language_v1.Document.Type.PLAIN_TEXT)"
      ],
      "execution_count": null,
      "outputs": []
    },
    {
      "cell_type": "code",
      "metadata": {
        "id": "ADNPRKN6ExhM"
      },
      "source": [
        "# Detects the sentiment of the text\n",
        "sentiment = client.analyze_sentiment(request={'document': document}).document_sentiment"
      ],
      "execution_count": null,
      "outputs": []
    },
    {
      "cell_type": "code",
      "metadata": {
        "id": "9nPMnMcZE0KF",
        "colab": {
          "base_uri": "https://localhost:8080/"
        },
        "outputId": "d662fb27-3026-4bb0-f8d1-9fce21f79cb1"
      },
      "source": [
        "print(\"Text: {}\".format(text))\n",
        "print(\"Sentiment: {}, {}\".format(sentiment.score, sentiment.magnitude))"
      ],
      "execution_count": null,
      "outputs": [
        {
          "output_type": "stream",
          "text": [
            "Text: RT @ deedeedoodar1: The food was ridiculously bad\n",
            "Sentiment: -0.800000011920929, 0.800000011920929\n"
          ],
          "name": "stdout"
        }
      ]
    },
    {
      "cell_type": "code",
      "metadata": {
        "id": "eSWlJylVFqtk"
      },
      "source": [
        "#!ls \"drive/My Drive/Dutch Tweets/Tweets Excel_v3\""
      ],
      "execution_count": null,
      "outputs": []
    },
    {
      "cell_type": "code",
      "metadata": {
        "id": "U9dwpEpEF9nX"
      },
      "source": [
        "#!cp \"drive/My Drive/Dutch Tweets/Tweets Excel_v3/allData_chunk5.xlsx\" ."
      ],
      "execution_count": null,
      "outputs": []
    },
    {
      "cell_type": "code",
      "metadata": {
        "id": "xghcSpAHGIzE"
      },
      "source": [
        "#import pandas as pd\n",
        "\n",
        "# NOTE:: reading directly via pandas was causing an error due to special chars in the tweet text "
      ],
      "execution_count": null,
      "outputs": []
    },
    {
      "cell_type": "code",
      "metadata": {
        "id": "cPlxUIUdHI1J"
      },
      "source": [
        "#gc = gspread.service_account() << This was giving an error of gspread not defined"
      ],
      "execution_count": null,
      "outputs": []
    },
    {
      "cell_type": "markdown",
      "metadata": {
        "id": "9qGKZ8tlNjKF"
      },
      "source": [
        "\n",
        "\n",
        "---\n",
        "# Read data from Google Sheets and Update the sample tweets in Dutch translation (sentiment)\n"
      ]
    },
    {
      "cell_type": "code",
      "metadata": {
        "id": "8gCBtFf1HLu8"
      },
      "source": [
        "from google.colab import auth\n",
        "auth.authenticate_user()\n",
        "\n",
        "import gspread\n",
        "from oauth2client.client import GoogleCredentials\n",
        "\n",
        "gc = gspread.authorize(GoogleCredentials.get_application_default())"
      ],
      "execution_count": null,
      "outputs": []
    },
    {
      "cell_type": "code",
      "metadata": {
        "id": "32oQ7CCgHx-7"
      },
      "source": [
        "wks = gc.open(\"allData_chunk5\").sheet1 # You dont have to givve the path to the gsheet!!! "
      ],
      "execution_count": null,
      "outputs": []
    },
    {
      "cell_type": "code",
      "metadata": {
        "id": "BpGHYX03IAZa",
        "colab": {
          "base_uri": "https://localhost:8080/"
        },
        "outputId": "e4a2c866-d18b-411f-bee8-eaf7f732baf1"
      },
      "source": [
        "allData5 = pd.DataFrame(wks.get_all_records())\n",
        "print(allData5.shape)"
      ],
      "execution_count": null,
      "outputs": [
        {
          "output_type": "stream",
          "text": [
            "(27104, 20)\n"
          ],
          "name": "stdout"
        }
      ]
    },
    {
      "cell_type": "code",
      "metadata": {
        "id": "eOXJMJ_fIef_",
        "colab": {
          "base_uri": "https://localhost:8080/",
          "height": 513
        },
        "outputId": "be5624b5-b6ce-4b16-dcfa-b649dfe44f41"
      },
      "source": [
        "sample = allData5.sample(100).reset_index()\n",
        "print(sample.shape)\n",
        "sample.head()"
      ],
      "execution_count": null,
      "outputs": [
        {
          "output_type": "stream",
          "text": [
            "(100, 21)\n"
          ],
          "name": "stdout"
        },
        {
          "output_type": "execute_result",
          "data": {
            "text/html": [
              "<div>\n",
              "<style scoped>\n",
              "    .dataframe tbody tr th:only-of-type {\n",
              "        vertical-align: middle;\n",
              "    }\n",
              "\n",
              "    .dataframe tbody tr th {\n",
              "        vertical-align: top;\n",
              "    }\n",
              "\n",
              "    .dataframe thead th {\n",
              "        text-align: right;\n",
              "    }\n",
              "</style>\n",
              "<table border=\"1\" class=\"dataframe\">\n",
              "  <thead>\n",
              "    <tr style=\"text-align: right;\">\n",
              "      <th></th>\n",
              "      <th>index</th>\n",
              "      <th>full_text</th>\n",
              "      <th>text Translation</th>\n",
              "      <th>created_at</th>\n",
              "      <th>screen_name</th>\n",
              "      <th>description</th>\n",
              "      <th>desc Translation</th>\n",
              "      <th>location</th>\n",
              "      <th>Weekday</th>\n",
              "      <th>Month</th>\n",
              "      <th>Year</th>\n",
              "      <th>Day</th>\n",
              "      <th>point_info</th>\n",
              "      <th>point</th>\n",
              "      <th>latitude</th>\n",
              "      <th>longitude</th>\n",
              "      <th>altitude</th>\n",
              "      <th>Province</th>\n",
              "      <th>hisco_standard</th>\n",
              "      <th>hisco_code</th>\n",
              "      <th>Industry</th>\n",
              "    </tr>\n",
              "  </thead>\n",
              "  <tbody>\n",
              "    <tr>\n",
              "      <th>0</th>\n",
              "      <td>8778</td>\n",
              "      <td>RT @MDHeeremans: U moet zich constructief opst...</td>\n",
              "      <td>RT @MDHeeremans: You must establish constructi...</td>\n",
              "      <td>Tue Sep 01 13:09:01 +0000 2020</td>\n",
              "      <td>natalia4u2</td>\n",
              "      <td>Love studie Bedrijfseconomie❤ Muay Thai❤Bikram...</td>\n",
              "      <td>Love Bedrijfseconomie❤ study Muay Thai❤Bikram ...</td>\n",
              "      <td>Amsterdam, Nederland</td>\n",
              "      <td>1</td>\n",
              "      <td>9</td>\n",
              "      <td>2020</td>\n",
              "      <td>1</td>\n",
              "      <td>Amsterdam, Noord-Holland, Nederland</td>\n",
              "      <td>(52.3727598, 4.8936041, 0.0)</td>\n",
              "      <td>52.3728</td>\n",
              "      <td>4.8936</td>\n",
              "      <td>0</td>\n",
              "      <td>Noord-Holland</td>\n",
              "      <td></td>\n",
              "      <td></td>\n",
              "      <td>FALSE</td>\n",
              "    </tr>\n",
              "    <tr>\n",
              "      <th>1</th>\n",
              "      <td>22917</td>\n",
              "      <td>RT @fvdemocratie: Géén permanente verandering,...</td>\n",
              "      <td>RT @fvdemocratie: No permanent change, not a n...</td>\n",
              "      <td>Wed May 20 21:26:01 +0000 2020</td>\n",
              "      <td>DoornGijs</td>\n",
              "      <td></td>\n",
              "      <td></td>\n",
              "      <td></td>\n",
              "      <td>2</td>\n",
              "      <td>5</td>\n",
              "      <td>2020</td>\n",
              "      <td>20</td>\n",
              "      <td></td>\n",
              "      <td></td>\n",
              "      <td></td>\n",
              "      <td></td>\n",
              "      <td>0</td>\n",
              "      <td>FALSE</td>\n",
              "      <td></td>\n",
              "      <td></td>\n",
              "      <td>FALSE</td>\n",
              "    </tr>\n",
              "    <tr>\n",
              "      <th>2</th>\n",
              "      <td>25146</td>\n",
              "      <td>RT @Soundsenz: Miskien moet sigaretmaatskappye...</td>\n",
              "      <td>RT @Soundsenz: miskien must maatskappye cigare...</td>\n",
              "      <td>Sat Jun 27 06:46:25 +0000 2020</td>\n",
              "      <td>RootzLife</td>\n",
              "      <td>Avon &amp; Justine Rep, Administrator, Loves music...</td>\n",
              "      <td>Avon &amp; Justine Rep, Administrator, Loves Music...</td>\n",
              "      <td>South Africa</td>\n",
              "      <td>5</td>\n",
              "      <td>6</td>\n",
              "      <td>2020</td>\n",
              "      <td>27</td>\n",
              "      <td>South Africa</td>\n",
              "      <td>(-28.8166236, 24.991639, 0.0)</td>\n",
              "      <td>-28.8166</td>\n",
              "      <td>24.9916</td>\n",
              "      <td>0</td>\n",
              "      <td>FALSE</td>\n",
              "      <td></td>\n",
              "      <td></td>\n",
              "      <td>FALSE</td>\n",
              "    </tr>\n",
              "    <tr>\n",
              "      <th>3</th>\n",
              "      <td>25709</td>\n",
              "      <td>@trotsopdeboer Als Nederland goed uit deze cri...</td>\n",
              "      <td>@trotsopdeboer Netherlands If good comes out o...</td>\n",
              "      <td>Fri Apr 03 09:40:26 +0000 2020</td>\n",
              "      <td>come2twit</td>\n",
              "      <td>Mundus vult decipi, ergo decipiatur\\n\\n🎶 It se...</td>\n",
              "      <td>Mundus fills decipi, ergo decipiatur\\n\\n🎶 It s...</td>\n",
              "      <td>s-Hertogenbosch, Nederland</td>\n",
              "      <td>4</td>\n",
              "      <td>4</td>\n",
              "      <td>2020</td>\n",
              "      <td>3</td>\n",
              "      <td></td>\n",
              "      <td></td>\n",
              "      <td></td>\n",
              "      <td></td>\n",
              "      <td></td>\n",
              "      <td></td>\n",
              "      <td>boer</td>\n",
              "      <td>61110</td>\n",
              "      <td>TRUE</td>\n",
              "    </tr>\n",
              "    <tr>\n",
              "      <th>4</th>\n",
              "      <td>6504</td>\n",
              "      <td>RT @georgevanhouts: De nu meer dan lachwekkend...</td>\n",
              "      <td>RT @georgevanhouts: The now more than risible ...</td>\n",
              "      <td>Sun Jun 07 18:26:06 +0000 2020</td>\n",
              "      <td>HansWinger</td>\n",
              "      <td>nondualiteit | complementaire geneeswijzen en ...</td>\n",
              "      <td>nonduality | complementary medicine and health...</td>\n",
              "      <td></td>\n",
              "      <td>6</td>\n",
              "      <td>6</td>\n",
              "      <td>2020</td>\n",
              "      <td>7</td>\n",
              "      <td></td>\n",
              "      <td></td>\n",
              "      <td></td>\n",
              "      <td></td>\n",
              "      <td>0</td>\n",
              "      <td>FALSE</td>\n",
              "      <td></td>\n",
              "      <td></td>\n",
              "      <td>FALSE</td>\n",
              "    </tr>\n",
              "  </tbody>\n",
              "</table>\n",
              "</div>"
            ],
            "text/plain": [
              "   index                                          full_text  ... hisco_code Industry\n",
              "0   8778  RT @MDHeeremans: U moet zich constructief opst...  ...               FALSE\n",
              "1  22917  RT @fvdemocratie: Géén permanente verandering,...  ...               FALSE\n",
              "2  25146  RT @Soundsenz: Miskien moet sigaretmaatskappye...  ...               FALSE\n",
              "3  25709  @trotsopdeboer Als Nederland goed uit deze cri...  ...      61110     TRUE\n",
              "4   6504  RT @georgevanhouts: De nu meer dan lachwekkend...  ...               FALSE\n",
              "\n",
              "[5 rows x 21 columns]"
            ]
          },
          "metadata": {
            "tags": []
          },
          "execution_count": 20
        }
      ]
    },
    {
      "cell_type": "code",
      "metadata": {
        "id": "Q_DZ218uJS4B"
      },
      "source": [
        "score = list()\n",
        "magnitude = list()\n",
        "\n",
        "for idx, row in sample.iterrows():\n",
        "  # The text to analyze\n",
        "  text = row[\"text Translation\"]\n",
        "  \n",
        "  # Detects the sentiment of the text\n",
        "  try:\n",
        "    document = language_v1.Document(content=text, language =\"en\",type_=language_v1.Document.Type.PLAIN_TEXT)\n",
        "    sentiment = client.analyze_sentiment(request={'document': document}).document_sentiment\n",
        "    score.append(sentiment.score)\n",
        "    magnitude.append(sentiment.magnitude)\n",
        "  except: \n",
        "    print(\"Error: \", text)\n",
        "    score.append(-1)\n",
        "    magnitude.append(-1)\n",
        "  \n",
        "  \n",
        "\n",
        "sample['Sentiment Score'] = score\n",
        "sample['Sentiment MAgnitude'] = magnitude"
      ],
      "execution_count": null,
      "outputs": []
    },
    {
      "cell_type": "code",
      "metadata": {
        "id": "ZNvtdT8LK9gw",
        "colab": {
          "base_uri": "https://localhost:8080/",
          "height": 1000
        },
        "outputId": "67142733-3b58-4dbc-85f5-957b03437633"
      },
      "source": [
        "sample.head(15)"
      ],
      "execution_count": null,
      "outputs": [
        {
          "output_type": "execute_result",
          "data": {
            "text/html": [
              "<div>\n",
              "<style scoped>\n",
              "    .dataframe tbody tr th:only-of-type {\n",
              "        vertical-align: middle;\n",
              "    }\n",
              "\n",
              "    .dataframe tbody tr th {\n",
              "        vertical-align: top;\n",
              "    }\n",
              "\n",
              "    .dataframe thead th {\n",
              "        text-align: right;\n",
              "    }\n",
              "</style>\n",
              "<table border=\"1\" class=\"dataframe\">\n",
              "  <thead>\n",
              "    <tr style=\"text-align: right;\">\n",
              "      <th></th>\n",
              "      <th>index</th>\n",
              "      <th>full_text</th>\n",
              "      <th>text Translation</th>\n",
              "      <th>created_at</th>\n",
              "      <th>screen_name</th>\n",
              "      <th>description</th>\n",
              "      <th>desc Translation</th>\n",
              "      <th>location</th>\n",
              "      <th>Weekday</th>\n",
              "      <th>Month</th>\n",
              "      <th>Year</th>\n",
              "      <th>Day</th>\n",
              "      <th>point_info</th>\n",
              "      <th>point</th>\n",
              "      <th>latitude</th>\n",
              "      <th>longitude</th>\n",
              "      <th>altitude</th>\n",
              "      <th>Province</th>\n",
              "      <th>hisco_standard</th>\n",
              "      <th>hisco_code</th>\n",
              "      <th>Industry</th>\n",
              "      <th>Sentiment Score</th>\n",
              "      <th>Sentiment MAgnitude</th>\n",
              "    </tr>\n",
              "  </thead>\n",
              "  <tbody>\n",
              "    <tr>\n",
              "      <th>0</th>\n",
              "      <td>18188</td>\n",
              "      <td>@NOS waarom is het Corona-liveblog gesloten?</td>\n",
              "      <td>@NOS why Corona live blog is closed?</td>\n",
              "      <td>Thu Mar 12 10:18:23 +0000 2020</td>\n",
              "      <td>bpenris</td>\n",
              "      <td>I like trains. And computers. And stuff. And i...</td>\n",
              "      <td>I like trains. And computers. And stuff. And i...</td>\n",
              "      <td></td>\n",
              "      <td>3</td>\n",
              "      <td>3</td>\n",
              "      <td>2020</td>\n",
              "      <td>12</td>\n",
              "      <td></td>\n",
              "      <td></td>\n",
              "      <td></td>\n",
              "      <td></td>\n",
              "      <td>0</td>\n",
              "      <td>FALSE</td>\n",
              "      <td></td>\n",
              "      <td></td>\n",
              "      <td>FALSE</td>\n",
              "      <td>-0.5</td>\n",
              "      <td>0.5</td>\n",
              "    </tr>\n",
              "    <tr>\n",
              "      <th>1</th>\n",
              "      <td>1232</td>\n",
              "      <td>RT @luchtvaart: VAE verbiedt bijna alle vlucht...</td>\n",
              "      <td>RT @luchtvaart: UAE bans almost all flights to...</td>\n",
              "      <td>Mon Feb 03 21:56:40 +0000 2020</td>\n",
              "      <td>kjwoerkom</td>\n",
              "      <td>Luchtvaartjournalist | @luchtvaart | Luchtvaar...</td>\n",
              "      <td>Aviation Journalist | @luchtvaart | Aviation N...</td>\n",
              "      <td>Schiphol</td>\n",
              "      <td>0</td>\n",
              "      <td>2</td>\n",
              "      <td>2020</td>\n",
              "      <td>3</td>\n",
              "      <td>Schiphol, Haarlemmermeer, Noord-Holland, Neder...</td>\n",
              "      <td>(52.3080392, 4.7621975, 0.0)</td>\n",
              "      <td>52.308</td>\n",
              "      <td>4.7622</td>\n",
              "      <td>0</td>\n",
              "      <td>Noord-Holland</td>\n",
              "      <td></td>\n",
              "      <td></td>\n",
              "      <td>FALSE</td>\n",
              "      <td>-0.5</td>\n",
              "      <td>0.5</td>\n",
              "    </tr>\n",
              "    <tr>\n",
              "      <th>2</th>\n",
              "      <td>20665</td>\n",
              "      <td>RT @MarcoZannoniCOT: Nieuwe tips voor gemeente...</td>\n",
              "      <td>RT @MarcoZannoniCOT: New Tips municipalities /...</td>\n",
              "      <td>Mon Mar 30 07:33:01 +0000 2020</td>\n",
              "      <td>CyrielHamstra</td>\n",
              "      <td>1973 - ❤️&amp;💙💙💙 - lente &amp; zomer ☀️ - beeld &amp; gel...</td>\n",
              "      <td>1973 - ❤️ &amp; 💙💙💙 - Spring &amp; summer ☀️ - picture...</td>\n",
              "      <td>Zuidlaren</td>\n",
              "      <td>0</td>\n",
              "      <td>3</td>\n",
              "      <td>2020</td>\n",
              "      <td>30</td>\n",
              "      <td>Zuidlaren, Tynaarlo, Drenthe, Nederland</td>\n",
              "      <td>(53.08584745, 6.6966895314804304, 0.0)</td>\n",
              "      <td>53.0858</td>\n",
              "      <td>6.69669</td>\n",
              "      <td>0</td>\n",
              "      <td>Drenthe</td>\n",
              "      <td>gemeente</td>\n",
              "      <td>31090</td>\n",
              "      <td>TRUE</td>\n",
              "      <td>0.0</td>\n",
              "      <td>0.0</td>\n",
              "    </tr>\n",
              "    <tr>\n",
              "      <th>3</th>\n",
              "      <td>26098</td>\n",
              "      <td>@kuifmees Testen geneest ook geen Corona.</td>\n",
              "      <td>@kuifmees Testing heals no Corona.</td>\n",
              "      <td>Tue Mar 10 10:58:25 +0000 2020</td>\n",
              "      <td>AlbertZvld</td>\n",
              "      <td></td>\n",
              "      <td></td>\n",
              "      <td></td>\n",
              "      <td>1</td>\n",
              "      <td>3</td>\n",
              "      <td>2020</td>\n",
              "      <td>10</td>\n",
              "      <td></td>\n",
              "      <td></td>\n",
              "      <td></td>\n",
              "      <td></td>\n",
              "      <td>0</td>\n",
              "      <td>FALSE</td>\n",
              "      <td></td>\n",
              "      <td></td>\n",
              "      <td>FALSE</td>\n",
              "      <td>0.4</td>\n",
              "      <td>0.4</td>\n",
              "    </tr>\n",
              "    <tr>\n",
              "      <th>4</th>\n",
              "      <td>24459</td>\n",
              "      <td>Geen ongemakkelijke zoenpartijen meer, geen vo...</td>\n",
              "      <td>No awkward kiss parties, no national anthem at...</td>\n",
              "      <td>Tue Aug 18 17:11:40 +0000 2020</td>\n",
              "      <td>fkwebeman</td>\n",
              "      <td>Deugende ingenieur. Man van een juf. Bezocht e...</td>\n",
              "      <td>Deug Ende engineer. Husband of a teacher. Visi...</td>\n",
              "      <td></td>\n",
              "      <td>1</td>\n",
              "      <td>8</td>\n",
              "      <td>2020</td>\n",
              "      <td>18</td>\n",
              "      <td></td>\n",
              "      <td></td>\n",
              "      <td></td>\n",
              "      <td></td>\n",
              "      <td>0</td>\n",
              "      <td>FALSE</td>\n",
              "      <td></td>\n",
              "      <td></td>\n",
              "      <td>FALSE</td>\n",
              "      <td>0.0</td>\n",
              "      <td>0.2</td>\n",
              "    </tr>\n",
              "    <tr>\n",
              "      <th>5</th>\n",
              "      <td>1039</td>\n",
              "      <td>RT @TimesEurope: U.S. whipping up panic, China...</td>\n",
              "      <td>RT @TimesEurope: U.S. whipping up panic, says ...</td>\n",
              "      <td>Mon Feb 03 21:39:34 +0000 2020</td>\n",
              "      <td>marco_kerkhofs</td>\n",
              "      <td>🔴#TERRORISM🔴#CHINA🔴🕌🕍🏥#ISLAM #ISRAEL #USA #EU🔴...</td>\n",
              "      <td>🔴 TERRORISM🔴 # # # CHINA🔴🕌🕍🏥 ISLAM #ISRAEL #US...</td>\n",
              "      <td>Amsterdam</td>\n",
              "      <td>0</td>\n",
              "      <td>2</td>\n",
              "      <td>2020</td>\n",
              "      <td>3</td>\n",
              "      <td>Amsterdam, Noord-Holland, Nederland</td>\n",
              "      <td>(52.3727598, 4.8936041, 0.0)</td>\n",
              "      <td>52.3728</td>\n",
              "      <td>4.8936</td>\n",
              "      <td>0</td>\n",
              "      <td>Noord-Holland</td>\n",
              "      <td></td>\n",
              "      <td></td>\n",
              "      <td>FALSE</td>\n",
              "      <td>-0.3</td>\n",
              "      <td>0.3</td>\n",
              "    </tr>\n",
              "    <tr>\n",
              "      <th>6</th>\n",
              "      <td>2999</td>\n",
              "      <td>RT @wierdduk: Afgelopen weekend in Londen: htt...</td>\n",
              "      <td>RT @wierdduk: Last weekend in London: https://...</td>\n",
              "      <td>Tue Sep 01 08:01:43 +0000 2020</td>\n",
              "      <td>VerkerkSok</td>\n",
              "      <td></td>\n",
              "      <td></td>\n",
              "      <td></td>\n",
              "      <td>1</td>\n",
              "      <td>9</td>\n",
              "      <td>2020</td>\n",
              "      <td>1</td>\n",
              "      <td></td>\n",
              "      <td></td>\n",
              "      <td></td>\n",
              "      <td></td>\n",
              "      <td>0</td>\n",
              "      <td>FALSE</td>\n",
              "      <td></td>\n",
              "      <td></td>\n",
              "      <td>FALSE</td>\n",
              "      <td>0.0</td>\n",
              "      <td>0.0</td>\n",
              "    </tr>\n",
              "    <tr>\n",
              "      <th>7</th>\n",
              "      <td>5195</td>\n",
              "      <td>@joyce2104 @EenVandaag En men dat wil bereiken...</td>\n",
              "      <td>@ Joyce2104 @EenVandaag And it wants to achiev...</td>\n",
              "      <td>Mon Aug 31 18:49:15 +0000 2020</td>\n",
              "      <td>DrutenOtto</td>\n",
              "      <td></td>\n",
              "      <td></td>\n",
              "      <td></td>\n",
              "      <td>0</td>\n",
              "      <td>8</td>\n",
              "      <td>2020</td>\n",
              "      <td>31</td>\n",
              "      <td></td>\n",
              "      <td></td>\n",
              "      <td></td>\n",
              "      <td></td>\n",
              "      <td>0</td>\n",
              "      <td>FALSE</td>\n",
              "      <td></td>\n",
              "      <td></td>\n",
              "      <td>FALSE</td>\n",
              "      <td>-0.1</td>\n",
              "      <td>0.7</td>\n",
              "    </tr>\n",
              "    <tr>\n",
              "      <th>8</th>\n",
              "      <td>8012</td>\n",
              "      <td>RT @mind_spin: Je kunt wel boven de wet gaan l...</td>\n",
              "      <td>RT @mind_spin: You can start living above the ...</td>\n",
              "      <td>Mon Aug 17 20:18:37 +0000 2020</td>\n",
              "      <td>appie1953</td>\n",
              "      <td></td>\n",
              "      <td></td>\n",
              "      <td></td>\n",
              "      <td>0</td>\n",
              "      <td>8</td>\n",
              "      <td>2020</td>\n",
              "      <td>17</td>\n",
              "      <td></td>\n",
              "      <td></td>\n",
              "      <td></td>\n",
              "      <td></td>\n",
              "      <td>0</td>\n",
              "      <td>FALSE</td>\n",
              "      <td>min</td>\n",
              "      <td>7410</td>\n",
              "      <td>TRUE</td>\n",
              "      <td>0.0</td>\n",
              "      <td>0.0</td>\n",
              "    </tr>\n",
              "    <tr>\n",
              "      <th>9</th>\n",
              "      <td>22001</td>\n",
              "      <td>RT @ProSyn: The @IMFNews estimates that govern...</td>\n",
              "      <td>RT @ProSyn: The @IMFNews estimates That Govern...</td>\n",
              "      <td>Thu Sep 03 11:04:19 +0000 2020</td>\n",
              "      <td>macharoesink</td>\n",
              "      <td>as an art historian and curator involved in ar...</td>\n",
              "      <td>as an art historian and curator Involved in ar...</td>\n",
              "      <td>The Netherlands</td>\n",
              "      <td>3</td>\n",
              "      <td>9</td>\n",
              "      <td>2020</td>\n",
              "      <td>3</td>\n",
              "      <td>Nederland</td>\n",
              "      <td>(52.5001698, 5.7480821, 0.0)</td>\n",
              "      <td>52.5002</td>\n",
              "      <td>5.74808</td>\n",
              "      <td>0</td>\n",
              "      <td>Flevoland</td>\n",
              "      <td></td>\n",
              "      <td></td>\n",
              "      <td>FALSE</td>\n",
              "      <td>-0.4</td>\n",
              "      <td>0.4</td>\n",
              "    </tr>\n",
              "    <tr>\n",
              "      <th>10</th>\n",
              "      <td>20833</td>\n",
              "      <td>RT @debitcoinshow: This Wednesday we have a ve...</td>\n",
              "      <td>RT @debitcoinshow: This Wednesday we have a ve...</td>\n",
              "      <td>Tue Feb 11 09:12:27 +0000 2020</td>\n",
              "      <td>BitcoinMagNL</td>\n",
              "      <td>Het laatste #bitcoin nieuws. Blijf op de hoogt...</td>\n",
              "      <td>The latest news #bitcoin. Keep track of the fi...</td>\n",
              "      <td>Amsterdam</td>\n",
              "      <td>1</td>\n",
              "      <td>2</td>\n",
              "      <td>2020</td>\n",
              "      <td>11</td>\n",
              "      <td>Amsterdam, Noord-Holland, Nederland</td>\n",
              "      <td>(52.3727598, 4.8936041, 0.0)</td>\n",
              "      <td>52.3728</td>\n",
              "      <td>4.8936</td>\n",
              "      <td>0</td>\n",
              "      <td>Noord-Holland</td>\n",
              "      <td></td>\n",
              "      <td></td>\n",
              "      <td>FALSE</td>\n",
              "      <td>0.2</td>\n",
              "      <td>0.4</td>\n",
              "    </tr>\n",
              "    <tr>\n",
              "      <th>11</th>\n",
              "      <td>25464</td>\n",
              "      <td>Echter, gooien de ontwikkelingen rond het #cor...</td>\n",
              "      <td>However, throwing the developments around the ...</td>\n",
              "      <td>Tue Aug 18 17:50:17 +0000 2020</td>\n",
              "      <td>WPGResearch</td>\n",
              "      <td>WPG Research is het full-service marktonderzoe...</td>\n",
              "      <td>WPG Research has found are the full-service ma...</td>\n",
              "      <td>Oosterbeek</td>\n",
              "      <td>1</td>\n",
              "      <td>8</td>\n",
              "      <td>2020</td>\n",
              "      <td>18</td>\n",
              "      <td>Oosterbeek, Renkum, Gelderland, Nederland</td>\n",
              "      <td>(51.98510305, 5.837984202742634, 0.0)</td>\n",
              "      <td>51.9851</td>\n",
              "      <td>5.83798</td>\n",
              "      <td>0</td>\n",
              "      <td>Gelderland</td>\n",
              "      <td></td>\n",
              "      <td></td>\n",
              "      <td>FALSE</td>\n",
              "      <td>-0.2</td>\n",
              "      <td>0.5</td>\n",
              "    </tr>\n",
              "    <tr>\n",
              "      <th>12</th>\n",
              "      <td>2642</td>\n",
              "      <td>@Ce62581086 Klok, klepel.  https://t.co/K0EG6p...</td>\n",
              "      <td>@ Ce62581086 Bell clapper. https://t.co/K0EG6p...</td>\n",
              "      <td>Mon Aug 31 18:44:19 +0000 2020</td>\n",
              "      <td>miss_poez</td>\n",
              "      <td>niets aan toe te voegen</td>\n",
              "      <td>nothing to add</td>\n",
              "      <td></td>\n",
              "      <td>0</td>\n",
              "      <td>8</td>\n",
              "      <td>2020</td>\n",
              "      <td>31</td>\n",
              "      <td></td>\n",
              "      <td></td>\n",
              "      <td></td>\n",
              "      <td></td>\n",
              "      <td>0</td>\n",
              "      <td>FALSE</td>\n",
              "      <td></td>\n",
              "      <td></td>\n",
              "      <td>FALSE</td>\n",
              "      <td>0.2</td>\n",
              "      <td>0.5</td>\n",
              "    </tr>\n",
              "    <tr>\n",
              "      <th>13</th>\n",
              "      <td>9770</td>\n",
              "      <td>RT @rivm: Sinds gisteren zijn er vijf patiënte...</td>\n",
              "      <td>RT @rivm: Since yesterday, five deceased patie...</td>\n",
              "      <td>Fri Mar 13 16:11:43 +0000 2020</td>\n",
              "      <td>Passagier2</td>\n",
              "      <td>Re🔄Tweeter 🇳🇱</td>\n",
              "      <td>Re🔄Tweeter 🇳🇱</td>\n",
              "      <td>Nederland</td>\n",
              "      <td>4</td>\n",
              "      <td>3</td>\n",
              "      <td>2020</td>\n",
              "      <td>13</td>\n",
              "      <td>Nederland</td>\n",
              "      <td>(52.5001698, 5.7480821, 0.0)</td>\n",
              "      <td>52.5002</td>\n",
              "      <td>5.74808</td>\n",
              "      <td>0</td>\n",
              "      <td>Flevoland</td>\n",
              "      <td>patiënte, patiënt</td>\n",
              "      <td>-2, -2</td>\n",
              "      <td>TRUE</td>\n",
              "      <td>-0.1</td>\n",
              "      <td>0.4</td>\n",
              "    </tr>\n",
              "    <tr>\n",
              "      <th>14</th>\n",
              "      <td>19312</td>\n",
              "      <td>RT @masaraht: Dai? 👉 The spread of the new cor...</td>\n",
              "      <td>RT @masaraht: Dai? 👉 The spread of the new cor...</td>\n",
              "      <td>Tue Jun 16 10:15:22 +0000 2020</td>\n",
              "      <td>SamueleMurtinu</td>\n",
              "      <td>Full Professor @UtrechtUni @UniUtrecht @USE_UU...</td>\n",
              "      <td>Full Professor @UtrechtUni @UniUtrecht @USE_UU...</td>\n",
              "      <td>Amsterdam, The Netherlands</td>\n",
              "      <td>1</td>\n",
              "      <td>6</td>\n",
              "      <td>2020</td>\n",
              "      <td>16</td>\n",
              "      <td>Amsterdam, Noord-Holland, Nederland</td>\n",
              "      <td>(52.3727598, 4.8936041, 0.0)</td>\n",
              "      <td>52.3728</td>\n",
              "      <td>4.8936</td>\n",
              "      <td>0</td>\n",
              "      <td>Noord-Holland</td>\n",
              "      <td></td>\n",
              "      <td></td>\n",
              "      <td>FALSE</td>\n",
              "      <td>0.0</td>\n",
              "      <td>0.1</td>\n",
              "    </tr>\n",
              "  </tbody>\n",
              "</table>\n",
              "</div>"
            ],
            "text/plain": [
              "    index  ... Sentiment MAgnitude\n",
              "0   18188  ...                 0.5\n",
              "1    1232  ...                 0.5\n",
              "2   20665  ...                 0.0\n",
              "3   26098  ...                 0.4\n",
              "4   24459  ...                 0.2\n",
              "5    1039  ...                 0.3\n",
              "6    2999  ...                 0.0\n",
              "7    5195  ...                 0.7\n",
              "8    8012  ...                 0.0\n",
              "9   22001  ...                 0.4\n",
              "10  20833  ...                 0.4\n",
              "11  25464  ...                 0.5\n",
              "12   2642  ...                 0.5\n",
              "13   9770  ...                 0.4\n",
              "14  19312  ...                 0.1\n",
              "\n",
              "[15 rows x 23 columns]"
            ]
          },
          "metadata": {
            "tags": []
          },
          "execution_count": 30
        }
      ]
    },
    {
      "cell_type": "markdown",
      "metadata": {
        "id": "4oa6cyH4PKIn"
      },
      "source": [
        "\n",
        "\n",
        "---\n",
        "\n",
        "# Read cells from Google sheets"
      ]
    },
    {
      "cell_type": "code",
      "metadata": {
        "id": "IWF7YcQELb4t",
        "colab": {
          "base_uri": "https://localhost:8080/"
        },
        "outputId": "6281a6a8-70c1-4937-eca8-c33d1132bf83"
      },
      "source": [
        "import numpy as np \n",
        "np.mean(magnitude)"
      ],
      "execution_count": null,
      "outputs": [
        {
          "output_type": "execute_result",
          "data": {
            "text/plain": [
              "0.7220000011473894"
            ]
          },
          "metadata": {
            "tags": []
          },
          "execution_count": 31
        }
      ]
    },
    {
      "cell_type": "code",
      "metadata": {
        "id": "DqrGGnQLMlRq",
        "colab": {
          "base_uri": "https://localhost:8080/"
        },
        "outputId": "eb49bb57-e1e7-42e4-b0be-5d44c1ca3de3"
      },
      "source": [
        "np.mean(score)"
      ],
      "execution_count": null,
      "outputs": [
        {
          "output_type": "execute_result",
          "data": {
            "text/plain": [
              "-0.12100000202655792"
            ]
          },
          "metadata": {
            "tags": []
          },
          "execution_count": 32
        }
      ]
    },
    {
      "cell_type": "code",
      "metadata": {
        "id": "BwuIM6VEUV5P"
      },
      "source": [
        "sh = gc.create('Sample Dutch Sentiment Analysis')"
      ],
      "execution_count": null,
      "outputs": []
    },
    {
      "cell_type": "code",
      "metadata": {
        "id": "RJJWVzMiWAq_"
      },
      "source": [
        "worksheet = sh.sheet1   #add_worksheet(title=\"Sheet 1\", rows=\"120\", cols=\"25\")"
      ],
      "execution_count": null,
      "outputs": []
    },
    {
      "cell_type": "code",
      "metadata": {
        "id": "ktZYU3YJXFD-",
        "colab": {
          "base_uri": "https://localhost:8080/"
        },
        "outputId": "44f4ab0a-fede-4e63-adb7-7fdea52e1244"
      },
      "source": [
        "worksheet.insert_row(sample.columns.values.tolist())"
      ],
      "execution_count": null,
      "outputs": [
        {
          "output_type": "execute_result",
          "data": {
            "text/plain": [
              "{'spreadsheetId': '1WaLGGuecA4YxgubDBmnnUbBW0TWTA60EtSCTHdIRqaE',\n",
              " 'updatedCells': 23,\n",
              " 'updatedColumns': 23,\n",
              " 'updatedRange': 'Sheet1!A1:W1',\n",
              " 'updatedRows': 1}"
            ]
          },
          "metadata": {
            "tags": []
          },
          "execution_count": 51
        }
      ]
    },
    {
      "cell_type": "code",
      "metadata": {
        "id": "lsQb31e5YR_V"
      },
      "source": [
        "sample.to_excel('sample.xlsx')"
      ],
      "execution_count": null,
      "outputs": []
    },
    {
      "cell_type": "code",
      "metadata": {
        "id": "LN_Lh5-hWL-j",
        "colab": {
          "base_uri": "https://localhost:8080/"
        },
        "outputId": "e34e7349-d91a-40bf-d2d7-63ee23e2026c"
      },
      "source": [
        "sample.columns.values.tolist()"
      ],
      "execution_count": null,
      "outputs": [
        {
          "output_type": "execute_result",
          "data": {
            "text/plain": [
              "['index',\n",
              " 'full_text',\n",
              " 'text Translation',\n",
              " 'created_at',\n",
              " 'screen_name',\n",
              " 'description',\n",
              " 'desc Translation',\n",
              " 'location',\n",
              " 'Weekday',\n",
              " 'Month',\n",
              " 'Year',\n",
              " 'Day',\n",
              " 'point_info',\n",
              " 'point',\n",
              " 'latitude',\n",
              " 'longitude',\n",
              " 'altitude',\n",
              " 'Province',\n",
              " 'hisco_standard',\n",
              " 'hisco_code',\n",
              " 'Industry',\n",
              " 'Sentiment Score',\n",
              " 'Sentiment MAgnitude']"
            ]
          },
          "metadata": {
            "tags": []
          },
          "execution_count": 47
        }
      ]
    },
    {
      "cell_type": "markdown",
      "metadata": {
        "id": "tDCod6QxhpeI"
      },
      "source": [
        "Sample code for text translation (Dutch ->> English)"
      ]
    },
    {
      "cell_type": "code",
      "metadata": {
        "id": "zZ-yE44qh1aG"
      },
      "source": [
        "os.environ[\"GOOGLE_CLOUD_PROJECT\"]=\"project-x-262017\""
      ],
      "execution_count": null,
      "outputs": []
    },
    {
      "cell_type": "code",
      "metadata": {
        "id": "8sJIxUcAWtsp"
      },
      "source": [
        "from google.cloud import translate_v2 as translate\n",
        "\n",
        "translate_client = translate.Client()"
      ],
      "execution_count": null,
      "outputs": []
    },
    {
      "cell_type": "code",
      "metadata": {
        "id": "Sn2UEeZijloo"
      },
      "source": [
        "text = \"Ik ben zo fucking klaar met so wel @PostNL als @mediamarkt_nl. Dus ik bestel woensdag dus een pakketje. Nou dat de morgen in huis met de corona niet lukt snap ik. Maar ik heb 2 keer een “komt morgen aan mail” gehad zonder dat er iets aan kwam -\"\n",
        "target = \"en\"\n",
        "source = \"nl\""
      ],
      "execution_count": null,
      "outputs": []
    },
    {
      "cell_type": "code",
      "metadata": {
        "id": "0lOWskyHjygV",
        "colab": {
          "base_uri": "https://localhost:8080/"
        },
        "outputId": "30a75476-a7dc-4c45-8171-c9e5e1a6c355"
      },
      "source": [
        "# Text can also be a sequence of strings, in which case this method\n",
        "# will return a sequence of results for each text.\n",
        "result = translate_client.translate(text, target_language=target)\n",
        "\n",
        "print(u\"Text: {}\".format(result[\"input\"]))\n",
        "print(u\"Translation: {}\".format(result[\"translatedText\"]))\n",
        "print(u\"Detected source language: {}\".format(result[\"detectedSourceLanguage\"]))"
      ],
      "execution_count": null,
      "outputs": [
        {
          "output_type": "stream",
          "text": [
            "Text: Ik ben zo fucking klaar met so wel @PostNL als @mediamarkt_nl. Dus ik bestel woensdag dus een pakketje. Nou dat de morgen in huis met de corona niet lukt snap ik. Maar ik heb 2 keer een “komt morgen aan mail” gehad zonder dat er iets aan kwam -\n",
            "Translation: I&#39;m so fucking done with @PostNL as @mediamarkt_nl. So I order a package on Wednesday. Well that the morning at home with the corona does not work I understand. But I had 2 times a &quot;mail coming tomorrow&quot; without anything coming -\n",
            "Detected source language: nl\n"
          ],
          "name": "stdout"
        }
      ]
    },
    {
      "cell_type": "code",
      "metadata": {
        "id": "2WUp8BuFkCh2",
        "colab": {
          "base_uri": "https://localhost:8080/"
        },
        "outputId": "1f542792-a76e-4344-ff41-41764567b7b7"
      },
      "source": [
        "result"
      ],
      "execution_count": null,
      "outputs": [
        {
          "output_type": "execute_result",
          "data": {
            "text/plain": [
              "{'detectedSourceLanguage': 'nl',\n",
              " 'input': 'Ik ben zo fucking klaar met so wel @PostNL als @mediamarkt_nl. Dus ik bestel woensdag dus een pakketje. Nou dat de morgen in huis met de corona niet lukt snap ik. Maar ik heb 2 keer een “komt morgen aan mail” gehad zonder dat er iets aan kwam -',\n",
              " 'translatedText': 'I&#39;m so fucking done with @PostNL as @mediamarkt_nl. So I order a package on Wednesday. Well that the morning at home with the corona does not work I understand. But I had 2 times a &quot;mail coming tomorrow&quot; without anything coming -'}"
            ]
          },
          "metadata": {
            "tags": []
          },
          "execution_count": 64
        }
      ]
    },
    {
      "cell_type": "code",
      "metadata": {
        "id": "HtsyoqJakoSS",
        "colab": {
          "base_uri": "https://localhost:8080/"
        },
        "outputId": "54d8887c-3f45-484a-cb43-f70698c28a61"
      },
      "source": [
        "len(text) # Check size of text for calculating the pricing for sentiment analysis of all the tweets"
      ],
      "execution_count": null,
      "outputs": [
        {
          "output_type": "execute_result",
          "data": {
            "text/plain": [
              "244"
            ]
          },
          "metadata": {
            "tags": []
          },
          "execution_count": 65
        }
      ]
    },
    {
      "cell_type": "code",
      "metadata": {
        "id": "C_g8uq7xn0nO",
        "colab": {
          "base_uri": "https://localhost:8080/"
        },
        "outputId": "d7199b78-2bb3-4bc0-ad4f-1561730be7f0"
      },
      "source": [
        "275000/4000"
      ],
      "execution_count": null,
      "outputs": [
        {
          "output_type": "execute_result",
          "data": {
            "text/plain": [
              "68.75"
            ]
          },
          "metadata": {
            "tags": []
          },
          "execution_count": 67
        }
      ]
    },
    {
      "cell_type": "code",
      "metadata": {
        "id": "-SFUU07fn_wM",
        "colab": {
          "base_uri": "https://localhost:8080/"
        },
        "outputId": "3adb7d73-5e62-4fe1-858e-674c61b4ef5a"
      },
      "source": [
        "70*20"
      ],
      "execution_count": null,
      "outputs": [
        {
          "output_type": "execute_result",
          "data": {
            "text/plain": [
              "1400"
            ]
          },
          "metadata": {
            "tags": []
          },
          "execution_count": 68
        }
      ]
    },
    {
      "cell_type": "markdown",
      "metadata": {
        "id": "odXFh44m_Ilu"
      },
      "source": [
        "\n",
        "\n",
        "---\n",
        "\n",
        "\n",
        "# Setting up a sample pipeline for using google translation (using a cheat via google sheets)"
      ]
    },
    {
      "cell_type": "code",
      "metadata": {
        "id": "mZrz0DV85ROH"
      },
      "source": [
        "sh = gc.create('Google Translate')"
      ],
      "execution_count": null,
      "outputs": []
    },
    {
      "cell_type": "code",
      "metadata": {
        "id": "Vr8RWms99ohP"
      },
      "source": [
        "worksheet = sh.sheet1"
      ],
      "execution_count": null,
      "outputs": []
    },
    {
      "cell_type": "code",
      "metadata": {
        "id": "KN8o9wqF95Mt",
        "colab": {
          "base_uri": "https://localhost:8080/"
        },
        "outputId": "07b592e0-ac25-49f6-9b80-d5ee01f035dd"
      },
      "source": [
        "worksheet.update_cell(1,1, 'Ik ben zo fucking klaar met so wel @PostNL als @mediamarkt_nl. Dus ik bestel woensdag dus een pakketje. Nou dat de morgen in huis met de corona niet lukt snap ik.')"
      ],
      "execution_count": null,
      "outputs": [
        {
          "output_type": "execute_result",
          "data": {
            "text/plain": [
              "{'spreadsheetId': '1MIoDo4Gc3H76kqQwvGVc28drft7ZEkxQ5yNkd4noTpg',\n",
              " 'updatedCells': 1,\n",
              " 'updatedColumns': 1,\n",
              " 'updatedRange': 'Sheet1!A1',\n",
              " 'updatedRows': 1}"
            ]
          },
          "metadata": {
            "tags": []
          },
          "execution_count": 82
        }
      ]
    },
    {
      "cell_type": "code",
      "metadata": {
        "id": "Xoqfl1Bw-KTW",
        "colab": {
          "base_uri": "https://localhost:8080/"
        },
        "outputId": "037929b2-e008-4274-bcbf-5e82c1ed2f79"
      },
      "source": [
        "worksheet.update_cell(1,2, '=googletranslate(a1, \"nl\", \"en\")') "
      ],
      "execution_count": null,
      "outputs": [
        {
          "output_type": "execute_result",
          "data": {
            "text/plain": [
              "{'spreadsheetId': '1MIoDo4Gc3H76kqQwvGVc28drft7ZEkxQ5yNkd4noTpg',\n",
              " 'updatedCells': 1,\n",
              " 'updatedColumns': 1,\n",
              " 'updatedRange': 'Sheet1!B1',\n",
              " 'updatedRows': 1}"
            ]
          },
          "metadata": {
            "tags": []
          },
          "execution_count": 83
        }
      ]
    },
    {
      "cell_type": "code",
      "metadata": {
        "id": "HXEfhGTh-7px",
        "colab": {
          "base_uri": "https://localhost:8080/",
          "height": 35
        },
        "outputId": "cbf6f4e6-9d99-4eeb-eb2f-d80b883d6cab"
      },
      "source": [
        "worksheet.cell(1,2).value"
      ],
      "execution_count": null,
      "outputs": [
        {
          "output_type": "execute_result",
          "data": {
            "application/vnd.google.colaboratory.intrinsic+json": {
              "type": "string"
            },
            "text/plain": [
              "\"I'm so fucking done so well as @PostNL @mediamarkt_nl. So I order Wednesday so a package. Well that morning in the house with the corona I do not succeed.\""
            ]
          },
          "metadata": {
            "tags": []
          },
          "execution_count": 84
        }
      ]
    },
    {
      "cell_type": "markdown",
      "metadata": {
        "id": "I_CIPYkzPi_m"
      },
      "source": [
        "\n",
        "\n",
        "---\n",
        "# Reading the sample files and check sentiment for various languages\n"
      ]
    },
    {
      "cell_type": "code",
      "metadata": {
        "id": "Wjk5kXQU_GG-"
      },
      "source": [
        "wks = gc.open(\"Sample Dutch Sentiment Analysis\").worksheet(\"Sheet2\")"
      ],
      "execution_count": null,
      "outputs": []
    },
    {
      "cell_type": "code",
      "metadata": {
        "colab": {
          "base_uri": "https://localhost:8080/",
          "height": 1000
        },
        "id": "53Y8arHHQqqI",
        "outputId": "8c2b97f0-118d-40ea-f4cd-21f0e24634ea"
      },
      "source": [
        "allText = pd.DataFrame(wks.get_all_records())\n",
        "print(allText.shape)\n",
        "allText.head(34)"
      ],
      "execution_count": null,
      "outputs": [
        {
          "output_type": "stream",
          "text": [
            "(32, 6)\n"
          ],
          "name": "stdout"
        },
        {
          "output_type": "execute_result",
          "data": {
            "text/html": [
              "<div>\n",
              "<style scoped>\n",
              "    .dataframe tbody tr th:only-of-type {\n",
              "        vertical-align: middle;\n",
              "    }\n",
              "\n",
              "    .dataframe tbody tr th {\n",
              "        vertical-align: top;\n",
              "    }\n",
              "\n",
              "    .dataframe thead th {\n",
              "        text-align: right;\n",
              "    }\n",
              "</style>\n",
              "<table border=\"1\" class=\"dataframe\">\n",
              "  <thead>\n",
              "    <tr style=\"text-align: right;\">\n",
              "      <th></th>\n",
              "      <th>Base Sentiment</th>\n",
              "      <th>Base Statement</th>\n",
              "      <th>Language</th>\n",
              "      <th>Translation</th>\n",
              "      <th>Sentiment Score</th>\n",
              "      <th>Sentiment Magnitude</th>\n",
              "    </tr>\n",
              "  </thead>\n",
              "  <tbody>\n",
              "    <tr>\n",
              "      <th>0</th>\n",
              "      <td>Negative</td>\n",
              "      <td>The food was ridiculously bad</td>\n",
              "      <td>ar</td>\n",
              "      <td>كان الطعام سيئا يبعث على السخرية</td>\n",
              "      <td>-0.5</td>\n",
              "      <td>0.5</td>\n",
              "    </tr>\n",
              "    <tr>\n",
              "      <th>1</th>\n",
              "      <td>Negative</td>\n",
              "      <td>The food was ridiculously bad</td>\n",
              "      <td>zh</td>\n",
              "      <td>食品是坏得离谱</td>\n",
              "      <td>-0.7</td>\n",
              "      <td>0.7</td>\n",
              "    </tr>\n",
              "    <tr>\n",
              "      <th>2</th>\n",
              "      <td>Negative</td>\n",
              "      <td>The food was ridiculously bad</td>\n",
              "      <td>zh-Hant</td>\n",
              "      <td>食品是壞得離譜</td>\n",
              "      <td>-0.8</td>\n",
              "      <td>0.8</td>\n",
              "    </tr>\n",
              "    <tr>\n",
              "      <th>3</th>\n",
              "      <td>Negative</td>\n",
              "      <td>The food was ridiculously bad</td>\n",
              "      <td>nl</td>\n",
              "      <td>Het eten was belachelijk slecht</td>\n",
              "      <td>0.0</td>\n",
              "      <td>0.0</td>\n",
              "    </tr>\n",
              "    <tr>\n",
              "      <th>4</th>\n",
              "      <td>Negative</td>\n",
              "      <td>The food was ridiculously bad</td>\n",
              "      <td>en</td>\n",
              "      <td>The food was ridiculously bad</td>\n",
              "      <td>-0.8</td>\n",
              "      <td>0.8</td>\n",
              "    </tr>\n",
              "    <tr>\n",
              "      <th>5</th>\n",
              "      <td>Negative</td>\n",
              "      <td>The food was ridiculously bad</td>\n",
              "      <td>fr</td>\n",
              "      <td>La nourriture était ridiculement mauvaise</td>\n",
              "      <td>-0.9</td>\n",
              "      <td>0.9</td>\n",
              "    </tr>\n",
              "    <tr>\n",
              "      <th>6</th>\n",
              "      <td>Negative</td>\n",
              "      <td>The food was ridiculously bad</td>\n",
              "      <td>de</td>\n",
              "      <td>Das Essen war unglaublich schlecht</td>\n",
              "      <td>-0.5</td>\n",
              "      <td>0.5</td>\n",
              "    </tr>\n",
              "    <tr>\n",
              "      <th>7</th>\n",
              "      <td>Negative</td>\n",
              "      <td>The food was ridiculously bad</td>\n",
              "      <td>id</td>\n",
              "      <td>Makanan yang ridiculously buruk</td>\n",
              "      <td>-0.5</td>\n",
              "      <td>0.5</td>\n",
              "    </tr>\n",
              "    <tr>\n",
              "      <th>8</th>\n",
              "      <td>Negative</td>\n",
              "      <td>The food was ridiculously bad</td>\n",
              "      <td>it</td>\n",
              "      <td>Il cibo era incredibilmente male</td>\n",
              "      <td>-0.9</td>\n",
              "      <td>0.9</td>\n",
              "    </tr>\n",
              "    <tr>\n",
              "      <th>9</th>\n",
              "      <td>Negative</td>\n",
              "      <td>The food was ridiculously bad</td>\n",
              "      <td>ja</td>\n",
              "      <td>食べ物は途方もなく悪かったです</td>\n",
              "      <td>-0.8</td>\n",
              "      <td>0.8</td>\n",
              "    </tr>\n",
              "    <tr>\n",
              "      <th>10</th>\n",
              "      <td>Negative</td>\n",
              "      <td>The food was ridiculously bad</td>\n",
              "      <td>ko</td>\n",
              "      <td>음식은 터무니없이 나쁜</td>\n",
              "      <td>-0.4</td>\n",
              "      <td>0.4</td>\n",
              "    </tr>\n",
              "    <tr>\n",
              "      <th>11</th>\n",
              "      <td>Negative</td>\n",
              "      <td>The food was ridiculously bad</td>\n",
              "      <td>pt</td>\n",
              "      <td>A comida era ridiculamente ruim</td>\n",
              "      <td>-0.4</td>\n",
              "      <td>0.4</td>\n",
              "    </tr>\n",
              "    <tr>\n",
              "      <th>12</th>\n",
              "      <td>Negative</td>\n",
              "      <td>The food was ridiculously bad</td>\n",
              "      <td>es</td>\n",
              "      <td>La comida era ridículamente mal</td>\n",
              "      <td>-0.5</td>\n",
              "      <td>0.5</td>\n",
              "    </tr>\n",
              "    <tr>\n",
              "      <th>13</th>\n",
              "      <td>Negative</td>\n",
              "      <td>The food was ridiculously bad</td>\n",
              "      <td>th</td>\n",
              "      <td>อาหารก็ไม่ดีขัน</td>\n",
              "      <td>-0.6</td>\n",
              "      <td>0.6</td>\n",
              "    </tr>\n",
              "    <tr>\n",
              "      <th>14</th>\n",
              "      <td>Negative</td>\n",
              "      <td>The food was ridiculously bad</td>\n",
              "      <td>tr</td>\n",
              "      <td>Gıda gülünç kötüydü</td>\n",
              "      <td>0.3</td>\n",
              "      <td>0.3</td>\n",
              "    </tr>\n",
              "    <tr>\n",
              "      <th>15</th>\n",
              "      <td>Negative</td>\n",
              "      <td>The food was ridiculously bad</td>\n",
              "      <td>vi</td>\n",
              "      <td>Thức ăn là ridiculously xấu</td>\n",
              "      <td>0.0</td>\n",
              "      <td>0.0</td>\n",
              "    </tr>\n",
              "    <tr>\n",
              "      <th>16</th>\n",
              "      <td>Positive</td>\n",
              "      <td>The food was mouth-watering</td>\n",
              "      <td>ar</td>\n",
              "      <td>كان الطعام مصب المياه</td>\n",
              "      <td>0.2</td>\n",
              "      <td>0.2</td>\n",
              "    </tr>\n",
              "    <tr>\n",
              "      <th>17</th>\n",
              "      <td>Positive</td>\n",
              "      <td>The food was mouth-watering</td>\n",
              "      <td>zh</td>\n",
              "      <td>食物是令人垂涎欲滴</td>\n",
              "      <td>0.1</td>\n",
              "      <td>0.1</td>\n",
              "    </tr>\n",
              "    <tr>\n",
              "      <th>18</th>\n",
              "      <td>Positive</td>\n",
              "      <td>The food was mouth-watering</td>\n",
              "      <td>zh-Hant</td>\n",
              "      <td>食物是令人垂涎欲滴</td>\n",
              "      <td>0.1</td>\n",
              "      <td>0.1</td>\n",
              "    </tr>\n",
              "    <tr>\n",
              "      <th>19</th>\n",
              "      <td>Positive</td>\n",
              "      <td>The food was mouth-watering</td>\n",
              "      <td>nl</td>\n",
              "      <td>Het eten was om van te watertanden</td>\n",
              "      <td>0.0</td>\n",
              "      <td>0.0</td>\n",
              "    </tr>\n",
              "    <tr>\n",
              "      <th>20</th>\n",
              "      <td>Positive</td>\n",
              "      <td>The food was mouth-watering</td>\n",
              "      <td>en</td>\n",
              "      <td>The food was mouth-watering</td>\n",
              "      <td>0.9</td>\n",
              "      <td>0.9</td>\n",
              "    </tr>\n",
              "    <tr>\n",
              "      <th>21</th>\n",
              "      <td>Positive</td>\n",
              "      <td>The food was mouth-watering</td>\n",
              "      <td>fr</td>\n",
              "      <td>La nourriture était appétissante</td>\n",
              "      <td>-0.1</td>\n",
              "      <td>0.1</td>\n",
              "    </tr>\n",
              "    <tr>\n",
              "      <th>22</th>\n",
              "      <td>Positive</td>\n",
              "      <td>The food was mouth-watering</td>\n",
              "      <td>de</td>\n",
              "      <td>Das Essen war das Wasser im Munde</td>\n",
              "      <td>0.2</td>\n",
              "      <td>0.2</td>\n",
              "    </tr>\n",
              "    <tr>\n",
              "      <th>23</th>\n",
              "      <td>Positive</td>\n",
              "      <td>The food was mouth-watering</td>\n",
              "      <td>id</td>\n",
              "      <td>Makanan yang lezat</td>\n",
              "      <td>0.9</td>\n",
              "      <td>0.9</td>\n",
              "    </tr>\n",
              "    <tr>\n",
              "      <th>24</th>\n",
              "      <td>Positive</td>\n",
              "      <td>The food was mouth-watering</td>\n",
              "      <td>it</td>\n",
              "      <td>Il cibo era da leccarsi i baffi</td>\n",
              "      <td>0.0</td>\n",
              "      <td>0.0</td>\n",
              "    </tr>\n",
              "    <tr>\n",
              "      <th>25</th>\n",
              "      <td>Positive</td>\n",
              "      <td>The food was mouth-watering</td>\n",
              "      <td>ja</td>\n",
              "      <td>食べ物は食欲をそそるました</td>\n",
              "      <td>0.0</td>\n",
              "      <td>0.0</td>\n",
              "    </tr>\n",
              "    <tr>\n",
              "      <th>26</th>\n",
              "      <td>Positive</td>\n",
              "      <td>The food was mouth-watering</td>\n",
              "      <td>ko</td>\n",
              "      <td>음식은 입에 물이었다</td>\n",
              "      <td>0.1</td>\n",
              "      <td>0.1</td>\n",
              "    </tr>\n",
              "    <tr>\n",
              "      <th>27</th>\n",
              "      <td>Positive</td>\n",
              "      <td>The food was mouth-watering</td>\n",
              "      <td>pt</td>\n",
              "      <td>A comida era água na boca</td>\n",
              "      <td>0.8</td>\n",
              "      <td>0.8</td>\n",
              "    </tr>\n",
              "    <tr>\n",
              "      <th>28</th>\n",
              "      <td>Positive</td>\n",
              "      <td>The food was mouth-watering</td>\n",
              "      <td>es</td>\n",
              "      <td>La comida estaba boca de riego</td>\n",
              "      <td>0.3</td>\n",
              "      <td>0.3</td>\n",
              "    </tr>\n",
              "    <tr>\n",
              "      <th>29</th>\n",
              "      <td>Positive</td>\n",
              "      <td>The food was mouth-watering</td>\n",
              "      <td>th</td>\n",
              "      <td>อาหารก็ปากรดน้ำ</td>\n",
              "      <td>0.7</td>\n",
              "      <td>0.7</td>\n",
              "    </tr>\n",
              "    <tr>\n",
              "      <th>30</th>\n",
              "      <td>Positive</td>\n",
              "      <td>The food was mouth-watering</td>\n",
              "      <td>tr</td>\n",
              "      <td>Gıda ağız sulandırıcı oldu</td>\n",
              "      <td>0.6</td>\n",
              "      <td>0.6</td>\n",
              "    </tr>\n",
              "    <tr>\n",
              "      <th>31</th>\n",
              "      <td>Positive</td>\n",
              "      <td>The food was mouth-watering</td>\n",
              "      <td>vi</td>\n",
              "      <td>Thức ăn đã miệng tưới nước</td>\n",
              "      <td>0.0</td>\n",
              "      <td>0.0</td>\n",
              "    </tr>\n",
              "  </tbody>\n",
              "</table>\n",
              "</div>"
            ],
            "text/plain": [
              "   Base Sentiment  ... Sentiment Magnitude\n",
              "0        Negative  ...                 0.5\n",
              "1        Negative  ...                 0.7\n",
              "2        Negative  ...                 0.8\n",
              "3        Negative  ...                 0.0\n",
              "4        Negative  ...                 0.8\n",
              "5        Negative  ...                 0.9\n",
              "6        Negative  ...                 0.5\n",
              "7        Negative  ...                 0.5\n",
              "8        Negative  ...                 0.9\n",
              "9        Negative  ...                 0.8\n",
              "10       Negative  ...                 0.4\n",
              "11       Negative  ...                 0.4\n",
              "12       Negative  ...                 0.5\n",
              "13       Negative  ...                 0.6\n",
              "14       Negative  ...                 0.3\n",
              "15       Negative  ...                 0.0\n",
              "16       Positive  ...                 0.2\n",
              "17       Positive  ...                 0.1\n",
              "18       Positive  ...                 0.1\n",
              "19       Positive  ...                 0.0\n",
              "20       Positive  ...                 0.9\n",
              "21       Positive  ...                 0.1\n",
              "22       Positive  ...                 0.2\n",
              "23       Positive  ...                 0.9\n",
              "24       Positive  ...                 0.0\n",
              "25       Positive  ...                 0.0\n",
              "26       Positive  ...                 0.1\n",
              "27       Positive  ...                 0.8\n",
              "28       Positive  ...                 0.3\n",
              "29       Positive  ...                 0.7\n",
              "30       Positive  ...                 0.6\n",
              "31       Positive  ...                 0.0\n",
              "\n",
              "[32 rows x 6 columns]"
            ]
          },
          "metadata": {
            "tags": []
          },
          "execution_count": 88
        }
      ]
    },
    {
      "cell_type": "code",
      "metadata": {
        "id": "aIOp1hkBTEPW"
      },
      "source": [
        "def checkSentiment(text, lang):\n",
        "  try:\n",
        "    document = language_v1.Document(content=text, language =lang, type_=language_v1.Document.Type.PLAIN_TEXT)\n",
        "    sentiment = client.analyze_sentiment(request={'document': document}).document_sentiment\n",
        "    return sentiment.score, sentiment.magnitude\n",
        "\n",
        "  except:\n",
        "    print(f\"ERROR: For text: {text}, in leng: {lang}\")\n",
        "    return None, None"
      ],
      "execution_count": null,
      "outputs": []
    },
    {
      "cell_type": "code",
      "metadata": {
        "id": "3CYWXCJoTbS7"
      },
      "source": [
        "senti = allText.apply( lambda row: checkSentiment(row['Translation'], row['Language']), axis=1)"
      ],
      "execution_count": null,
      "outputs": []
    },
    {
      "cell_type": "code",
      "metadata": {
        "id": "B86byZpuUUWl"
      },
      "source": [
        "allText['Sentiment Score'] = senti.apply(lambda x: x[0])\n",
        "allText['Sentiment Magnitude'] = senti.apply(lambda x: x[1])"
      ],
      "execution_count": null,
      "outputs": []
    },
    {
      "cell_type": "code",
      "metadata": {
        "colab": {
          "base_uri": "https://localhost:8080/",
          "height": 1000
        },
        "id": "7NBn6KgGVNM0",
        "outputId": "7e6ebb71-ea26-44a5-fdcb-a56c5d1941e9"
      },
      "source": [
        "allText"
      ],
      "execution_count": null,
      "outputs": [
        {
          "output_type": "execute_result",
          "data": {
            "text/html": [
              "<div>\n",
              "<style scoped>\n",
              "    .dataframe tbody tr th:only-of-type {\n",
              "        vertical-align: middle;\n",
              "    }\n",
              "\n",
              "    .dataframe tbody tr th {\n",
              "        vertical-align: top;\n",
              "    }\n",
              "\n",
              "    .dataframe thead th {\n",
              "        text-align: right;\n",
              "    }\n",
              "</style>\n",
              "<table border=\"1\" class=\"dataframe\">\n",
              "  <thead>\n",
              "    <tr style=\"text-align: right;\">\n",
              "      <th></th>\n",
              "      <th>Base Sentiment</th>\n",
              "      <th>Base Statement</th>\n",
              "      <th>Language</th>\n",
              "      <th>Translation</th>\n",
              "      <th>Sentiment Score</th>\n",
              "      <th>Sentiment Magnitude</th>\n",
              "    </tr>\n",
              "  </thead>\n",
              "  <tbody>\n",
              "    <tr>\n",
              "      <th>0</th>\n",
              "      <td>Negative</td>\n",
              "      <td>The food was ridiculously bad</td>\n",
              "      <td>ar</td>\n",
              "      <td>كان الطعام سيئا يبعث على السخرية</td>\n",
              "      <td>-0.5</td>\n",
              "      <td>0.5</td>\n",
              "    </tr>\n",
              "    <tr>\n",
              "      <th>1</th>\n",
              "      <td>Negative</td>\n",
              "      <td>The food was ridiculously bad</td>\n",
              "      <td>zh</td>\n",
              "      <td>食品是坏得离谱</td>\n",
              "      <td>-0.7</td>\n",
              "      <td>0.7</td>\n",
              "    </tr>\n",
              "    <tr>\n",
              "      <th>2</th>\n",
              "      <td>Negative</td>\n",
              "      <td>The food was ridiculously bad</td>\n",
              "      <td>zh-Hant</td>\n",
              "      <td>食品是壞得離譜</td>\n",
              "      <td>-0.8</td>\n",
              "      <td>0.8</td>\n",
              "    </tr>\n",
              "    <tr>\n",
              "      <th>3</th>\n",
              "      <td>Negative</td>\n",
              "      <td>The food was ridiculously bad</td>\n",
              "      <td>nl</td>\n",
              "      <td>Het eten was belachelijk slecht</td>\n",
              "      <td>0.0</td>\n",
              "      <td>0.0</td>\n",
              "    </tr>\n",
              "    <tr>\n",
              "      <th>4</th>\n",
              "      <td>Negative</td>\n",
              "      <td>The food was ridiculously bad</td>\n",
              "      <td>en</td>\n",
              "      <td>The food was ridiculously bad</td>\n",
              "      <td>-0.8</td>\n",
              "      <td>0.8</td>\n",
              "    </tr>\n",
              "    <tr>\n",
              "      <th>5</th>\n",
              "      <td>Negative</td>\n",
              "      <td>The food was ridiculously bad</td>\n",
              "      <td>fr</td>\n",
              "      <td>La nourriture était ridiculement mauvaise</td>\n",
              "      <td>-0.9</td>\n",
              "      <td>0.9</td>\n",
              "    </tr>\n",
              "    <tr>\n",
              "      <th>6</th>\n",
              "      <td>Negative</td>\n",
              "      <td>The food was ridiculously bad</td>\n",
              "      <td>de</td>\n",
              "      <td>Das Essen war unglaublich schlecht</td>\n",
              "      <td>-0.5</td>\n",
              "      <td>0.5</td>\n",
              "    </tr>\n",
              "    <tr>\n",
              "      <th>7</th>\n",
              "      <td>Negative</td>\n",
              "      <td>The food was ridiculously bad</td>\n",
              "      <td>id</td>\n",
              "      <td>Makanan yang ridiculously buruk</td>\n",
              "      <td>-0.5</td>\n",
              "      <td>0.5</td>\n",
              "    </tr>\n",
              "    <tr>\n",
              "      <th>8</th>\n",
              "      <td>Negative</td>\n",
              "      <td>The food was ridiculously bad</td>\n",
              "      <td>it</td>\n",
              "      <td>Il cibo era incredibilmente male</td>\n",
              "      <td>-0.9</td>\n",
              "      <td>0.9</td>\n",
              "    </tr>\n",
              "    <tr>\n",
              "      <th>9</th>\n",
              "      <td>Negative</td>\n",
              "      <td>The food was ridiculously bad</td>\n",
              "      <td>ja</td>\n",
              "      <td>食べ物は途方もなく悪かったです</td>\n",
              "      <td>-0.8</td>\n",
              "      <td>0.8</td>\n",
              "    </tr>\n",
              "    <tr>\n",
              "      <th>10</th>\n",
              "      <td>Negative</td>\n",
              "      <td>The food was ridiculously bad</td>\n",
              "      <td>ko</td>\n",
              "      <td>음식은 터무니없이 나쁜</td>\n",
              "      <td>-0.4</td>\n",
              "      <td>0.4</td>\n",
              "    </tr>\n",
              "    <tr>\n",
              "      <th>11</th>\n",
              "      <td>Negative</td>\n",
              "      <td>The food was ridiculously bad</td>\n",
              "      <td>pt</td>\n",
              "      <td>A comida era ridiculamente ruim</td>\n",
              "      <td>-0.4</td>\n",
              "      <td>0.4</td>\n",
              "    </tr>\n",
              "    <tr>\n",
              "      <th>12</th>\n",
              "      <td>Negative</td>\n",
              "      <td>The food was ridiculously bad</td>\n",
              "      <td>es</td>\n",
              "      <td>La comida era ridículamente mal</td>\n",
              "      <td>-0.5</td>\n",
              "      <td>0.5</td>\n",
              "    </tr>\n",
              "    <tr>\n",
              "      <th>13</th>\n",
              "      <td>Negative</td>\n",
              "      <td>The food was ridiculously bad</td>\n",
              "      <td>th</td>\n",
              "      <td>อาหารก็ไม่ดีขัน</td>\n",
              "      <td>-0.6</td>\n",
              "      <td>0.6</td>\n",
              "    </tr>\n",
              "    <tr>\n",
              "      <th>14</th>\n",
              "      <td>Negative</td>\n",
              "      <td>The food was ridiculously bad</td>\n",
              "      <td>tr</td>\n",
              "      <td>Gıda gülünç kötüydü</td>\n",
              "      <td>0.3</td>\n",
              "      <td>0.3</td>\n",
              "    </tr>\n",
              "    <tr>\n",
              "      <th>15</th>\n",
              "      <td>Negative</td>\n",
              "      <td>The food was ridiculously bad</td>\n",
              "      <td>vi</td>\n",
              "      <td>Thức ăn là ridiculously xấu</td>\n",
              "      <td>0.0</td>\n",
              "      <td>0.0</td>\n",
              "    </tr>\n",
              "    <tr>\n",
              "      <th>16</th>\n",
              "      <td>Positive</td>\n",
              "      <td>The food was mouth-watering</td>\n",
              "      <td>ar</td>\n",
              "      <td>كان الطعام مصب المياه</td>\n",
              "      <td>0.2</td>\n",
              "      <td>0.2</td>\n",
              "    </tr>\n",
              "    <tr>\n",
              "      <th>17</th>\n",
              "      <td>Positive</td>\n",
              "      <td>The food was mouth-watering</td>\n",
              "      <td>zh</td>\n",
              "      <td>食物是令人垂涎欲滴</td>\n",
              "      <td>0.1</td>\n",
              "      <td>0.1</td>\n",
              "    </tr>\n",
              "    <tr>\n",
              "      <th>18</th>\n",
              "      <td>Positive</td>\n",
              "      <td>The food was mouth-watering</td>\n",
              "      <td>zh-Hant</td>\n",
              "      <td>食物是令人垂涎欲滴</td>\n",
              "      <td>0.1</td>\n",
              "      <td>0.1</td>\n",
              "    </tr>\n",
              "    <tr>\n",
              "      <th>19</th>\n",
              "      <td>Positive</td>\n",
              "      <td>The food was mouth-watering</td>\n",
              "      <td>nl</td>\n",
              "      <td>Het eten was om van te watertanden</td>\n",
              "      <td>0.0</td>\n",
              "      <td>0.0</td>\n",
              "    </tr>\n",
              "    <tr>\n",
              "      <th>20</th>\n",
              "      <td>Positive</td>\n",
              "      <td>The food was mouth-watering</td>\n",
              "      <td>en</td>\n",
              "      <td>The food was mouth-watering</td>\n",
              "      <td>0.9</td>\n",
              "      <td>0.9</td>\n",
              "    </tr>\n",
              "    <tr>\n",
              "      <th>21</th>\n",
              "      <td>Positive</td>\n",
              "      <td>The food was mouth-watering</td>\n",
              "      <td>fr</td>\n",
              "      <td>La nourriture était appétissante</td>\n",
              "      <td>-0.1</td>\n",
              "      <td>0.1</td>\n",
              "    </tr>\n",
              "    <tr>\n",
              "      <th>22</th>\n",
              "      <td>Positive</td>\n",
              "      <td>The food was mouth-watering</td>\n",
              "      <td>de</td>\n",
              "      <td>Das Essen war das Wasser im Munde</td>\n",
              "      <td>0.2</td>\n",
              "      <td>0.2</td>\n",
              "    </tr>\n",
              "    <tr>\n",
              "      <th>23</th>\n",
              "      <td>Positive</td>\n",
              "      <td>The food was mouth-watering</td>\n",
              "      <td>id</td>\n",
              "      <td>Makanan yang lezat</td>\n",
              "      <td>0.9</td>\n",
              "      <td>0.9</td>\n",
              "    </tr>\n",
              "    <tr>\n",
              "      <th>24</th>\n",
              "      <td>Positive</td>\n",
              "      <td>The food was mouth-watering</td>\n",
              "      <td>it</td>\n",
              "      <td>Il cibo era da leccarsi i baffi</td>\n",
              "      <td>0.0</td>\n",
              "      <td>0.0</td>\n",
              "    </tr>\n",
              "    <tr>\n",
              "      <th>25</th>\n",
              "      <td>Positive</td>\n",
              "      <td>The food was mouth-watering</td>\n",
              "      <td>ja</td>\n",
              "      <td>食べ物は食欲をそそるました</td>\n",
              "      <td>0.0</td>\n",
              "      <td>0.0</td>\n",
              "    </tr>\n",
              "    <tr>\n",
              "      <th>26</th>\n",
              "      <td>Positive</td>\n",
              "      <td>The food was mouth-watering</td>\n",
              "      <td>ko</td>\n",
              "      <td>음식은 입에 물이었다</td>\n",
              "      <td>0.1</td>\n",
              "      <td>0.1</td>\n",
              "    </tr>\n",
              "    <tr>\n",
              "      <th>27</th>\n",
              "      <td>Positive</td>\n",
              "      <td>The food was mouth-watering</td>\n",
              "      <td>pt</td>\n",
              "      <td>A comida era água na boca</td>\n",
              "      <td>0.8</td>\n",
              "      <td>0.8</td>\n",
              "    </tr>\n",
              "    <tr>\n",
              "      <th>28</th>\n",
              "      <td>Positive</td>\n",
              "      <td>The food was mouth-watering</td>\n",
              "      <td>es</td>\n",
              "      <td>La comida estaba boca de riego</td>\n",
              "      <td>0.3</td>\n",
              "      <td>0.3</td>\n",
              "    </tr>\n",
              "    <tr>\n",
              "      <th>29</th>\n",
              "      <td>Positive</td>\n",
              "      <td>The food was mouth-watering</td>\n",
              "      <td>th</td>\n",
              "      <td>อาหารก็ปากรดน้ำ</td>\n",
              "      <td>0.7</td>\n",
              "      <td>0.7</td>\n",
              "    </tr>\n",
              "    <tr>\n",
              "      <th>30</th>\n",
              "      <td>Positive</td>\n",
              "      <td>The food was mouth-watering</td>\n",
              "      <td>tr</td>\n",
              "      <td>Gıda ağız sulandırıcı oldu</td>\n",
              "      <td>0.6</td>\n",
              "      <td>0.6</td>\n",
              "    </tr>\n",
              "    <tr>\n",
              "      <th>31</th>\n",
              "      <td>Positive</td>\n",
              "      <td>The food was mouth-watering</td>\n",
              "      <td>vi</td>\n",
              "      <td>Thức ăn đã miệng tưới nước</td>\n",
              "      <td>0.0</td>\n",
              "      <td>0.0</td>\n",
              "    </tr>\n",
              "  </tbody>\n",
              "</table>\n",
              "</div>"
            ],
            "text/plain": [
              "   Base Sentiment  ... Sentiment Magnitude\n",
              "0        Negative  ...                 0.5\n",
              "1        Negative  ...                 0.7\n",
              "2        Negative  ...                 0.8\n",
              "3        Negative  ...                 0.0\n",
              "4        Negative  ...                 0.8\n",
              "5        Negative  ...                 0.9\n",
              "6        Negative  ...                 0.5\n",
              "7        Negative  ...                 0.5\n",
              "8        Negative  ...                 0.9\n",
              "9        Negative  ...                 0.8\n",
              "10       Negative  ...                 0.4\n",
              "11       Negative  ...                 0.4\n",
              "12       Negative  ...                 0.5\n",
              "13       Negative  ...                 0.6\n",
              "14       Negative  ...                 0.3\n",
              "15       Negative  ...                 0.0\n",
              "16       Positive  ...                 0.2\n",
              "17       Positive  ...                 0.1\n",
              "18       Positive  ...                 0.1\n",
              "19       Positive  ...                 0.0\n",
              "20       Positive  ...                 0.9\n",
              "21       Positive  ...                 0.1\n",
              "22       Positive  ...                 0.2\n",
              "23       Positive  ...                 0.9\n",
              "24       Positive  ...                 0.0\n",
              "25       Positive  ...                 0.0\n",
              "26       Positive  ...                 0.1\n",
              "27       Positive  ...                 0.8\n",
              "28       Positive  ...                 0.3\n",
              "29       Positive  ...                 0.7\n",
              "30       Positive  ...                 0.6\n",
              "31       Positive  ...                 0.0\n",
              "\n",
              "[32 rows x 6 columns]"
            ]
          },
          "metadata": {
            "tags": []
          },
          "execution_count": 92
        }
      ]
    },
    {
      "cell_type": "code",
      "metadata": {
        "id": "K5rbg6N1at_d"
      },
      "source": [
        "for idx, row in allText.iterrows():\n",
        "  try:\n",
        "    wks.update_cell(idx+2, 5, row['Sentiment Score'])\n",
        "    wks.update_cell(idx+2, 6, row['Sentiment Magnitude'])\n",
        "  except:\n",
        "    wks.update_cell(idx+2, 5, \"\")\n",
        "    wks.update_cell(idx+2, 6, \"\")"
      ],
      "execution_count": null,
      "outputs": []
    },
    {
      "cell_type": "code",
      "metadata": {
        "id": "tCKzKH5mf7Zj"
      },
      "source": [
        "allText.to_excel(\"Sample.xlsx\")"
      ],
      "execution_count": null,
      "outputs": []
    },
    {
      "cell_type": "code",
      "metadata": {
        "id": "50BpofmWgGzp"
      },
      "source": [],
      "execution_count": null,
      "outputs": []
    }
  ]
}