{
  "nbformat": 4,
  "nbformat_minor": 0,
  "metadata": {
    "colab": {
      "provenance": [],
      "collapsed_sections": []
    },
    "kernelspec": {
      "name": "python3",
      "display_name": "Python 3"
    }
  },
  "cells": [
    {
      "cell_type": "code",
      "metadata": {
        "id": "pMR22zeeeKaM",
        "colab": {
          "base_uri": "https://localhost:8080/",
          "height": 34
        },
        "outputId": "c74f8b6d-cdff-4c70-c8fd-4713b4cd5792"
      },
      "source": [
        "from google.colab import drive\n",
        "drive.mount('/content/drive')"
      ],
      "execution_count": null,
      "outputs": [
        {
          "output_type": "stream",
          "text": [
            "Mounted at /content/drive\n"
          ],
          "name": "stdout"
        }
      ]
    },
    {
      "cell_type": "code",
      "metadata": {
        "id": "IpGSj9_4gRUR",
        "colab": {
          "base_uri": "https://localhost:8080/",
          "height": 51
        },
        "outputId": "663cb425-0446-4a1d-ea1e-b0420d644cef"
      },
      "source": [
        "!cp -r drive/\"My Drive\"/\"Dutch Tweets\" ."
      ],
      "execution_count": null,
      "outputs": [
        {
          "output_type": "stream",
          "text": [
            "cp: cannot open 'drive/My Drive/Dutch Tweets/allDataList_chunk9.gsheet' for reading: Operation not supported\n",
            "cp: cannot open 'drive/My Drive/Dutch Tweets/allDataList_chunk6.gsheet' for reading: Operation not supported\n"
          ],
          "name": "stdout"
        }
      ]
    },
    {
      "cell_type": "code",
      "metadata": {
        "id": "0xyVDzoZgoWq",
        "colab": {
          "base_uri": "https://localhost:8080/",
          "height": 204
        },
        "outputId": "16abe4e8-3f1c-433b-f6fe-0a435d51886c"
      },
      "source": [
        "# Read location chunks \n",
        "import pandas as pd \n",
        "\n",
        "idx = 6\n",
        "\n",
        "allLocation_chunk = pd.read_csv(\"Dutch Tweets/allLocation_chunk\"+str(idx)+\".csv\")\n",
        "allLocation_chunk.shape\n",
        "allLocation_chunk.head()"
      ],
      "execution_count": null,
      "outputs": [
        {
          "output_type": "execute_result",
          "data": {
            "text/html": [
              "<div>\n",
              "<style scoped>\n",
              "    .dataframe tbody tr th:only-of-type {\n",
              "        vertical-align: middle;\n",
              "    }\n",
              "\n",
              "    .dataframe tbody tr th {\n",
              "        vertical-align: top;\n",
              "    }\n",
              "\n",
              "    .dataframe thead th {\n",
              "        text-align: right;\n",
              "    }\n",
              "</style>\n",
              "<table border=\"1\" class=\"dataframe\">\n",
              "  <thead>\n",
              "    <tr style=\"text-align: right;\">\n",
              "      <th></th>\n",
              "      <th>Unnamed: 0</th>\n",
              "      <th>location</th>\n",
              "    </tr>\n",
              "  </thead>\n",
              "  <tbody>\n",
              "    <tr>\n",
              "      <th>0</th>\n",
              "      <td>9171</td>\n",
              "      <td>Elim, PA</td>\n",
              "    </tr>\n",
              "    <tr>\n",
              "      <th>1</th>\n",
              "      <td>9172</td>\n",
              "      <td>@VlkEke</td>\n",
              "    </tr>\n",
              "    <tr>\n",
              "      <th>2</th>\n",
              "      <td>9173</td>\n",
              "      <td>Staatsbosbeheer Noord Limburg</td>\n",
              "    </tr>\n",
              "    <tr>\n",
              "      <th>3</th>\n",
              "      <td>9174</td>\n",
              "      <td>Zennewijnen</td>\n",
              "    </tr>\n",
              "    <tr>\n",
              "      <th>4</th>\n",
              "      <td>9175</td>\n",
              "      <td>IJsselmuiden</td>\n",
              "    </tr>\n",
              "  </tbody>\n",
              "</table>\n",
              "</div>"
            ],
            "text/plain": [
              "   Unnamed: 0                        location\n",
              "0        9171                        Elim, PA\n",
              "1        9172                         @VlkEke\n",
              "2        9173   Staatsbosbeheer Noord Limburg\n",
              "3        9174                     Zennewijnen\n",
              "4        9175                    IJsselmuiden"
            ]
          },
          "metadata": {
            "tags": []
          },
          "execution_count": 19
        }
      ]
    },
    {
      "cell_type": "code",
      "metadata": {
        "id": "tO2_GecFioPE"
      },
      "source": [
        "import geopy.geocoders\n",
        "from geopy.geocoders import Nominatim\n",
        "from geopy.extra.rate_limiter import RateLimiter\n",
        "\n",
        "locator = Nominatim(user_agent=\"myGeocoder\")\n",
        "\n",
        "# 1 - conveneint function to delay between geocoding calls\n",
        "geocode = RateLimiter(locator.geocode, min_delay_seconds=1)\n"
      ],
      "execution_count": null,
      "outputs": []
    },
    {
      "cell_type": "code",
      "metadata": {
        "id": "kuVKok4Yhkfk",
        "colab": {
          "base_uri": "https://localhost:8080/",
          "height": 1000
        },
        "outputId": "0bd7afe0-d69f-4b1c-c36f-c91f7ea00712"
      },
      "source": [
        "# 2- - create location column\n",
        "allLocation_chunk['point_info'] = allLocation_chunk['location'].apply(geocode)"
      ],
      "execution_count": null,
      "outputs": [
        {
          "output_type": "stream",
          "text": [
            "RateLimiter caught an error, retrying (0/2 tries). Called with (*('MEXICO-III • MEXICO',), **{}).\n",
            "Traceback (most recent call last):\n",
            "  File \"/usr/local/lib/python3.6/dist-packages/geopy/geocoders/base.py\", line 344, in _call_geocoder\n",
            "    page = requester(req, timeout=timeout, **kwargs)\n",
            "  File \"/usr/lib/python3.6/urllib/request.py\", line 526, in open\n",
            "    response = self._open(req, data)\n",
            "  File \"/usr/lib/python3.6/urllib/request.py\", line 544, in _open\n",
            "    '_open', req)\n",
            "  File \"/usr/lib/python3.6/urllib/request.py\", line 504, in _call_chain\n",
            "    result = func(*args)\n",
            "  File \"/usr/lib/python3.6/urllib/request.py\", line 1368, in https_open\n",
            "    context=self._context, check_hostname=self._check_hostname)\n",
            "  File \"/usr/lib/python3.6/urllib/request.py\", line 1328, in do_open\n",
            "    r = h.getresponse()\n",
            "  File \"/usr/lib/python3.6/http/client.py\", line 1356, in getresponse\n",
            "    response.begin()\n",
            "  File \"/usr/lib/python3.6/http/client.py\", line 307, in begin\n",
            "    version, status, reason = self._read_status()\n",
            "  File \"/usr/lib/python3.6/http/client.py\", line 268, in _read_status\n",
            "    line = str(self.fp.readline(_MAXLINE + 1), \"iso-8859-1\")\n",
            "  File \"/usr/lib/python3.6/socket.py\", line 586, in readinto\n",
            "    return self._sock.recv_into(b)\n",
            "  File \"/usr/lib/python3.6/ssl.py\", line 1012, in recv_into\n",
            "    return self.read(nbytes, buffer)\n",
            "  File \"/usr/lib/python3.6/ssl.py\", line 874, in read\n",
            "    return self._sslobj.read(len, buffer)\n",
            "  File \"/usr/lib/python3.6/ssl.py\", line 631, in read\n",
            "    v = self._sslobj.read(len, buffer)\n",
            "socket.timeout: The read operation timed out\n",
            "\n",
            "During handling of the above exception, another exception occurred:\n",
            "\n",
            "Traceback (most recent call last):\n",
            "  File \"/usr/local/lib/python3.6/dist-packages/geopy/extra/rate_limiter.py\", line 130, in __call__\n",
            "    return self.func(*args, **kwargs)\n",
            "  File \"/usr/local/lib/python3.6/dist-packages/geopy/geocoders/osm.py\", line 307, in geocode\n",
            "    self._call_geocoder(url, timeout=timeout), exactly_one\n",
            "  File \"/usr/local/lib/python3.6/dist-packages/geopy/geocoders/base.py\", line 371, in _call_geocoder\n",
            "    raise GeocoderTimedOut('Service timed out')\n",
            "geopy.exc.GeocoderTimedOut: Service timed out\n",
            "RateLimiter caught an error, retrying (0/2 tries). Called with (*('Rotterdam Region, Netherlands',), **{}).\n",
            "Traceback (most recent call last):\n",
            "  File \"/usr/local/lib/python3.6/dist-packages/geopy/geocoders/base.py\", line 344, in _call_geocoder\n",
            "    page = requester(req, timeout=timeout, **kwargs)\n",
            "  File \"/usr/lib/python3.6/urllib/request.py\", line 526, in open\n",
            "    response = self._open(req, data)\n",
            "  File \"/usr/lib/python3.6/urllib/request.py\", line 544, in _open\n",
            "    '_open', req)\n",
            "  File \"/usr/lib/python3.6/urllib/request.py\", line 504, in _call_chain\n",
            "    result = func(*args)\n",
            "  File \"/usr/lib/python3.6/urllib/request.py\", line 1368, in https_open\n",
            "    context=self._context, check_hostname=self._check_hostname)\n",
            "  File \"/usr/lib/python3.6/urllib/request.py\", line 1328, in do_open\n",
            "    r = h.getresponse()\n",
            "  File \"/usr/lib/python3.6/http/client.py\", line 1356, in getresponse\n",
            "    response.begin()\n",
            "  File \"/usr/lib/python3.6/http/client.py\", line 307, in begin\n",
            "    version, status, reason = self._read_status()\n",
            "  File \"/usr/lib/python3.6/http/client.py\", line 268, in _read_status\n",
            "    line = str(self.fp.readline(_MAXLINE + 1), \"iso-8859-1\")\n",
            "  File \"/usr/lib/python3.6/socket.py\", line 586, in readinto\n",
            "    return self._sock.recv_into(b)\n",
            "  File \"/usr/lib/python3.6/ssl.py\", line 1012, in recv_into\n",
            "    return self.read(nbytes, buffer)\n",
            "  File \"/usr/lib/python3.6/ssl.py\", line 874, in read\n",
            "    return self._sslobj.read(len, buffer)\n",
            "  File \"/usr/lib/python3.6/ssl.py\", line 631, in read\n",
            "    v = self._sslobj.read(len, buffer)\n",
            "socket.timeout: The read operation timed out\n",
            "\n",
            "During handling of the above exception, another exception occurred:\n",
            "\n",
            "Traceback (most recent call last):\n",
            "  File \"/usr/local/lib/python3.6/dist-packages/geopy/extra/rate_limiter.py\", line 130, in __call__\n",
            "    return self.func(*args, **kwargs)\n",
            "  File \"/usr/local/lib/python3.6/dist-packages/geopy/geocoders/osm.py\", line 307, in geocode\n",
            "    self._call_geocoder(url, timeout=timeout), exactly_one\n",
            "  File \"/usr/local/lib/python3.6/dist-packages/geopy/geocoders/base.py\", line 371, in _call_geocoder\n",
            "    raise GeocoderTimedOut('Service timed out')\n",
            "geopy.exc.GeocoderTimedOut: Service timed out\n",
            "RateLimiter caught an error, retrying (0/2 tries). Called with (*('Amsterdam, Holanda (Países Bai',), **{}).\n",
            "Traceback (most recent call last):\n",
            "  File \"/usr/local/lib/python3.6/dist-packages/geopy/geocoders/base.py\", line 344, in _call_geocoder\n",
            "    page = requester(req, timeout=timeout, **kwargs)\n",
            "  File \"/usr/lib/python3.6/urllib/request.py\", line 526, in open\n",
            "    response = self._open(req, data)\n",
            "  File \"/usr/lib/python3.6/urllib/request.py\", line 544, in _open\n",
            "    '_open', req)\n",
            "  File \"/usr/lib/python3.6/urllib/request.py\", line 504, in _call_chain\n",
            "    result = func(*args)\n",
            "  File \"/usr/lib/python3.6/urllib/request.py\", line 1368, in https_open\n",
            "    context=self._context, check_hostname=self._check_hostname)\n",
            "  File \"/usr/lib/python3.6/urllib/request.py\", line 1328, in do_open\n",
            "    r = h.getresponse()\n",
            "  File \"/usr/lib/python3.6/http/client.py\", line 1356, in getresponse\n",
            "    response.begin()\n",
            "  File \"/usr/lib/python3.6/http/client.py\", line 307, in begin\n",
            "    version, status, reason = self._read_status()\n",
            "  File \"/usr/lib/python3.6/http/client.py\", line 268, in _read_status\n",
            "    line = str(self.fp.readline(_MAXLINE + 1), \"iso-8859-1\")\n",
            "  File \"/usr/lib/python3.6/socket.py\", line 586, in readinto\n",
            "    return self._sock.recv_into(b)\n",
            "  File \"/usr/lib/python3.6/ssl.py\", line 1012, in recv_into\n",
            "    return self.read(nbytes, buffer)\n",
            "  File \"/usr/lib/python3.6/ssl.py\", line 874, in read\n",
            "    return self._sslobj.read(len, buffer)\n",
            "  File \"/usr/lib/python3.6/ssl.py\", line 631, in read\n",
            "    v = self._sslobj.read(len, buffer)\n",
            "socket.timeout: The read operation timed out\n",
            "\n",
            "During handling of the above exception, another exception occurred:\n",
            "\n",
            "Traceback (most recent call last):\n",
            "  File \"/usr/local/lib/python3.6/dist-packages/geopy/extra/rate_limiter.py\", line 130, in __call__\n",
            "    return self.func(*args, **kwargs)\n",
            "  File \"/usr/local/lib/python3.6/dist-packages/geopy/geocoders/osm.py\", line 307, in geocode\n",
            "    self._call_geocoder(url, timeout=timeout), exactly_one\n",
            "  File \"/usr/local/lib/python3.6/dist-packages/geopy/geocoders/base.py\", line 371, in _call_geocoder\n",
            "    raise GeocoderTimedOut('Service timed out')\n",
            "geopy.exc.GeocoderTimedOut: Service timed out\n"
          ],
          "name": "stderr"
        }
      ]
    },
    {
      "cell_type": "code",
      "metadata": {
        "id": "n1YM3t_vhmLI",
        "colab": {
          "base_uri": "https://localhost:8080/",
          "height": 204
        },
        "outputId": "cfd2be9d-6b54-4f44-bd64-8d22de888c92"
      },
      "source": [
        "# 3 - create longitude, laatitude and altitude from location column (returns tuple)\n",
        "allLocation_chunk['point'] = allLocation_chunk['point_info'].apply(lambda loc: tuple(loc.point) if loc else None)\n",
        "\n",
        "allLocation_chunk.head()"
      ],
      "execution_count": null,
      "outputs": [
        {
          "output_type": "execute_result",
          "data": {
            "text/html": [
              "<div>\n",
              "<style scoped>\n",
              "    .dataframe tbody tr th:only-of-type {\n",
              "        vertical-align: middle;\n",
              "    }\n",
              "\n",
              "    .dataframe tbody tr th {\n",
              "        vertical-align: top;\n",
              "    }\n",
              "\n",
              "    .dataframe thead th {\n",
              "        text-align: right;\n",
              "    }\n",
              "</style>\n",
              "<table border=\"1\" class=\"dataframe\">\n",
              "  <thead>\n",
              "    <tr style=\"text-align: right;\">\n",
              "      <th></th>\n",
              "      <th>Unnamed: 0</th>\n",
              "      <th>location</th>\n",
              "      <th>point_info</th>\n",
              "      <th>point</th>\n",
              "    </tr>\n",
              "  </thead>\n",
              "  <tbody>\n",
              "    <tr>\n",
              "      <th>0</th>\n",
              "      <td>9171</td>\n",
              "      <td>Elim, PA</td>\n",
              "      <td>(Elim, Upper Yoder Township, Cambria County, P...</td>\n",
              "      <td>(40.2987335, -78.94353268168663, 0.0)</td>\n",
              "    </tr>\n",
              "    <tr>\n",
              "      <th>1</th>\n",
              "      <td>9172</td>\n",
              "      <td>@VlkEke</td>\n",
              "      <td>None</td>\n",
              "      <td>None</td>\n",
              "    </tr>\n",
              "    <tr>\n",
              "      <th>2</th>\n",
              "      <td>9173</td>\n",
              "      <td>Staatsbosbeheer Noord Limburg</td>\n",
              "      <td>None</td>\n",
              "      <td>None</td>\n",
              "    </tr>\n",
              "    <tr>\n",
              "      <th>3</th>\n",
              "      <td>9174</td>\n",
              "      <td>Zennewijnen</td>\n",
              "      <td>(Zennewijnen, Tiel, Gelderland, Nederland, (51...</td>\n",
              "      <td>(51.8587463, 5.4118529, 0.0)</td>\n",
              "    </tr>\n",
              "    <tr>\n",
              "      <th>4</th>\n",
              "      <td>9175</td>\n",
              "      <td>IJsselmuiden</td>\n",
              "      <td>(IJsselmuiden, Kampen, Overijssel, Nederland, ...</td>\n",
              "      <td>(52.56396385, 5.940171304145334, 0.0)</td>\n",
              "    </tr>\n",
              "  </tbody>\n",
              "</table>\n",
              "</div>"
            ],
            "text/plain": [
              "   Unnamed: 0  ...                                  point\n",
              "0        9171  ...  (40.2987335, -78.94353268168663, 0.0)\n",
              "1        9172  ...                                   None\n",
              "2        9173  ...                                   None\n",
              "3        9174  ...           (51.8587463, 5.4118529, 0.0)\n",
              "4        9175  ...  (52.56396385, 5.940171304145334, 0.0)\n",
              "\n",
              "[5 rows x 4 columns]"
            ]
          },
          "metadata": {
            "tags": []
          },
          "execution_count": 22
        }
      ]
    },
    {
      "cell_type": "code",
      "metadata": {
        "id": "6eK8yLBbhnww",
        "colab": {
          "base_uri": "https://localhost:8080/",
          "height": 514
        },
        "outputId": "10e2d582-8568-4eb2-cbcf-b617cd1f45fe"
      },
      "source": [
        "# 4 - split point column into latitude, longitude and altitude columns\n",
        "allLocation_chunk[['latitude', 'longitude', 'altitude']] = pd.DataFrame(allLocation_chunk['point'].tolist(), index=allLocation_chunk.index)\n",
        "\n",
        "allLocation_chunk.head(15)"
      ],
      "execution_count": null,
      "outputs": [
        {
          "output_type": "execute_result",
          "data": {
            "text/html": [
              "<div>\n",
              "<style scoped>\n",
              "    .dataframe tbody tr th:only-of-type {\n",
              "        vertical-align: middle;\n",
              "    }\n",
              "\n",
              "    .dataframe tbody tr th {\n",
              "        vertical-align: top;\n",
              "    }\n",
              "\n",
              "    .dataframe thead th {\n",
              "        text-align: right;\n",
              "    }\n",
              "</style>\n",
              "<table border=\"1\" class=\"dataframe\">\n",
              "  <thead>\n",
              "    <tr style=\"text-align: right;\">\n",
              "      <th></th>\n",
              "      <th>Unnamed: 0</th>\n",
              "      <th>location</th>\n",
              "      <th>point_info</th>\n",
              "      <th>point</th>\n",
              "      <th>latitude</th>\n",
              "      <th>longitude</th>\n",
              "      <th>altitude</th>\n",
              "    </tr>\n",
              "  </thead>\n",
              "  <tbody>\n",
              "    <tr>\n",
              "      <th>0</th>\n",
              "      <td>9171</td>\n",
              "      <td>Elim, PA</td>\n",
              "      <td>(Elim, Upper Yoder Township, Cambria County, P...</td>\n",
              "      <td>(40.2987335, -78.94353268168663, 0.0)</td>\n",
              "      <td>40.298733</td>\n",
              "      <td>-78.943533</td>\n",
              "      <td>0.0</td>\n",
              "    </tr>\n",
              "    <tr>\n",
              "      <th>1</th>\n",
              "      <td>9172</td>\n",
              "      <td>@VlkEke</td>\n",
              "      <td>None</td>\n",
              "      <td>None</td>\n",
              "      <td>NaN</td>\n",
              "      <td>NaN</td>\n",
              "      <td>NaN</td>\n",
              "    </tr>\n",
              "    <tr>\n",
              "      <th>2</th>\n",
              "      <td>9173</td>\n",
              "      <td>Staatsbosbeheer Noord Limburg</td>\n",
              "      <td>None</td>\n",
              "      <td>None</td>\n",
              "      <td>NaN</td>\n",
              "      <td>NaN</td>\n",
              "      <td>NaN</td>\n",
              "    </tr>\n",
              "    <tr>\n",
              "      <th>3</th>\n",
              "      <td>9174</td>\n",
              "      <td>Zennewijnen</td>\n",
              "      <td>(Zennewijnen, Tiel, Gelderland, Nederland, (51...</td>\n",
              "      <td>(51.8587463, 5.4118529, 0.0)</td>\n",
              "      <td>51.858746</td>\n",
              "      <td>5.411853</td>\n",
              "      <td>0.0</td>\n",
              "    </tr>\n",
              "    <tr>\n",
              "      <th>4</th>\n",
              "      <td>9175</td>\n",
              "      <td>IJsselmuiden</td>\n",
              "      <td>(IJsselmuiden, Kampen, Overijssel, Nederland, ...</td>\n",
              "      <td>(52.56396385, 5.940171304145334, 0.0)</td>\n",
              "      <td>52.563964</td>\n",
              "      <td>5.940171</td>\n",
              "      <td>0.0</td>\n",
              "    </tr>\n",
              "    <tr>\n",
              "      <th>5</th>\n",
              "      <td>9176</td>\n",
              "      <td>Lima, Perú</td>\n",
              "      <td>(Lima, Peru, (-12.0621065, -77.0365256))</td>\n",
              "      <td>(-12.0621065, -77.0365256, 0.0)</td>\n",
              "      <td>-12.062107</td>\n",
              "      <td>-77.036526</td>\n",
              "      <td>0.0</td>\n",
              "    </tr>\n",
              "    <tr>\n",
              "      <th>6</th>\n",
              "      <td>9177</td>\n",
              "      <td>Knoal</td>\n",
              "      <td>(Knoal Hutte, Obergailer Talweg, Obergail, Les...</td>\n",
              "      <td>(46.6517372, 12.790946938592818, 0.0)</td>\n",
              "      <td>46.651737</td>\n",
              "      <td>12.790947</td>\n",
              "      <td>0.0</td>\n",
              "    </tr>\n",
              "    <tr>\n",
              "      <th>7</th>\n",
              "      <td>9178</td>\n",
              "      <td>Haarlem -A'dam M'tricht Aalt'n</td>\n",
              "      <td>None</td>\n",
              "      <td>None</td>\n",
              "      <td>NaN</td>\n",
              "      <td>NaN</td>\n",
              "      <td>NaN</td>\n",
              "    </tr>\n",
              "    <tr>\n",
              "      <th>8</th>\n",
              "      <td>9179</td>\n",
              "      <td>Macragge, Ultramar sector</td>\n",
              "      <td>None</td>\n",
              "      <td>None</td>\n",
              "      <td>NaN</td>\n",
              "      <td>NaN</td>\n",
              "      <td>NaN</td>\n",
              "    </tr>\n",
              "    <tr>\n",
              "      <th>9</th>\n",
              "      <td>9180</td>\n",
              "      <td>Zeeland/Sud de France</td>\n",
              "      <td>None</td>\n",
              "      <td>None</td>\n",
              "      <td>NaN</td>\n",
              "      <td>NaN</td>\n",
              "      <td>NaN</td>\n",
              "    </tr>\n",
              "    <tr>\n",
              "      <th>10</th>\n",
              "      <td>9181</td>\n",
              "      <td>na jaemin.</td>\n",
              "      <td>(Jamin, Rimons, Langon, Nouvelle-Aquitaine, Fr...</td>\n",
              "      <td>(44.6814757, 0.0100641, 0.0)</td>\n",
              "      <td>44.681476</td>\n",
              "      <td>0.010064</td>\n",
              "      <td>0.0</td>\n",
              "    </tr>\n",
              "    <tr>\n",
              "      <th>11</th>\n",
              "      <td>9182</td>\n",
              "      <td>Rijsoord</td>\n",
              "      <td>(Rijsoord, Zuid-Holland, Nederland, 2988AK, Ne...</td>\n",
              "      <td>(51.8515232, 4.5942469, 0.0)</td>\n",
              "      <td>51.851523</td>\n",
              "      <td>4.594247</td>\n",
              "      <td>0.0</td>\n",
              "    </tr>\n",
              "    <tr>\n",
              "      <th>12</th>\n",
              "      <td>9183</td>\n",
              "      <td>Kloosterstraat 4\\n5481 BE  SCHIJNDEL\\nTelefoon...</td>\n",
              "      <td>None</td>\n",
              "      <td>None</td>\n",
              "      <td>NaN</td>\n",
              "      <td>NaN</td>\n",
              "      <td>NaN</td>\n",
              "    </tr>\n",
              "    <tr>\n",
              "      <th>13</th>\n",
              "      <td>9184</td>\n",
              "      <td>Parma, Emilia Romagna</td>\n",
              "      <td>(Parma, Emilia-Romagna, Italia, (44.8013678, 1...</td>\n",
              "      <td>(44.8013678, 10.3280833, 0.0)</td>\n",
              "      <td>44.801368</td>\n",
              "      <td>10.328083</td>\n",
              "      <td>0.0</td>\n",
              "    </tr>\n",
              "    <tr>\n",
              "      <th>14</th>\n",
              "      <td>9185</td>\n",
              "      <td>Koggenland, Nederland</td>\n",
              "      <td>(Koggenland, Noord-Holland, Nederland, (52.647...</td>\n",
              "      <td>(52.64758125, 4.952321716593174, 0.0)</td>\n",
              "      <td>52.647581</td>\n",
              "      <td>4.952322</td>\n",
              "      <td>0.0</td>\n",
              "    </tr>\n",
              "  </tbody>\n",
              "</table>\n",
              "</div>"
            ],
            "text/plain": [
              "    Unnamed: 0  ... altitude\n",
              "0         9171  ...      0.0\n",
              "1         9172  ...      NaN\n",
              "2         9173  ...      NaN\n",
              "3         9174  ...      0.0\n",
              "4         9175  ...      0.0\n",
              "5         9176  ...      0.0\n",
              "6         9177  ...      0.0\n",
              "7         9178  ...      NaN\n",
              "8         9179  ...      NaN\n",
              "9         9180  ...      NaN\n",
              "10        9181  ...      0.0\n",
              "11        9182  ...      0.0\n",
              "12        9183  ...      NaN\n",
              "13        9184  ...      0.0\n",
              "14        9185  ...      0.0\n",
              "\n",
              "[15 rows x 7 columns]"
            ]
          },
          "metadata": {
            "tags": []
          },
          "execution_count": 23
        }
      ]
    },
    {
      "cell_type": "code",
      "metadata": {
        "id": "PoNExBJ3pC-h"
      },
      "source": [
        "!cp drive/\"My Drive\"/\"Dutch Tweets\"/*.geojson ."
      ],
      "execution_count": null,
      "outputs": []
    },
    {
      "cell_type": "code",
      "metadata": {
        "id": "QUn7s6pZpDBw",
        "colab": {
          "base_uri": "https://localhost:8080/",
          "height": 476
        },
        "outputId": "8a4e7585-a825-4e10-dcbf-4e4009ce932f"
      },
      "source": [
        "!pip install geopandas\n",
        "!pip install geopy\n"
      ],
      "execution_count": null,
      "outputs": [
        {
          "output_type": "stream",
          "text": [
            "Collecting geopandas\n",
            "\u001b[?25l  Downloading https://files.pythonhosted.org/packages/f7/a4/e66aafbefcbb717813bf3a355c8c4fc3ed04ea1dd7feb2920f2f4f868921/geopandas-0.8.1-py2.py3-none-any.whl (962kB)\n",
            "\u001b[K     |████████████████████████████████| 972kB 3.4MB/s \n",
            "\u001b[?25hRequirement already satisfied: pandas>=0.23.0 in /usr/local/lib/python3.6/dist-packages (from geopandas) (1.1.2)\n",
            "Requirement already satisfied: shapely in /usr/local/lib/python3.6/dist-packages (from geopandas) (1.7.1)\n",
            "Collecting pyproj>=2.2.0\n",
            "\u001b[?25l  Downloading https://files.pythonhosted.org/packages/e5/c3/071e080230ac4b6c64f1a2e2f9161c9737a2bc7b683d2c90b024825000c0/pyproj-2.6.1.post1-cp36-cp36m-manylinux2010_x86_64.whl (10.9MB)\n",
            "\u001b[K     |████████████████████████████████| 10.9MB 14.9MB/s \n",
            "\u001b[?25hCollecting fiona\n",
            "\u001b[?25l  Downloading https://files.pythonhosted.org/packages/36/8b/e8b2c11bed5373c8e98edb85ce891b09aa1f4210fd451d0fb3696b7695a2/Fiona-1.8.17-cp36-cp36m-manylinux1_x86_64.whl (14.8MB)\n",
            "\u001b[K     |████████████████████████████████| 14.8MB 329kB/s \n",
            "\u001b[?25hRequirement already satisfied: numpy>=1.15.4 in /usr/local/lib/python3.6/dist-packages (from pandas>=0.23.0->geopandas) (1.18.5)\n",
            "Requirement already satisfied: python-dateutil>=2.7.3 in /usr/local/lib/python3.6/dist-packages (from pandas>=0.23.0->geopandas) (2.8.1)\n",
            "Requirement already satisfied: pytz>=2017.2 in /usr/local/lib/python3.6/dist-packages (from pandas>=0.23.0->geopandas) (2018.9)\n",
            "Requirement already satisfied: click<8,>=4.0 in /usr/local/lib/python3.6/dist-packages (from fiona->geopandas) (7.1.2)\n",
            "Collecting click-plugins>=1.0\n",
            "  Downloading https://files.pythonhosted.org/packages/e9/da/824b92d9942f4e472702488857914bdd50f73021efea15b4cad9aca8ecef/click_plugins-1.1.1-py2.py3-none-any.whl\n",
            "Requirement already satisfied: attrs>=17 in /usr/local/lib/python3.6/dist-packages (from fiona->geopandas) (20.2.0)\n",
            "Requirement already satisfied: six>=1.7 in /usr/local/lib/python3.6/dist-packages (from fiona->geopandas) (1.15.0)\n",
            "Collecting cligj>=0.5\n",
            "  Downloading https://files.pythonhosted.org/packages/ba/06/e3440b1f2dc802d35f329f299ba96153e9fcbfdef75e17f4b61f79430c6a/cligj-0.7.0-py3-none-any.whl\n",
            "Collecting munch\n",
            "  Downloading https://files.pythonhosted.org/packages/cc/ab/85d8da5c9a45e072301beb37ad7f833cd344e04c817d97e0cc75681d248f/munch-2.5.0-py2.py3-none-any.whl\n",
            "Installing collected packages: pyproj, click-plugins, cligj, munch, fiona, geopandas\n",
            "Successfully installed click-plugins-1.1.1 cligj-0.7.0 fiona-1.8.17 geopandas-0.8.1 munch-2.5.0 pyproj-2.6.1.post1\n",
            "Requirement already satisfied: geopy in /usr/local/lib/python3.6/dist-packages (1.17.0)\n",
            "Requirement already satisfied: geographiclib<2,>=1.49 in /usr/local/lib/python3.6/dist-packages (from geopy) (1.50)\n"
          ],
          "name": "stdout"
        }
      ]
    },
    {
      "cell_type": "code",
      "metadata": {
        "id": "dhTG8P6ApDEr",
        "colab": {
          "base_uri": "https://localhost:8080/",
          "height": 221
        },
        "outputId": "52626d51-eed0-4627-9fff-a2360bb7a980"
      },
      "source": [
        "import geopandas as gpd\n",
        "\n",
        "provinces = gpd.read_file('provinces.geojson')\n",
        "\n",
        "print(provinces.shape)\n",
        "provinces.head()"
      ],
      "execution_count": null,
      "outputs": [
        {
          "output_type": "stream",
          "text": [
            "(12, 4)\n"
          ],
          "name": "stdout"
        },
        {
          "output_type": "execute_result",
          "data": {
            "text/html": [
              "<div>\n",
              "<style scoped>\n",
              "    .dataframe tbody tr th:only-of-type {\n",
              "        vertical-align: middle;\n",
              "    }\n",
              "\n",
              "    .dataframe tbody tr th {\n",
              "        vertical-align: top;\n",
              "    }\n",
              "\n",
              "    .dataframe thead th {\n",
              "        text-align: right;\n",
              "    }\n",
              "</style>\n",
              "<table border=\"1\" class=\"dataframe\">\n",
              "  <thead>\n",
              "    <tr style=\"text-align: right;\">\n",
              "      <th></th>\n",
              "      <th>name</th>\n",
              "      <th>regioFacetId</th>\n",
              "      <th>level</th>\n",
              "      <th>geometry</th>\n",
              "    </tr>\n",
              "  </thead>\n",
              "  <tbody>\n",
              "    <tr>\n",
              "      <th>0</th>\n",
              "      <td>Drenthe</td>\n",
              "      <td>tcm:106-353397-1024</td>\n",
              "      <td>3</td>\n",
              "      <td>POLYGON ((6.41328 52.98552, 6.36252 53.03397, ...</td>\n",
              "    </tr>\n",
              "    <tr>\n",
              "      <th>1</th>\n",
              "      <td>Flevoland</td>\n",
              "      <td>tcm:106-353410-1024</td>\n",
              "      <td>3</td>\n",
              "      <td>POLYGON ((5.36115 52.67573, 5.37726 52.76481, ...</td>\n",
              "    </tr>\n",
              "    <tr>\n",
              "      <th>2</th>\n",
              "      <td>Friesland (Fryslân)</td>\n",
              "      <td>tcm:106-353417-1024</td>\n",
              "      <td>3</td>\n",
              "      <td>POLYGON ((5.08707 53.32307, 5.10178 53.36803, ...</td>\n",
              "    </tr>\n",
              "    <tr>\n",
              "      <th>3</th>\n",
              "      <td>Gelderland</td>\n",
              "      <td>tcm:106-353445-1024</td>\n",
              "      <td>3</td>\n",
              "      <td>POLYGON ((5.60602 51.99416, 5.59200 52.00139, ...</td>\n",
              "    </tr>\n",
              "    <tr>\n",
              "      <th>4</th>\n",
              "      <td>Groningen</td>\n",
              "      <td>tcm:106-353502-1024</td>\n",
              "      <td>3</td>\n",
              "      <td>POLYGON ((6.28698 53.34138, 6.27368 53.34527, ...</td>\n",
              "    </tr>\n",
              "  </tbody>\n",
              "</table>\n",
              "</div>"
            ],
            "text/plain": [
              "                  name  ...                                           geometry\n",
              "0              Drenthe  ...  POLYGON ((6.41328 52.98552, 6.36252 53.03397, ...\n",
              "1            Flevoland  ...  POLYGON ((5.36115 52.67573, 5.37726 52.76481, ...\n",
              "2  Friesland (Fryslân)  ...  POLYGON ((5.08707 53.32307, 5.10178 53.36803, ...\n",
              "3           Gelderland  ...  POLYGON ((5.60602 51.99416, 5.59200 52.00139, ...\n",
              "4            Groningen  ...  POLYGON ((6.28698 53.34138, 6.27368 53.34527, ...\n",
              "\n",
              "[5 rows x 4 columns]"
            ]
          },
          "metadata": {
            "tags": []
          },
          "execution_count": 13
        }
      ]
    },
    {
      "cell_type": "code",
      "metadata": {
        "id": "YW9uocCkpDHo"
      },
      "source": [
        "from shapely.geometry import Point, Polygon"
      ],
      "execution_count": null,
      "outputs": []
    },
    {
      "cell_type": "code",
      "metadata": {
        "id": "BFbGKjappDNN"
      },
      "source": [
        "def checkProvince(p1):\n",
        "  #print(len(p1))\n",
        "  if p1 != None and len(p1) >= 2 :\n",
        "    p1 = Point(p1[1], p1[0])  \n",
        "    provinces['InProvince'] = provinces['geometry'].apply(lambda x: x.contains(p1))\n",
        "    selProvince = provinces[provinces['InProvince'] == True]\n",
        "    #print(selProvince)\n",
        "    if selProvince.shape[0] > 0:\n",
        "      return selProvince['name'].values[0]\n",
        "    else:\n",
        "      return False\n",
        "  else:\n",
        "    return False"
      ],
      "execution_count": null,
      "outputs": []
    },
    {
      "cell_type": "code",
      "metadata": {
        "id": "IZypS5HSpDRH",
        "colab": {
          "base_uri": "https://localhost:8080/",
          "height": 514
        },
        "outputId": "49008265-eddd-4203-ffd5-144813099a67"
      },
      "source": [
        "allLocation_chunk['Province'] = allLocation_chunk['point'].apply(lambda x: checkProvince(x))\n",
        "allLocation_chunk.head(15)"
      ],
      "execution_count": null,
      "outputs": [
        {
          "output_type": "execute_result",
          "data": {
            "text/html": [
              "<div>\n",
              "<style scoped>\n",
              "    .dataframe tbody tr th:only-of-type {\n",
              "        vertical-align: middle;\n",
              "    }\n",
              "\n",
              "    .dataframe tbody tr th {\n",
              "        vertical-align: top;\n",
              "    }\n",
              "\n",
              "    .dataframe thead th {\n",
              "        text-align: right;\n",
              "    }\n",
              "</style>\n",
              "<table border=\"1\" class=\"dataframe\">\n",
              "  <thead>\n",
              "    <tr style=\"text-align: right;\">\n",
              "      <th></th>\n",
              "      <th>Unnamed: 0</th>\n",
              "      <th>location</th>\n",
              "      <th>point_info</th>\n",
              "      <th>point</th>\n",
              "      <th>latitude</th>\n",
              "      <th>longitude</th>\n",
              "      <th>altitude</th>\n",
              "      <th>Province</th>\n",
              "    </tr>\n",
              "  </thead>\n",
              "  <tbody>\n",
              "    <tr>\n",
              "      <th>0</th>\n",
              "      <td>9171</td>\n",
              "      <td>Elim, PA</td>\n",
              "      <td>(Elim, Upper Yoder Township, Cambria County, P...</td>\n",
              "      <td>(40.2987335, -78.94353268168663, 0.0)</td>\n",
              "      <td>40.298733</td>\n",
              "      <td>-78.943533</td>\n",
              "      <td>0.0</td>\n",
              "      <td>False</td>\n",
              "    </tr>\n",
              "    <tr>\n",
              "      <th>1</th>\n",
              "      <td>9172</td>\n",
              "      <td>@VlkEke</td>\n",
              "      <td>None</td>\n",
              "      <td>None</td>\n",
              "      <td>NaN</td>\n",
              "      <td>NaN</td>\n",
              "      <td>NaN</td>\n",
              "      <td>False</td>\n",
              "    </tr>\n",
              "    <tr>\n",
              "      <th>2</th>\n",
              "      <td>9173</td>\n",
              "      <td>Staatsbosbeheer Noord Limburg</td>\n",
              "      <td>None</td>\n",
              "      <td>None</td>\n",
              "      <td>NaN</td>\n",
              "      <td>NaN</td>\n",
              "      <td>NaN</td>\n",
              "      <td>False</td>\n",
              "    </tr>\n",
              "    <tr>\n",
              "      <th>3</th>\n",
              "      <td>9174</td>\n",
              "      <td>Zennewijnen</td>\n",
              "      <td>(Zennewijnen, Tiel, Gelderland, Nederland, (51...</td>\n",
              "      <td>(51.8587463, 5.4118529, 0.0)</td>\n",
              "      <td>51.858746</td>\n",
              "      <td>5.411853</td>\n",
              "      <td>0.0</td>\n",
              "      <td>Gelderland</td>\n",
              "    </tr>\n",
              "    <tr>\n",
              "      <th>4</th>\n",
              "      <td>9175</td>\n",
              "      <td>IJsselmuiden</td>\n",
              "      <td>(IJsselmuiden, Kampen, Overijssel, Nederland, ...</td>\n",
              "      <td>(52.56396385, 5.940171304145334, 0.0)</td>\n",
              "      <td>52.563964</td>\n",
              "      <td>5.940171</td>\n",
              "      <td>0.0</td>\n",
              "      <td>Overijssel</td>\n",
              "    </tr>\n",
              "    <tr>\n",
              "      <th>5</th>\n",
              "      <td>9176</td>\n",
              "      <td>Lima, Perú</td>\n",
              "      <td>(Lima, Peru, (-12.0621065, -77.0365256))</td>\n",
              "      <td>(-12.0621065, -77.0365256, 0.0)</td>\n",
              "      <td>-12.062107</td>\n",
              "      <td>-77.036526</td>\n",
              "      <td>0.0</td>\n",
              "      <td>False</td>\n",
              "    </tr>\n",
              "    <tr>\n",
              "      <th>6</th>\n",
              "      <td>9177</td>\n",
              "      <td>Knoal</td>\n",
              "      <td>(Knoal Hutte, Obergailer Talweg, Obergail, Les...</td>\n",
              "      <td>(46.6517372, 12.790946938592818, 0.0)</td>\n",
              "      <td>46.651737</td>\n",
              "      <td>12.790947</td>\n",
              "      <td>0.0</td>\n",
              "      <td>False</td>\n",
              "    </tr>\n",
              "    <tr>\n",
              "      <th>7</th>\n",
              "      <td>9178</td>\n",
              "      <td>Haarlem -A'dam M'tricht Aalt'n</td>\n",
              "      <td>None</td>\n",
              "      <td>None</td>\n",
              "      <td>NaN</td>\n",
              "      <td>NaN</td>\n",
              "      <td>NaN</td>\n",
              "      <td>False</td>\n",
              "    </tr>\n",
              "    <tr>\n",
              "      <th>8</th>\n",
              "      <td>9179</td>\n",
              "      <td>Macragge, Ultramar sector</td>\n",
              "      <td>None</td>\n",
              "      <td>None</td>\n",
              "      <td>NaN</td>\n",
              "      <td>NaN</td>\n",
              "      <td>NaN</td>\n",
              "      <td>False</td>\n",
              "    </tr>\n",
              "    <tr>\n",
              "      <th>9</th>\n",
              "      <td>9180</td>\n",
              "      <td>Zeeland/Sud de France</td>\n",
              "      <td>None</td>\n",
              "      <td>None</td>\n",
              "      <td>NaN</td>\n",
              "      <td>NaN</td>\n",
              "      <td>NaN</td>\n",
              "      <td>False</td>\n",
              "    </tr>\n",
              "    <tr>\n",
              "      <th>10</th>\n",
              "      <td>9181</td>\n",
              "      <td>na jaemin.</td>\n",
              "      <td>(Jamin, Rimons, Langon, Nouvelle-Aquitaine, Fr...</td>\n",
              "      <td>(44.6814757, 0.0100641, 0.0)</td>\n",
              "      <td>44.681476</td>\n",
              "      <td>0.010064</td>\n",
              "      <td>0.0</td>\n",
              "      <td>False</td>\n",
              "    </tr>\n",
              "    <tr>\n",
              "      <th>11</th>\n",
              "      <td>9182</td>\n",
              "      <td>Rijsoord</td>\n",
              "      <td>(Rijsoord, Zuid-Holland, Nederland, 2988AK, Ne...</td>\n",
              "      <td>(51.8515232, 4.5942469, 0.0)</td>\n",
              "      <td>51.851523</td>\n",
              "      <td>4.594247</td>\n",
              "      <td>0.0</td>\n",
              "      <td>Zuid-Holland</td>\n",
              "    </tr>\n",
              "    <tr>\n",
              "      <th>12</th>\n",
              "      <td>9183</td>\n",
              "      <td>Kloosterstraat 4\\n5481 BE  SCHIJNDEL\\nTelefoon...</td>\n",
              "      <td>None</td>\n",
              "      <td>None</td>\n",
              "      <td>NaN</td>\n",
              "      <td>NaN</td>\n",
              "      <td>NaN</td>\n",
              "      <td>False</td>\n",
              "    </tr>\n",
              "    <tr>\n",
              "      <th>13</th>\n",
              "      <td>9184</td>\n",
              "      <td>Parma, Emilia Romagna</td>\n",
              "      <td>(Parma, Emilia-Romagna, Italia, (44.8013678, 1...</td>\n",
              "      <td>(44.8013678, 10.3280833, 0.0)</td>\n",
              "      <td>44.801368</td>\n",
              "      <td>10.328083</td>\n",
              "      <td>0.0</td>\n",
              "      <td>False</td>\n",
              "    </tr>\n",
              "    <tr>\n",
              "      <th>14</th>\n",
              "      <td>9185</td>\n",
              "      <td>Koggenland, Nederland</td>\n",
              "      <td>(Koggenland, Noord-Holland, Nederland, (52.647...</td>\n",
              "      <td>(52.64758125, 4.952321716593174, 0.0)</td>\n",
              "      <td>52.647581</td>\n",
              "      <td>4.952322</td>\n",
              "      <td>0.0</td>\n",
              "      <td>Noord-Holland</td>\n",
              "    </tr>\n",
              "  </tbody>\n",
              "</table>\n",
              "</div>"
            ],
            "text/plain": [
              "    Unnamed: 0  ...       Province\n",
              "0         9171  ...          False\n",
              "1         9172  ...          False\n",
              "2         9173  ...          False\n",
              "3         9174  ...     Gelderland\n",
              "4         9175  ...     Overijssel\n",
              "5         9176  ...          False\n",
              "6         9177  ...          False\n",
              "7         9178  ...          False\n",
              "8         9179  ...          False\n",
              "9         9180  ...          False\n",
              "10        9181  ...          False\n",
              "11        9182  ...   Zuid-Holland\n",
              "12        9183  ...          False\n",
              "13        9184  ...          False\n",
              "14        9185  ...  Noord-Holland\n",
              "\n",
              "[15 rows x 8 columns]"
            ]
          },
          "metadata": {
            "tags": []
          },
          "execution_count": 24
        }
      ]
    },
    {
      "cell_type": "code",
      "metadata": {
        "id": "83fCFKlqpDXH",
        "colab": {
          "base_uri": "https://localhost:8080/",
          "height": 34
        },
        "outputId": "4e1f9b76-b930-4188-e37f-bc3826f40cd4"
      },
      "source": [
        "allLocation_chunk.to_csv(\"allLocation_chunk\"+str(idx)+\".csv\", index=False)\n",
        "print(\"Geo processing completed....allLocation_chunk\"+str(idx) + \".csv\")"
      ],
      "execution_count": null,
      "outputs": [
        {
          "output_type": "stream",
          "text": [
            "Geo processing completed....allLocation_chunk6.csv\n"
          ],
          "name": "stdout"
        }
      ]
    },
    {
      "cell_type": "code",
      "metadata": {
        "id": "aP2VN7_qt9Gp"
      },
      "source": [
        "!cp allLocation_chunk6.csv drive/\"My Drive\"/\"Dutch Tweets\"/allLocation_chunk6.csv"
      ],
      "execution_count": null,
      "outputs": []
    },
    {
      "cell_type": "code",
      "metadata": {
        "id": "j2lnFQ27t_6t",
        "colab": {
          "base_uri": "https://localhost:8080/"
        },
        "outputId": "6b85870e-a71a-4a89-bfe9-304dcadacd8b"
      },
      "source": [
        "!wget http://davis.wpi.edu/~xmdv/datasets/ohsumed.tar.gz\n"
      ],
      "execution_count": null,
      "outputs": [
        {
          "output_type": "stream",
          "text": [
            "--2020-12-11 07:17:52--  http://davis.wpi.edu/~xmdv/datasets/ohsumed.tar.gz\n",
            "Resolving davis.wpi.edu (davis.wpi.edu)... 130.215.28.55\n",
            "Connecting to davis.wpi.edu (davis.wpi.edu)|130.215.28.55|:80... connected.\n",
            "HTTP request sent, awaiting response... 200 OK\n",
            "Length: 6695770 (6.4M) [application/x-gzip]\n",
            "Saving to: ‘ohsumed.tar.gz’\n",
            "\n",
            "ohsumed.tar.gz      100%[===================>]   6.38M  1.81MB/s    in 3.5s    \n",
            "\n",
            "2020-12-11 07:17:55 (1.81 MB/s) - ‘ohsumed.tar.gz’ saved [6695770/6695770]\n",
            "\n"
          ],
          "name": "stdout"
        }
      ]
    },
    {
      "cell_type": "code",
      "metadata": {
        "colab": {
          "base_uri": "https://localhost:8080/"
        },
        "id": "hTSk2gtYqVZC",
        "outputId": "a351d8ee-f5b8-4d4f-fc30-3b1afda36581"
      },
      "source": [
        "!tar -xvzf ohsumed.tar.gz"
      ],
      "execution_count": null,
      "outputs": [
        {
          "output_type": "stream",
          "text": [
            "ohsumed.okc\n"
          ],
          "name": "stdout"
        }
      ]
    },
    {
      "cell_type": "code",
      "metadata": {
        "id": "-nOKZscEqfaV"
      },
      "source": [],
      "execution_count": null,
      "outputs": []
    }
  ]
}