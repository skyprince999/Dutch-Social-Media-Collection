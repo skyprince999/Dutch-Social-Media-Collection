{
  "nbformat": 4,
  "nbformat_minor": 0,
  "metadata": {
    "colab": {
      "provenance": [],
      "collapsed_sections": []
    },
    "kernelspec": {
      "name": "python3",
      "display_name": "Python 3"
    }
  },
  "cells": [
    {
      "cell_type": "markdown",
      "metadata": {
        "id": "8JhH--e211mz"
      },
      "source": [
        "Using the OSM python bindings to get the geocoding of user location\n",
        "\n",
        "https://geopy.readthedocs.io/en/stable/#\n",
        "\n",
        "\n",
        "for GeoJSON analysis \n",
        "\n",
        "https://automating-gis-processes.github.io/2016/Lesson3-point-in-polygon.html\n",
        "\n",
        "Check if point is part of the polygon \n",
        "\n",
        "\n",
        "Reading geojson files using geoPandas \n",
        "\n",
        "https://www.twilio.com/blog/2017/08/geospatial-analysis-python-geojson-geopandas.html\n"
      ]
    },
    {
      "cell_type": "code",
      "metadata": {
        "id": "VyeSBfM4-Pa8",
        "outputId": "09653bdc-1206-40b7-f84b-e0a35c61c9ee",
        "colab": {
          "base_uri": "https://localhost:8080/",
          "height": 34
        }
      },
      "source": [
        "!curl --location --request POST 'https://api.placekey.io/v1/placekey' --header 'apikey: {{PLACEKEYAPI}}' --header 'Content-Type: application/json' --data-raw '{ \"query\": {\"query_id\": \"thisiscustom\", \"latitude\": 37.7371,\"longitude\": -122.44283}}' "
      ],
      "execution_count": null,
      "outputs": [
        {
          "output_type": "stream",
          "text": [
            "{\"message\":\"Invalid authentication credentials\"}"
          ],
          "name": "stdout"
        }
      ]
    },
    {
      "cell_type": "code",
      "metadata": {
        "id": "hfDoK6D7j9Rt",
        "outputId": "394f7766-75f6-4ceb-f4c3-ab77c65bf9eb",
        "colab": {
          "base_uri": "https://localhost:8080/",
          "height": 34
        }
      },
      "source": [
        "!curl --location --request POST 'https://api.placekey.io/v1/placekey' --header 'apikey: PLACEKEYAPI' --header 'Content-Type: application/json' --data-raw '{\"query\": {\"query_id\": \"thisiscustom\", \"latitude\": 37.7371,\"longitude\": -122.44283}}'"
      ],
      "execution_count": null,
      "outputs": [
        {
          "output_type": "stream",
          "text": [
            "{\"query_id\":\"thisiscustom\",\"placekey\":\"@5vg-82n-kzz\"}"
          ],
          "name": "stdout"
        }
      ]
    },
    {
      "cell_type": "code",
      "metadata": {
        "id": "yV9_BE-okip-",
        "outputId": "bbdb937e-3bb4-4804-e388-ceea0ebd9c99",
        "colab": {
          "base_uri": "https://localhost:8080/",
          "height": 34
        }
      },
      "source": [
        "!curl --location --request POST 'https://api.placekey.io/v1/placekey' --header 'apikey: PLACEKEYAPI' --header 'Content-Type: application/json' --data-raw '{\"query\": {\"street_address\": \"1543 Mission Street, Floor 3\",  \"city\": \"San Francisco\",  \"region\": \"CA\",  \"postal_code\": \"94105\",  \"iso_country_code\": \"US\" }}'"
      ],
      "execution_count": null,
      "outputs": [
        {
          "output_type": "stream",
          "text": [
            "{\"query_id\":\"0\",\"placekey\":\"22k@5vg-7gq-5mk\"}"
          ],
          "name": "stdout"
        }
      ]
    },
    {
      "cell_type": "code",
      "metadata": {
        "id": "H0c45bF8lbQm",
        "outputId": "84551bce-1004-41c7-9ba9-eeaa9f6755e3",
        "colab": {
          "base_uri": "https://localhost:8080/",
          "height": 34
        }
      },
      "source": [
        "!curl --location --request POST 'https://api.placekey.io/v1/placekey' --header 'apikey: PLACEKEYAPI' --header 'Content-Type: application/json' --data-raw '{\"query\": {\"street_address\": \" \",  \"city\": \"Amsterdam Zuidoost\",  \"region\": \" \",  \"postal_code\": \" \",  \"iso_country_code\": \"NLD\" }}'"
      ],
      "execution_count": null,
      "outputs": [
        {
          "output_type": "stream",
          "text": [
            "{\"message\":\"parameter query validation failed: parameter iso_country_code validation failed: NLD matches none of the possibilities: us,US\"}"
          ],
          "name": "stdout"
        }
      ]
    },
    {
      "cell_type": "code",
      "metadata": {
        "id": "uGLS-PmDl7V6",
        "outputId": "f872f8d7-d950-46b9-8b7a-9854c83d45bd",
        "colab": {
          "base_uri": "https://localhost:8080/",
          "height": 51
        }
      },
      "source": [
        "import pandas as pd\n",
        "dutch_tweets = pd.read_excel('Dutch tweets.xlsx')\n",
        "municipalities = pd.read_csv('municipalities_v7.csv')\n",
        "\n",
        "print(dutch_tweets.shape)\n",
        "print(municipalities.shape)"
      ],
      "execution_count": null,
      "outputs": [
        {
          "output_type": "stream",
          "text": [
            "(1000, 11)\n",
            "(6840, 26)\n"
          ],
          "name": "stdout"
        }
      ]
    },
    {
      "cell_type": "code",
      "metadata": {
        "id": "wU6iFYKBmun0",
        "outputId": "52b0c79e-afef-4079-920c-d15211ea3b74",
        "colab": {
          "base_uri": "https://localhost:8080/",
          "height": 289
        }
      },
      "source": [
        "dutch_tweets.head()"
      ],
      "execution_count": null,
      "outputs": [
        {
          "output_type": "execute_result",
          "data": {
            "text/html": [
              "<div>\n",
              "<style scoped>\n",
              "    .dataframe tbody tr th:only-of-type {\n",
              "        vertical-align: middle;\n",
              "    }\n",
              "\n",
              "    .dataframe tbody tr th {\n",
              "        vertical-align: top;\n",
              "    }\n",
              "\n",
              "    .dataframe thead th {\n",
              "        text-align: right;\n",
              "    }\n",
              "</style>\n",
              "<table border=\"1\" class=\"dataframe\">\n",
              "  <thead>\n",
              "    <tr style=\"text-align: right;\">\n",
              "      <th></th>\n",
              "      <th>full_text</th>\n",
              "      <th>created_at</th>\n",
              "      <th>screen_name</th>\n",
              "      <th>description</th>\n",
              "      <th>location</th>\n",
              "      <th>Industry</th>\n",
              "      <th>text Translation</th>\n",
              "      <th>Day</th>\n",
              "      <th>Weekday</th>\n",
              "      <th>Month</th>\n",
              "      <th>Year</th>\n",
              "    </tr>\n",
              "  </thead>\n",
              "  <tbody>\n",
              "    <tr>\n",
              "      <th>0</th>\n",
              "      <td>RT @NVALeuven: Onaanvaardbaar! 😡😡😡\\n\\nSpoedig ...</td>\n",
              "      <td>Mon Sep 14 14:08:15 +0000 2020</td>\n",
              "      <td>karel_mortier</td>\n",
              "      <td>Vader | Echtgenoot | Leuvenaar | Advocaat  arb...</td>\n",
              "      <td>NaN</td>\n",
              "      <td>False</td>\n",
              "      <td>RT @NVALeuven: Unacceptable! 😡😡😡\\n\\nSpeedy rec...</td>\n",
              "      <td>14</td>\n",
              "      <td>0</td>\n",
              "      <td>9</td>\n",
              "      <td>2020</td>\n",
              "    </tr>\n",
              "    <tr>\n",
              "      <th>1</th>\n",
              "      <td>Coronabonus voor leiding Zaans Medisch Centrum...</td>\n",
              "      <td>Sat Aug 08 13:55:42 +0000 2020</td>\n",
              "      <td>rightsofearth</td>\n",
              "      <td>Agent provocateur. Stelt rare dingen #stemrech...</td>\n",
              "      <td>Amsterdam Zuidoost</td>\n",
              "      <td>False</td>\n",
              "      <td>Corona Bonus for leadership Zaans Medical Cent...</td>\n",
              "      <td>8</td>\n",
              "      <td>5</td>\n",
              "      <td>8</td>\n",
              "      <td>2020</td>\n",
              "    </tr>\n",
              "    <tr>\n",
              "      <th>2</th>\n",
              "      <td>Dubbele verantwoordelijkheid dus voor werkgeve...</td>\n",
              "      <td>Wed Sep 16 09:06:56 +0000 2020</td>\n",
              "      <td>wisbin</td>\n",
              "      <td>𝔻𝕠𝕔𝕖𝕟𝕥 𝕧𝕠/𝕊𝕠𝕔𝕚𝕠𝕝𝕠𝕠𝕘/𝔸𝕟𝕥𝕚𝕥𝕙𝕖ï𝕤𝕥/𝔻𝕒𝕥𝕒 ℝ𝕒𝕡𝕡𝕖𝕣/ℙ𝕚𝕩...</td>\n",
              "      <td>Schiedam, Nederland</td>\n",
              "      <td>False</td>\n",
              "      <td>Double responsibility So for employers in educ...</td>\n",
              "      <td>16</td>\n",
              "      <td>2</td>\n",
              "      <td>9</td>\n",
              "      <td>2020</td>\n",
              "    </tr>\n",
              "    <tr>\n",
              "      <th>3</th>\n",
              "      <td>RT @Elsdijkstra95: Nee tatuurlijk niet he. Waa...</td>\n",
              "      <td>Wed Aug 19 15:27:21 +0000 2020</td>\n",
              "      <td>lorelei3112</td>\n",
              "      <td>Hannelore Bruijn  Manus-je-van-alles in apothe...</td>\n",
              "      <td>Streefkerk</td>\n",
              "      <td>False</td>\n",
              "      <td>RT @ Elsdijkstra95 No tatuurlijk not he. Why w...</td>\n",
              "      <td>19</td>\n",
              "      <td>2</td>\n",
              "      <td>8</td>\n",
              "      <td>2020</td>\n",
              "    </tr>\n",
              "    <tr>\n",
              "      <th>4</th>\n",
              "      <td>RT @mikercarpenter: News that got completely b...</td>\n",
              "      <td>Wed May 13 14:49:54 +0000 2020</td>\n",
              "      <td>mvanderKist</td>\n",
              "      <td>Jurist, oud-advocaat, kinderrechten, (jeugd)st...</td>\n",
              "      <td>Apeldoorn e.o.  Netherlands</td>\n",
              "      <td>False</td>\n",
              "      <td>RT @mikercarpenter: News that got completely b...</td>\n",
              "      <td>13</td>\n",
              "      <td>2</td>\n",
              "      <td>5</td>\n",
              "      <td>2020</td>\n",
              "    </tr>\n",
              "  </tbody>\n",
              "</table>\n",
              "</div>"
            ],
            "text/plain": [
              "                                           full_text  ...  Year\n",
              "0  RT @NVALeuven: Onaanvaardbaar! 😡😡😡\\n\\nSpoedig ...  ...  2020\n",
              "1  Coronabonus voor leiding Zaans Medisch Centrum...  ...  2020\n",
              "2  Dubbele verantwoordelijkheid dus voor werkgeve...  ...  2020\n",
              "3  RT @Elsdijkstra95: Nee tatuurlijk niet he. Waa...  ...  2020\n",
              "4  RT @mikercarpenter: News that got completely b...  ...  2020\n",
              "\n",
              "[5 rows x 11 columns]"
            ]
          },
          "metadata": {
            "tags": []
          },
          "execution_count": 6
        }
      ]
    },
    {
      "cell_type": "code",
      "metadata": {
        "id": "J7z3Hx8LnKE_",
        "outputId": "74a8142e-c6f7-42a1-dc4d-fedfda7393d1",
        "colab": {
          "base_uri": "https://localhost:8080/",
          "height": 275
        }
      },
      "source": [
        "municipalities.head()"
      ],
      "execution_count": null,
      "outputs": [
        {
          "output_type": "execute_result",
          "data": {
            "text/html": [
              "<div>\n",
              "<style scoped>\n",
              "    .dataframe tbody tr th:only-of-type {\n",
              "        vertical-align: middle;\n",
              "    }\n",
              "\n",
              "    .dataframe tbody tr th {\n",
              "        vertical-align: top;\n",
              "    }\n",
              "\n",
              "    .dataframe thead th {\n",
              "        text-align: right;\n",
              "    }\n",
              "</style>\n",
              "<table border=\"1\" class=\"dataframe\">\n",
              "  <thead>\n",
              "    <tr style=\"text-align: right;\">\n",
              "      <th></th>\n",
              "      <th>Unnamed: 0</th>\n",
              "      <th>year</th>\n",
              "      <th>municipality</th>\n",
              "      <th>province</th>\n",
              "      <th>population</th>\n",
              "      <th>latitude</th>\n",
              "      <th>longitude</th>\n",
              "      <th>surface_km2</th>\n",
              "      <th>surface_land_km2</th>\n",
              "      <th>surface_water_km2</th>\n",
              "      <th>university</th>\n",
              "      <th>flag_color1</th>\n",
              "      <th>flag_color2</th>\n",
              "      <th>flag_color3</th>\n",
              "      <th>flag_color4</th>\n",
              "      <th>shield_symbol_1</th>\n",
              "      <th>shield_symbol_2</th>\n",
              "      <th>shield_symbol_3</th>\n",
              "      <th>shieldholder_1</th>\n",
              "      <th>shieldholder_2</th>\n",
              "      <th>shield_crown</th>\n",
              "      <th>asylum_migrants</th>\n",
              "      <th>avg_household_income</th>\n",
              "      <th>avg_woz</th>\n",
              "      <th>avg_ww_ratio</th>\n",
              "      <th>murders</th>\n",
              "    </tr>\n",
              "  </thead>\n",
              "  <tbody>\n",
              "    <tr>\n",
              "      <th>0</th>\n",
              "      <td>1</td>\n",
              "      <td>2018</td>\n",
              "      <td>Aa en Hunze</td>\n",
              "      <td>Drenthe</td>\n",
              "      <td>25243.0</td>\n",
              "      <td>53.010485</td>\n",
              "      <td>6.749528</td>\n",
              "      <td>278.9</td>\n",
              "      <td>276.4</td>\n",
              "      <td>2.5</td>\n",
              "      <td>0</td>\n",
              "      <td>green</td>\n",
              "      <td>yellow</td>\n",
              "      <td>NaN</td>\n",
              "      <td>NaN</td>\n",
              "      <td>crown</td>\n",
              "      <td>cross</td>\n",
              "      <td>NaN</td>\n",
              "      <td>deer</td>\n",
              "      <td>deer</td>\n",
              "      <td>crown</td>\n",
              "      <td>NaN</td>\n",
              "      <td>NaN</td>\n",
              "      <td>NaN</td>\n",
              "      <td>NaN</td>\n",
              "      <td>NaN</td>\n",
              "    </tr>\n",
              "    <tr>\n",
              "      <th>1</th>\n",
              "      <td>2</td>\n",
              "      <td>2018</td>\n",
              "      <td>Aalburg</td>\n",
              "      <td>Noord-Brabant</td>\n",
              "      <td>12859.0</td>\n",
              "      <td>51.751294</td>\n",
              "      <td>5.057085</td>\n",
              "      <td>53.2</td>\n",
              "      <td>50.4</td>\n",
              "      <td>2.8</td>\n",
              "      <td>0</td>\n",
              "      <td>black</td>\n",
              "      <td>red</td>\n",
              "      <td>yellow</td>\n",
              "      <td>NaN</td>\n",
              "      <td>wheel</td>\n",
              "      <td>lion</td>\n",
              "      <td>NaN</td>\n",
              "      <td>NaN</td>\n",
              "      <td>NaN</td>\n",
              "      <td>crown</td>\n",
              "      <td>NaN</td>\n",
              "      <td>NaN</td>\n",
              "      <td>NaN</td>\n",
              "      <td>NaN</td>\n",
              "      <td>NaN</td>\n",
              "    </tr>\n",
              "    <tr>\n",
              "      <th>2</th>\n",
              "      <td>3</td>\n",
              "      <td>2018</td>\n",
              "      <td>Aalsmeer</td>\n",
              "      <td>Noord-Holland</td>\n",
              "      <td>30792.0</td>\n",
              "      <td>52.262164</td>\n",
              "      <td>4.761922</td>\n",
              "      <td>32.3</td>\n",
              "      <td>20.4</td>\n",
              "      <td>11.9</td>\n",
              "      <td>0</td>\n",
              "      <td>red</td>\n",
              "      <td>green</td>\n",
              "      <td>black</td>\n",
              "      <td>NaN</td>\n",
              "      <td>lion</td>\n",
              "      <td>eel</td>\n",
              "      <td>NaN</td>\n",
              "      <td>NaN</td>\n",
              "      <td>NaN</td>\n",
              "      <td>NaN</td>\n",
              "      <td>NaN</td>\n",
              "      <td>NaN</td>\n",
              "      <td>NaN</td>\n",
              "      <td>NaN</td>\n",
              "      <td>NaN</td>\n",
              "    </tr>\n",
              "    <tr>\n",
              "      <th>3</th>\n",
              "      <td>4</td>\n",
              "      <td>2018</td>\n",
              "      <td>Aalten</td>\n",
              "      <td>Gelderland</td>\n",
              "      <td>27030.0</td>\n",
              "      <td>51.926667</td>\n",
              "      <td>6.580678</td>\n",
              "      <td>97.0</td>\n",
              "      <td>96.5</td>\n",
              "      <td>0.5</td>\n",
              "      <td>0</td>\n",
              "      <td>white</td>\n",
              "      <td>green</td>\n",
              "      <td>NaN</td>\n",
              "      <td>NaN</td>\n",
              "      <td>tree</td>\n",
              "      <td>sword</td>\n",
              "      <td>NaN</td>\n",
              "      <td>NaN</td>\n",
              "      <td>NaN</td>\n",
              "      <td>crown</td>\n",
              "      <td>NaN</td>\n",
              "      <td>NaN</td>\n",
              "      <td>NaN</td>\n",
              "      <td>NaN</td>\n",
              "      <td>NaN</td>\n",
              "    </tr>\n",
              "    <tr>\n",
              "      <th>4</th>\n",
              "      <td>5</td>\n",
              "      <td>2018</td>\n",
              "      <td>Achtkarspelen</td>\n",
              "      <td>Friesland</td>\n",
              "      <td>28002.0</td>\n",
              "      <td>53.210357</td>\n",
              "      <td>6.153565</td>\n",
              "      <td>104.0</td>\n",
              "      <td>102.4</td>\n",
              "      <td>1.6</td>\n",
              "      <td>0</td>\n",
              "      <td>white</td>\n",
              "      <td>red</td>\n",
              "      <td>green</td>\n",
              "      <td>blue</td>\n",
              "      <td>church</td>\n",
              "      <td>NaN</td>\n",
              "      <td>NaN</td>\n",
              "      <td>NaN</td>\n",
              "      <td>NaN</td>\n",
              "      <td>crown</td>\n",
              "      <td>NaN</td>\n",
              "      <td>NaN</td>\n",
              "      <td>NaN</td>\n",
              "      <td>NaN</td>\n",
              "      <td>NaN</td>\n",
              "    </tr>\n",
              "  </tbody>\n",
              "</table>\n",
              "</div>"
            ],
            "text/plain": [
              "   Unnamed: 0  year   municipality  ... avg_woz  avg_ww_ratio  murders\n",
              "0           1  2018    Aa en Hunze  ...     NaN           NaN      NaN\n",
              "1           2  2018        Aalburg  ...     NaN           NaN      NaN\n",
              "2           3  2018       Aalsmeer  ...     NaN           NaN      NaN\n",
              "3           4  2018         Aalten  ...     NaN           NaN      NaN\n",
              "4           5  2018  Achtkarspelen  ...     NaN           NaN      NaN\n",
              "\n",
              "[5 rows x 26 columns]"
            ]
          },
          "metadata": {
            "tags": []
          },
          "execution_count": 7
        }
      ]
    },
    {
      "cell_type": "code",
      "metadata": {
        "id": "qWSZtiu7nL--",
        "outputId": "4f409076-1e23-4f2c-b78c-5ca626a16970",
        "colab": {
          "base_uri": "https://localhost:8080/",
          "height": 86
        }
      },
      "source": [
        "municipalities[municipalities['municipality'] == 'Streefkerk']"
      ],
      "execution_count": null,
      "outputs": [
        {
          "output_type": "execute_result",
          "data": {
            "text/html": [
              "<div>\n",
              "<style scoped>\n",
              "    .dataframe tbody tr th:only-of-type {\n",
              "        vertical-align: middle;\n",
              "    }\n",
              "\n",
              "    .dataframe tbody tr th {\n",
              "        vertical-align: top;\n",
              "    }\n",
              "\n",
              "    .dataframe thead th {\n",
              "        text-align: right;\n",
              "    }\n",
              "</style>\n",
              "<table border=\"1\" class=\"dataframe\">\n",
              "  <thead>\n",
              "    <tr style=\"text-align: right;\">\n",
              "      <th></th>\n",
              "      <th>Unnamed: 0</th>\n",
              "      <th>year</th>\n",
              "      <th>municipality</th>\n",
              "      <th>province</th>\n",
              "      <th>population</th>\n",
              "      <th>latitude</th>\n",
              "      <th>longitude</th>\n",
              "      <th>surface_km2</th>\n",
              "      <th>surface_land_km2</th>\n",
              "      <th>surface_water_km2</th>\n",
              "      <th>university</th>\n",
              "      <th>flag_color1</th>\n",
              "      <th>flag_color2</th>\n",
              "      <th>flag_color3</th>\n",
              "      <th>flag_color4</th>\n",
              "      <th>shield_symbol_1</th>\n",
              "      <th>shield_symbol_2</th>\n",
              "      <th>shield_symbol_3</th>\n",
              "      <th>shieldholder_1</th>\n",
              "      <th>shieldholder_2</th>\n",
              "      <th>shield_crown</th>\n",
              "      <th>asylum_migrants</th>\n",
              "      <th>avg_household_income</th>\n",
              "      <th>avg_woz</th>\n",
              "      <th>avg_ww_ratio</th>\n",
              "      <th>murders</th>\n",
              "    </tr>\n",
              "  </thead>\n",
              "  <tbody>\n",
              "  </tbody>\n",
              "</table>\n",
              "</div>"
            ],
            "text/plain": [
              "Empty DataFrame\n",
              "Columns: [Unnamed: 0, year, municipality, province, population, latitude, longitude, surface_km2, surface_land_km2, surface_water_km2, university, flag_color1, flag_color2, flag_color3, flag_color4, shield_symbol_1, shield_symbol_2, shield_symbol_3, shieldholder_1, shieldholder_2, shield_crown, asylum_migrants, avg_household_income, avg_woz, avg_ww_ratio, murders]\n",
              "Index: []"
            ]
          },
          "metadata": {
            "tags": []
          },
          "execution_count": 8
        }
      ]
    },
    {
      "cell_type": "code",
      "metadata": {
        "id": "zMoTy6BpsVDm"
      },
      "source": [
        "!pip install geopandas\n",
        "!pip install geopy\n"
      ],
      "execution_count": null,
      "outputs": []
    },
    {
      "cell_type": "code",
      "metadata": {
        "id": "lILHEKolgGCr"
      },
      "source": [
        "import geopy.geocoders\n",
        "from geopy.geocoders import Nominatim"
      ],
      "execution_count": null,
      "outputs": []
    },
    {
      "cell_type": "code",
      "metadata": {
        "id": "g5_bZA3wfulw"
      },
      "source": [
        "locator = Nominatim(user_agent=\"myGeocoder\")\n",
        "location = locator.geocode(\"Champ de Mars, Paris, France\")"
      ],
      "execution_count": null,
      "outputs": []
    },
    {
      "cell_type": "code",
      "metadata": {
        "id": "7ETGYd4pf0yP",
        "outputId": "5e8b37d5-c5f5-4d3c-edc1-8294c6cd6dc0",
        "colab": {
          "base_uri": "https://localhost:8080/",
          "height": 34
        }
      },
      "source": [
        "print(\"Latitude = {}, Longitude = {}\".format(location.latitude, location.longitude))"
      ],
      "execution_count": null,
      "outputs": [
        {
          "output_type": "stream",
          "text": [
            "Latitude = 48.85614465, Longitude = 2.297820393322227\n"
          ],
          "name": "stdout"
        }
      ]
    },
    {
      "cell_type": "code",
      "metadata": {
        "id": "JRAAZ89Egu7m"
      },
      "source": [
        "from geopy.extra.rate_limiter import RateLimiter\n",
        "\n",
        "# 1 - conveneint function to delay between geocoding calls\n",
        "geocode = RateLimiter(locator.geocode, min_delay_seconds=1)\n",
        "\n",
        "# 2- - create location column\n",
        "dutch_tweets['point_info'] = dutch_tweets['location'].apply(geocode)\n",
        "\n",
        "# 3 - create longitude, laatitude and altitude from location column (returns tuple)\n",
        "dutch_tweets['point'] = dutch_tweets['point_info'].apply(lambda loc: tuple(loc.point) if loc else None)\n",
        "\n"
      ],
      "execution_count": null,
      "outputs": []
    },
    {
      "cell_type": "code",
      "metadata": {
        "id": "BLpi3mfJhjjz"
      },
      "source": [
        "# 4 - split point column into latitude, longitude and altitude columns\n",
        "dutch_tweets[['latitude', 'longitude', 'altitude']] = pd.DataFrame(dutch_tweets['point'].tolist(), index=dutch_tweets.index)"
      ],
      "execution_count": null,
      "outputs": []
    },
    {
      "cell_type": "code",
      "metadata": {
        "id": "ovSd0LIOqNSU",
        "outputId": "f9b87404-2801-4c77-c83a-87b02571ebec",
        "colab": {
          "base_uri": "https://localhost:8080/",
          "height": 510
        }
      },
      "source": [
        "dutch_tweets.head()"
      ],
      "execution_count": null,
      "outputs": [
        {
          "output_type": "execute_result",
          "data": {
            "text/html": [
              "<div>\n",
              "<style scoped>\n",
              "    .dataframe tbody tr th:only-of-type {\n",
              "        vertical-align: middle;\n",
              "    }\n",
              "\n",
              "    .dataframe tbody tr th {\n",
              "        vertical-align: top;\n",
              "    }\n",
              "\n",
              "    .dataframe thead th {\n",
              "        text-align: right;\n",
              "    }\n",
              "</style>\n",
              "<table border=\"1\" class=\"dataframe\">\n",
              "  <thead>\n",
              "    <tr style=\"text-align: right;\">\n",
              "      <th></th>\n",
              "      <th>full_text</th>\n",
              "      <th>created_at</th>\n",
              "      <th>screen_name</th>\n",
              "      <th>description</th>\n",
              "      <th>location</th>\n",
              "      <th>Industry</th>\n",
              "      <th>text Translation</th>\n",
              "      <th>Day</th>\n",
              "      <th>Weekday</th>\n",
              "      <th>Month</th>\n",
              "      <th>Year</th>\n",
              "      <th>point_info</th>\n",
              "      <th>point</th>\n",
              "      <th>latitude</th>\n",
              "      <th>longitude</th>\n",
              "      <th>altitude</th>\n",
              "    </tr>\n",
              "  </thead>\n",
              "  <tbody>\n",
              "    <tr>\n",
              "      <th>0</th>\n",
              "      <td>RT @NVALeuven: Onaanvaardbaar! 😡😡😡\\n\\nSpoedig ...</td>\n",
              "      <td>Mon Sep 14 14:08:15 +0000 2020</td>\n",
              "      <td>karel_mortier</td>\n",
              "      <td>Vader | Echtgenoot | Leuvenaar | Advocaat  arb...</td>\n",
              "      <td>NaN</td>\n",
              "      <td>False</td>\n",
              "      <td>RT @NVALeuven: Unacceptable! 😡😡😡\\n\\nSpeedy rec...</td>\n",
              "      <td>14</td>\n",
              "      <td>0</td>\n",
              "      <td>9</td>\n",
              "      <td>2020</td>\n",
              "      <td></td>\n",
              "      <td>(46.3144754, 11.0480288, 0.0)</td>\n",
              "      <td>46.314475</td>\n",
              "      <td>11.048029</td>\n",
              "      <td>0.0</td>\n",
              "    </tr>\n",
              "    <tr>\n",
              "      <th>1</th>\n",
              "      <td>Coronabonus voor leiding Zaans Medisch Centrum...</td>\n",
              "      <td>Sat Aug 08 13:55:42 +0000 2020</td>\n",
              "      <td>rightsofearth</td>\n",
              "      <td>Agent provocateur. Stelt rare dingen #stemrech...</td>\n",
              "      <td>Amsterdam Zuidoost</td>\n",
              "      <td>False</td>\n",
              "      <td>Corona Bonus for leadership Zaans Medical Cent...</td>\n",
              "      <td>8</td>\n",
              "      <td>5</td>\n",
              "      <td>8</td>\n",
              "      <td>2020</td>\n",
              "      <td>(Amsterdam-Zuidoost, Golfbaanpad, Holendrecht,...</td>\n",
              "      <td>(52.2835706, 4.9524489, 0.0)</td>\n",
              "      <td>52.283571</td>\n",
              "      <td>4.952449</td>\n",
              "      <td>0.0</td>\n",
              "    </tr>\n",
              "    <tr>\n",
              "      <th>2</th>\n",
              "      <td>Dubbele verantwoordelijkheid dus voor werkgeve...</td>\n",
              "      <td>Wed Sep 16 09:06:56 +0000 2020</td>\n",
              "      <td>wisbin</td>\n",
              "      <td>𝔻𝕠𝕔𝕖𝕟𝕥 𝕧𝕠/𝕊𝕠𝕔𝕚𝕠𝕝𝕠𝕠𝕘/𝔸𝕟𝕥𝕚𝕥𝕙𝕖ï𝕤𝕥/𝔻𝕒𝕥𝕒 ℝ𝕒𝕡𝕡𝕖𝕣/ℙ𝕚𝕩...</td>\n",
              "      <td>Schiedam, Nederland</td>\n",
              "      <td>False</td>\n",
              "      <td>Double responsibility So for employers in educ...</td>\n",
              "      <td>16</td>\n",
              "      <td>2</td>\n",
              "      <td>9</td>\n",
              "      <td>2020</td>\n",
              "      <td>(Schiedam, Zuid-Holland, Nederland, (51.930045...</td>\n",
              "      <td>(51.9300454, 4.386451052615731, 0.0)</td>\n",
              "      <td>51.930045</td>\n",
              "      <td>4.386451</td>\n",
              "      <td>0.0</td>\n",
              "    </tr>\n",
              "    <tr>\n",
              "      <th>3</th>\n",
              "      <td>RT @Elsdijkstra95: Nee tatuurlijk niet he. Waa...</td>\n",
              "      <td>Wed Aug 19 15:27:21 +0000 2020</td>\n",
              "      <td>lorelei3112</td>\n",
              "      <td>Hannelore Bruijn  Manus-je-van-alles in apothe...</td>\n",
              "      <td>Streefkerk</td>\n",
              "      <td>False</td>\n",
              "      <td>RT @ Elsdijkstra95 No tatuurlijk not he. Why w...</td>\n",
              "      <td>19</td>\n",
              "      <td>2</td>\n",
              "      <td>8</td>\n",
              "      <td>2020</td>\n",
              "      <td>(Streefkerk, Molenlanden, Zuid-Holland, Nederl...</td>\n",
              "      <td>(51.902614650000004, 4.775125690329026, 0.0)</td>\n",
              "      <td>51.902615</td>\n",
              "      <td>4.775126</td>\n",
              "      <td>0.0</td>\n",
              "    </tr>\n",
              "    <tr>\n",
              "      <th>4</th>\n",
              "      <td>RT @mikercarpenter: News that got completely b...</td>\n",
              "      <td>Wed May 13 14:49:54 +0000 2020</td>\n",
              "      <td>mvanderKist</td>\n",
              "      <td>Jurist, oud-advocaat, kinderrechten, (jeugd)st...</td>\n",
              "      <td>Apeldoorn e.o.  Netherlands</td>\n",
              "      <td>False</td>\n",
              "      <td>RT @mikercarpenter: News that got completely b...</td>\n",
              "      <td>13</td>\n",
              "      <td>2</td>\n",
              "      <td>5</td>\n",
              "      <td>2020</td>\n",
              "      <td>(Apeldoorn, Gelderland, Nederland, (52.2156457...</td>\n",
              "      <td>(52.2156457, 5.9639485, 0.0)</td>\n",
              "      <td>52.215646</td>\n",
              "      <td>5.963948</td>\n",
              "      <td>0.0</td>\n",
              "    </tr>\n",
              "  </tbody>\n",
              "</table>\n",
              "</div>"
            ],
            "text/plain": [
              "                                           full_text  ... altitude\n",
              "0  RT @NVALeuven: Onaanvaardbaar! 😡😡😡\\n\\nSpoedig ...  ...      0.0\n",
              "1  Coronabonus voor leiding Zaans Medisch Centrum...  ...      0.0\n",
              "2  Dubbele verantwoordelijkheid dus voor werkgeve...  ...      0.0\n",
              "3  RT @Elsdijkstra95: Nee tatuurlijk niet he. Waa...  ...      0.0\n",
              "4  RT @mikercarpenter: News that got completely b...  ...      0.0\n",
              "\n",
              "[5 rows x 16 columns]"
            ]
          },
          "metadata": {
            "tags": []
          },
          "execution_count": 26
        }
      ]
    },
    {
      "cell_type": "code",
      "metadata": {
        "id": "k5hgX3iFqUfk"
      },
      "source": [
        "\n",
        "dutch_tweets.to_excel('dutch_tweets.xlsx', index=False)"
      ],
      "execution_count": null,
      "outputs": []
    },
    {
      "cell_type": "code",
      "metadata": {
        "id": "9W9KjUqAqrop"
      },
      "source": [
        "# If dutch_tweet['location'] was empty or NaN then remove the point information\n",
        "\n",
        "dutch_tweets.loc[dutch_tweets['location'].isnull(), ['point_info', 'point', 'latitude', 'longitude', 'altitude']] = \"\""
      ],
      "execution_count": null,
      "outputs": []
    },
    {
      "cell_type": "code",
      "metadata": {
        "id": "FmnYZ2XJtJKF"
      },
      "source": [
        "dutch_tweets[['latitude', 'longitude', 'altitude']] = pd.DataFrame(dutch_tweets['point'].tolist(), index=dutch_tweets.index)"
      ],
      "execution_count": null,
      "outputs": []
    },
    {
      "cell_type": "code",
      "metadata": {
        "id": "ZJREFVSXt_aU",
        "outputId": "902fad28-0c4b-4a00-f634-6fff279d8ec1",
        "colab": {
          "base_uri": "https://localhost:8080/",
          "height": 510
        }
      },
      "source": [
        "dutch_tweets.head()"
      ],
      "execution_count": null,
      "outputs": [
        {
          "output_type": "execute_result",
          "data": {
            "text/html": [
              "<div>\n",
              "<style scoped>\n",
              "    .dataframe tbody tr th:only-of-type {\n",
              "        vertical-align: middle;\n",
              "    }\n",
              "\n",
              "    .dataframe tbody tr th {\n",
              "        vertical-align: top;\n",
              "    }\n",
              "\n",
              "    .dataframe thead th {\n",
              "        text-align: right;\n",
              "    }\n",
              "</style>\n",
              "<table border=\"1\" class=\"dataframe\">\n",
              "  <thead>\n",
              "    <tr style=\"text-align: right;\">\n",
              "      <th></th>\n",
              "      <th>full_text</th>\n",
              "      <th>created_at</th>\n",
              "      <th>screen_name</th>\n",
              "      <th>description</th>\n",
              "      <th>location</th>\n",
              "      <th>Industry</th>\n",
              "      <th>text Translation</th>\n",
              "      <th>Day</th>\n",
              "      <th>Weekday</th>\n",
              "      <th>Month</th>\n",
              "      <th>Year</th>\n",
              "      <th>point_info</th>\n",
              "      <th>point</th>\n",
              "      <th>latitude</th>\n",
              "      <th>longitude</th>\n",
              "      <th>altitude</th>\n",
              "    </tr>\n",
              "  </thead>\n",
              "  <tbody>\n",
              "    <tr>\n",
              "      <th>0</th>\n",
              "      <td>RT @NVALeuven: Onaanvaardbaar! 😡😡😡\\n\\nSpoedig ...</td>\n",
              "      <td>Mon Sep 14 14:08:15 +0000 2020</td>\n",
              "      <td>karel_mortier</td>\n",
              "      <td>Vader | Echtgenoot | Leuvenaar | Advocaat  arb...</td>\n",
              "      <td>NaN</td>\n",
              "      <td>False</td>\n",
              "      <td>RT @NVALeuven: Unacceptable! 😡😡😡\\n\\nSpeedy rec...</td>\n",
              "      <td>14</td>\n",
              "      <td>0</td>\n",
              "      <td>9</td>\n",
              "      <td>2020</td>\n",
              "      <td></td>\n",
              "      <td></td>\n",
              "      <td></td>\n",
              "      <td></td>\n",
              "      <td></td>\n",
              "    </tr>\n",
              "    <tr>\n",
              "      <th>1</th>\n",
              "      <td>Coronabonus voor leiding Zaans Medisch Centrum...</td>\n",
              "      <td>Sat Aug 08 13:55:42 +0000 2020</td>\n",
              "      <td>rightsofearth</td>\n",
              "      <td>Agent provocateur. Stelt rare dingen #stemrech...</td>\n",
              "      <td>Amsterdam Zuidoost</td>\n",
              "      <td>False</td>\n",
              "      <td>Corona Bonus for leadership Zaans Medical Cent...</td>\n",
              "      <td>8</td>\n",
              "      <td>5</td>\n",
              "      <td>8</td>\n",
              "      <td>2020</td>\n",
              "      <td>(Amsterdam-Zuidoost, Golfbaanpad, Holendrecht,...</td>\n",
              "      <td>(52.2835706, 4.9524489, 0.0)</td>\n",
              "      <td>52.2836</td>\n",
              "      <td>4.95245</td>\n",
              "      <td>0</td>\n",
              "    </tr>\n",
              "    <tr>\n",
              "      <th>2</th>\n",
              "      <td>Dubbele verantwoordelijkheid dus voor werkgeve...</td>\n",
              "      <td>Wed Sep 16 09:06:56 +0000 2020</td>\n",
              "      <td>wisbin</td>\n",
              "      <td>𝔻𝕠𝕔𝕖𝕟𝕥 𝕧𝕠/𝕊𝕠𝕔𝕚𝕠𝕝𝕠𝕠𝕘/𝔸𝕟𝕥𝕚𝕥𝕙𝕖ï𝕤𝕥/𝔻𝕒𝕥𝕒 ℝ𝕒𝕡𝕡𝕖𝕣/ℙ𝕚𝕩...</td>\n",
              "      <td>Schiedam, Nederland</td>\n",
              "      <td>False</td>\n",
              "      <td>Double responsibility So for employers in educ...</td>\n",
              "      <td>16</td>\n",
              "      <td>2</td>\n",
              "      <td>9</td>\n",
              "      <td>2020</td>\n",
              "      <td>(Schiedam, Zuid-Holland, Nederland, (51.930045...</td>\n",
              "      <td>(51.9300454, 4.386451052615731, 0.0)</td>\n",
              "      <td>51.93</td>\n",
              "      <td>4.38645</td>\n",
              "      <td>0</td>\n",
              "    </tr>\n",
              "    <tr>\n",
              "      <th>3</th>\n",
              "      <td>RT @Elsdijkstra95: Nee tatuurlijk niet he. Waa...</td>\n",
              "      <td>Wed Aug 19 15:27:21 +0000 2020</td>\n",
              "      <td>lorelei3112</td>\n",
              "      <td>Hannelore Bruijn  Manus-je-van-alles in apothe...</td>\n",
              "      <td>Streefkerk</td>\n",
              "      <td>False</td>\n",
              "      <td>RT @ Elsdijkstra95 No tatuurlijk not he. Why w...</td>\n",
              "      <td>19</td>\n",
              "      <td>2</td>\n",
              "      <td>8</td>\n",
              "      <td>2020</td>\n",
              "      <td>(Streefkerk, Molenlanden, Zuid-Holland, Nederl...</td>\n",
              "      <td>(51.902614650000004, 4.775125690329026, 0.0)</td>\n",
              "      <td>51.9026</td>\n",
              "      <td>4.77513</td>\n",
              "      <td>0</td>\n",
              "    </tr>\n",
              "    <tr>\n",
              "      <th>4</th>\n",
              "      <td>RT @mikercarpenter: News that got completely b...</td>\n",
              "      <td>Wed May 13 14:49:54 +0000 2020</td>\n",
              "      <td>mvanderKist</td>\n",
              "      <td>Jurist, oud-advocaat, kinderrechten, (jeugd)st...</td>\n",
              "      <td>Apeldoorn e.o.  Netherlands</td>\n",
              "      <td>False</td>\n",
              "      <td>RT @mikercarpenter: News that got completely b...</td>\n",
              "      <td>13</td>\n",
              "      <td>2</td>\n",
              "      <td>5</td>\n",
              "      <td>2020</td>\n",
              "      <td>(Apeldoorn, Gelderland, Nederland, (52.2156457...</td>\n",
              "      <td>(52.2156457, 5.9639485, 0.0)</td>\n",
              "      <td>52.2156</td>\n",
              "      <td>5.96395</td>\n",
              "      <td>0</td>\n",
              "    </tr>\n",
              "  </tbody>\n",
              "</table>\n",
              "</div>"
            ],
            "text/plain": [
              "                                           full_text  ... altitude\n",
              "0  RT @NVALeuven: Onaanvaardbaar! 😡😡😡\\n\\nSpoedig ...  ...         \n",
              "1  Coronabonus voor leiding Zaans Medisch Centrum...  ...        0\n",
              "2  Dubbele verantwoordelijkheid dus voor werkgeve...  ...        0\n",
              "3  RT @Elsdijkstra95: Nee tatuurlijk niet he. Waa...  ...        0\n",
              "4  RT @mikercarpenter: News that got completely b...  ...        0\n",
              "\n",
              "[5 rows x 16 columns]"
            ]
          },
          "metadata": {
            "tags": []
          },
          "execution_count": 31
        }
      ]
    },
    {
      "cell_type": "code",
      "metadata": {
        "id": "OX3rbZXjuE0z"
      },
      "source": [
        "dutch_tweets.to_excel('dutch_tweets.xlsx', index=False)"
      ],
      "execution_count": null,
      "outputs": []
    },
    {
      "cell_type": "markdown",
      "metadata": {
        "id": "aiGLSk5k3CRG"
      },
      "source": [
        "Source:\n",
        "\n",
        "https://www.twilio.com/blog/2017/08/geospatial-analysis-python-geojson-geopandas.html"
      ]
    },
    {
      "cell_type": "code",
      "metadata": {
        "id": "QhOHFKyeufH4",
        "outputId": "b25e267c-cc26-4ec4-afff-74268e01308d",
        "colab": {
          "base_uri": "https://localhost:8080/",
          "height": 221
        }
      },
      "source": [
        "import geopandas as gpd\n",
        "\n",
        "provinces = gpd.read_file('provinces.geojson')\n",
        "\n",
        "print(provinces.shape)\n",
        "provinces.head()"
      ],
      "execution_count": null,
      "outputs": [
        {
          "output_type": "stream",
          "text": [
            "(12, 4)\n"
          ],
          "name": "stdout"
        },
        {
          "output_type": "execute_result",
          "data": {
            "text/html": [
              "<div>\n",
              "<style scoped>\n",
              "    .dataframe tbody tr th:only-of-type {\n",
              "        vertical-align: middle;\n",
              "    }\n",
              "\n",
              "    .dataframe tbody tr th {\n",
              "        vertical-align: top;\n",
              "    }\n",
              "\n",
              "    .dataframe thead th {\n",
              "        text-align: right;\n",
              "    }\n",
              "</style>\n",
              "<table border=\"1\" class=\"dataframe\">\n",
              "  <thead>\n",
              "    <tr style=\"text-align: right;\">\n",
              "      <th></th>\n",
              "      <th>name</th>\n",
              "      <th>regioFacetId</th>\n",
              "      <th>level</th>\n",
              "      <th>geometry</th>\n",
              "    </tr>\n",
              "  </thead>\n",
              "  <tbody>\n",
              "    <tr>\n",
              "      <th>0</th>\n",
              "      <td>Drenthe</td>\n",
              "      <td>tcm:106-353397-1024</td>\n",
              "      <td>3</td>\n",
              "      <td>POLYGON ((6.41328 52.98552, 6.36252 53.03397, ...</td>\n",
              "    </tr>\n",
              "    <tr>\n",
              "      <th>1</th>\n",
              "      <td>Flevoland</td>\n",
              "      <td>tcm:106-353410-1024</td>\n",
              "      <td>3</td>\n",
              "      <td>POLYGON ((5.36115 52.67573, 5.37726 52.76481, ...</td>\n",
              "    </tr>\n",
              "    <tr>\n",
              "      <th>2</th>\n",
              "      <td>Friesland (Fryslân)</td>\n",
              "      <td>tcm:106-353417-1024</td>\n",
              "      <td>3</td>\n",
              "      <td>POLYGON ((5.08707 53.32307, 5.10178 53.36803, ...</td>\n",
              "    </tr>\n",
              "    <tr>\n",
              "      <th>3</th>\n",
              "      <td>Gelderland</td>\n",
              "      <td>tcm:106-353445-1024</td>\n",
              "      <td>3</td>\n",
              "      <td>POLYGON ((5.60602 51.99416, 5.59200 52.00139, ...</td>\n",
              "    </tr>\n",
              "    <tr>\n",
              "      <th>4</th>\n",
              "      <td>Groningen</td>\n",
              "      <td>tcm:106-353502-1024</td>\n",
              "      <td>3</td>\n",
              "      <td>POLYGON ((6.28698 53.34138, 6.27368 53.34527, ...</td>\n",
              "    </tr>\n",
              "  </tbody>\n",
              "</table>\n",
              "</div>"
            ],
            "text/plain": [
              "                  name  ...                                           geometry\n",
              "0              Drenthe  ...  POLYGON ((6.41328 52.98552, 6.36252 53.03397, ...\n",
              "1            Flevoland  ...  POLYGON ((5.36115 52.67573, 5.37726 52.76481, ...\n",
              "2  Friesland (Fryslân)  ...  POLYGON ((5.08707 53.32307, 5.10178 53.36803, ...\n",
              "3           Gelderland  ...  POLYGON ((5.60602 51.99416, 5.59200 52.00139, ...\n",
              "4            Groningen  ...  POLYGON ((6.28698 53.34138, 6.27368 53.34527, ...\n",
              "\n",
              "[5 rows x 4 columns]"
            ]
          },
          "metadata": {
            "tags": []
          },
          "execution_count": 35
        }
      ]
    },
    {
      "cell_type": "code",
      "metadata": {
        "id": "LRn19v_i250N"
      },
      "source": [
        "from shapely.geometry import Point, Polygon\n",
        "\n",
        "p1 = Point(dutch_tweets['point'][1])\n"
      ],
      "execution_count": null,
      "outputs": []
    },
    {
      "cell_type": "code",
      "metadata": {
        "id": "pD_LlHGA5N27",
        "outputId": "654e5f15-6cd4-4985-9d4f-ef9d37d09ecc",
        "colab": {
          "base_uri": "https://localhost:8080/",
          "height": 34
        }
      },
      "source": [
        "provinces['geometry'][0].contains(p1)"
      ],
      "execution_count": null,
      "outputs": [
        {
          "output_type": "execute_result",
          "data": {
            "text/plain": [
              "False"
            ]
          },
          "metadata": {
            "tags": []
          },
          "execution_count": 41
        }
      ]
    },
    {
      "cell_type": "code",
      "metadata": {
        "id": "sHDWw-BV5Pzw"
      },
      "source": [
        "def checkProvince(p1):\n",
        "  #print(len(p1))\n",
        "  if p1 != None and len(p1) >= 2 :\n",
        "    p1 = Point(p1[1], p1[0])  \n",
        "    provinces['InProvince'] = provinces['geometry'].apply(lambda x: x.contains(p1))\n",
        "    selProvince = provinces[provinces['InProvince'] == True]\n",
        "    #print(selProvince)\n",
        "    if selProvince.shape[0] > 0:\n",
        "      return selProvince['name'].values[0]\n",
        "    else:\n",
        "      return False\n",
        "  else:\n",
        "    return False"
      ],
      "execution_count": null,
      "outputs": []
    },
    {
      "cell_type": "code",
      "metadata": {
        "id": "G6QZCx8uBf1G",
        "outputId": "e91bbe5e-4f32-4477-ad39-36debeddb599",
        "colab": {
          "base_uri": "https://localhost:8080/",
          "height": 35
        }
      },
      "source": [
        "checkProvince(dutch_tweets['point'][1])"
      ],
      "execution_count": null,
      "outputs": [
        {
          "output_type": "execute_result",
          "data": {
            "application/vnd.google.colaboratory.intrinsic+json": {
              "type": "string"
            },
            "text/plain": [
              "'Noord-Holland'"
            ]
          },
          "metadata": {
            "tags": []
          },
          "execution_count": 100
        }
      ]
    },
    {
      "cell_type": "code",
      "metadata": {
        "id": "kNHRyimV_EhH"
      },
      "source": [
        "dutch_tweets['Province'] = dutch_tweets['point'].apply(lambda x: checkProvince(x))"
      ],
      "execution_count": null,
      "outputs": []
    },
    {
      "cell_type": "code",
      "metadata": {
        "id": "ToPzoTDEAaiG",
        "outputId": "21431e2f-fa8f-43e6-f2e7-c30ec56ff997",
        "colab": {
          "base_uri": "https://localhost:8080/",
          "height": 547
        }
      },
      "source": [
        "dutch_tweets.head()"
      ],
      "execution_count": null,
      "outputs": [
        {
          "output_type": "execute_result",
          "data": {
            "text/html": [
              "<div>\n",
              "<style scoped>\n",
              "    .dataframe tbody tr th:only-of-type {\n",
              "        vertical-align: middle;\n",
              "    }\n",
              "\n",
              "    .dataframe tbody tr th {\n",
              "        vertical-align: top;\n",
              "    }\n",
              "\n",
              "    .dataframe thead th {\n",
              "        text-align: right;\n",
              "    }\n",
              "</style>\n",
              "<table border=\"1\" class=\"dataframe\">\n",
              "  <thead>\n",
              "    <tr style=\"text-align: right;\">\n",
              "      <th></th>\n",
              "      <th>full_text</th>\n",
              "      <th>created_at</th>\n",
              "      <th>screen_name</th>\n",
              "      <th>description</th>\n",
              "      <th>location</th>\n",
              "      <th>Industry</th>\n",
              "      <th>text Translation</th>\n",
              "      <th>Day</th>\n",
              "      <th>Weekday</th>\n",
              "      <th>Month</th>\n",
              "      <th>Year</th>\n",
              "      <th>point_info</th>\n",
              "      <th>point</th>\n",
              "      <th>latitude</th>\n",
              "      <th>longitude</th>\n",
              "      <th>altitude</th>\n",
              "      <th>Province</th>\n",
              "    </tr>\n",
              "  </thead>\n",
              "  <tbody>\n",
              "    <tr>\n",
              "      <th>0</th>\n",
              "      <td>RT @NVALeuven: Onaanvaardbaar! 😡😡😡\\n\\nSpoedig ...</td>\n",
              "      <td>Mon Sep 14 14:08:15 +0000 2020</td>\n",
              "      <td>karel_mortier</td>\n",
              "      <td>Vader | Echtgenoot | Leuvenaar | Advocaat  arb...</td>\n",
              "      <td>NaN</td>\n",
              "      <td>False</td>\n",
              "      <td>RT @NVALeuven: Unacceptable! 😡😡😡\\n\\nSpeedy rec...</td>\n",
              "      <td>14</td>\n",
              "      <td>0</td>\n",
              "      <td>9</td>\n",
              "      <td>2020</td>\n",
              "      <td></td>\n",
              "      <td></td>\n",
              "      <td></td>\n",
              "      <td></td>\n",
              "      <td></td>\n",
              "      <td>False</td>\n",
              "    </tr>\n",
              "    <tr>\n",
              "      <th>1</th>\n",
              "      <td>Coronabonus voor leiding Zaans Medisch Centrum...</td>\n",
              "      <td>Sat Aug 08 13:55:42 +0000 2020</td>\n",
              "      <td>rightsofearth</td>\n",
              "      <td>Agent provocateur. Stelt rare dingen #stemrech...</td>\n",
              "      <td>Amsterdam Zuidoost</td>\n",
              "      <td>False</td>\n",
              "      <td>Corona Bonus for leadership Zaans Medical Cent...</td>\n",
              "      <td>8</td>\n",
              "      <td>5</td>\n",
              "      <td>8</td>\n",
              "      <td>2020</td>\n",
              "      <td>(Amsterdam-Zuidoost, Golfbaanpad, Holendrecht,...</td>\n",
              "      <td>(52.2835706, 4.9524489, 0.0)</td>\n",
              "      <td>52.2836</td>\n",
              "      <td>4.95245</td>\n",
              "      <td>0</td>\n",
              "      <td>Noord-Holland</td>\n",
              "    </tr>\n",
              "    <tr>\n",
              "      <th>2</th>\n",
              "      <td>Dubbele verantwoordelijkheid dus voor werkgeve...</td>\n",
              "      <td>Wed Sep 16 09:06:56 +0000 2020</td>\n",
              "      <td>wisbin</td>\n",
              "      <td>𝔻𝕠𝕔𝕖𝕟𝕥 𝕧𝕠/𝕊𝕠𝕔𝕚𝕠𝕝𝕠𝕠𝕘/𝔸𝕟𝕥𝕚𝕥𝕙𝕖ï𝕤𝕥/𝔻𝕒𝕥𝕒 ℝ𝕒𝕡𝕡𝕖𝕣/ℙ𝕚𝕩...</td>\n",
              "      <td>Schiedam, Nederland</td>\n",
              "      <td>False</td>\n",
              "      <td>Double responsibility So for employers in educ...</td>\n",
              "      <td>16</td>\n",
              "      <td>2</td>\n",
              "      <td>9</td>\n",
              "      <td>2020</td>\n",
              "      <td>(Schiedam, Zuid-Holland, Nederland, (51.930045...</td>\n",
              "      <td>(51.9300454, 4.386451052615731, 0.0)</td>\n",
              "      <td>51.93</td>\n",
              "      <td>4.38645</td>\n",
              "      <td>0</td>\n",
              "      <td>Zuid-Holland</td>\n",
              "    </tr>\n",
              "    <tr>\n",
              "      <th>3</th>\n",
              "      <td>RT @Elsdijkstra95: Nee tatuurlijk niet he. Waa...</td>\n",
              "      <td>Wed Aug 19 15:27:21 +0000 2020</td>\n",
              "      <td>lorelei3112</td>\n",
              "      <td>Hannelore Bruijn  Manus-je-van-alles in apothe...</td>\n",
              "      <td>Streefkerk</td>\n",
              "      <td>False</td>\n",
              "      <td>RT @ Elsdijkstra95 No tatuurlijk not he. Why w...</td>\n",
              "      <td>19</td>\n",
              "      <td>2</td>\n",
              "      <td>8</td>\n",
              "      <td>2020</td>\n",
              "      <td>(Streefkerk, Molenlanden, Zuid-Holland, Nederl...</td>\n",
              "      <td>(51.902614650000004, 4.775125690329026, 0.0)</td>\n",
              "      <td>51.9026</td>\n",
              "      <td>4.77513</td>\n",
              "      <td>0</td>\n",
              "      <td>Zuid-Holland</td>\n",
              "    </tr>\n",
              "    <tr>\n",
              "      <th>4</th>\n",
              "      <td>RT @mikercarpenter: News that got completely b...</td>\n",
              "      <td>Wed May 13 14:49:54 +0000 2020</td>\n",
              "      <td>mvanderKist</td>\n",
              "      <td>Jurist, oud-advocaat, kinderrechten, (jeugd)st...</td>\n",
              "      <td>Apeldoorn e.o.  Netherlands</td>\n",
              "      <td>False</td>\n",
              "      <td>RT @mikercarpenter: News that got completely b...</td>\n",
              "      <td>13</td>\n",
              "      <td>2</td>\n",
              "      <td>5</td>\n",
              "      <td>2020</td>\n",
              "      <td>(Apeldoorn, Gelderland, Nederland, (52.2156457...</td>\n",
              "      <td>(52.2156457, 5.9639485, 0.0)</td>\n",
              "      <td>52.2156</td>\n",
              "      <td>5.96395</td>\n",
              "      <td>0</td>\n",
              "      <td>Gelderland</td>\n",
              "    </tr>\n",
              "  </tbody>\n",
              "</table>\n",
              "</div>"
            ],
            "text/plain": [
              "                                           full_text  ...       Province\n",
              "0  RT @NVALeuven: Onaanvaardbaar! 😡😡😡\\n\\nSpoedig ...  ...          False\n",
              "1  Coronabonus voor leiding Zaans Medisch Centrum...  ...  Noord-Holland\n",
              "2  Dubbele verantwoordelijkheid dus voor werkgeve...  ...   Zuid-Holland\n",
              "3  RT @Elsdijkstra95: Nee tatuurlijk niet he. Waa...  ...   Zuid-Holland\n",
              "4  RT @mikercarpenter: News that got completely b...  ...     Gelderland\n",
              "\n",
              "[5 rows x 17 columns]"
            ]
          },
          "metadata": {
            "tags": []
          },
          "execution_count": 102
        }
      ]
    },
    {
      "cell_type": "code",
      "metadata": {
        "id": "HW1ATGXABj0U"
      },
      "source": [
        "dutch_tweets.to_excel('dutch_tweets.xlsx', index=False)"
      ],
      "execution_count": null,
      "outputs": []
    },
    {
      "cell_type": "code",
      "metadata": {
        "id": "jHu1EUBgBrtj"
      },
      "source": [],
      "execution_count": null,
      "outputs": []
    }
  ]
}