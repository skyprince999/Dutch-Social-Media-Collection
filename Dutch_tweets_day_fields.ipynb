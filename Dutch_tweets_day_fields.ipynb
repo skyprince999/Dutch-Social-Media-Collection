{
  "nbformat": 4,
  "nbformat_minor": 0,
  "metadata": {
    "colab": {
      "provenance": [],
      "collapsed_sections": []
    },
    "kernelspec": {
      "name": "python3",
      "display_name": "Python 3"
    }
  },
  "cells": [
    {
      "cell_type": "code",
      "metadata": {
        "id": "OZZmmXhsfrlM",
        "outputId": "3ac5a549-02d1-482f-83b5-abbee6f1bc8b",
        "colab": {
          "base_uri": "https://localhost:8080/",
          "height": 837
        }
      },
      "source": [
        "import pandas as pd\n",
        "\n",
        "dutch = pd.read_excel('Dutch tweets.xlsx')\n",
        "print(dutch.columns)\n",
        "print(dutch.shape)\n",
        "dutch.head(15)"
      ],
      "execution_count": null,
      "outputs": [
        {
          "output_type": "stream",
          "text": [
            "Index(['full_text', 'created_at', 'screen_name', 'description', 'location',\n",
            "       'Industry', 'text Translation'],\n",
            "      dtype='object')\n",
            "(1000, 7)\n"
          ],
          "name": "stdout"
        },
        {
          "output_type": "execute_result",
          "data": {
            "text/html": [
              "<div>\n",
              "<style scoped>\n",
              "    .dataframe tbody tr th:only-of-type {\n",
              "        vertical-align: middle;\n",
              "    }\n",
              "\n",
              "    .dataframe tbody tr th {\n",
              "        vertical-align: top;\n",
              "    }\n",
              "\n",
              "    .dataframe thead th {\n",
              "        text-align: right;\n",
              "    }\n",
              "</style>\n",
              "<table border=\"1\" class=\"dataframe\">\n",
              "  <thead>\n",
              "    <tr style=\"text-align: right;\">\n",
              "      <th></th>\n",
              "      <th>full_text</th>\n",
              "      <th>created_at</th>\n",
              "      <th>screen_name</th>\n",
              "      <th>description</th>\n",
              "      <th>location</th>\n",
              "      <th>Industry</th>\n",
              "      <th>text Translation</th>\n",
              "    </tr>\n",
              "  </thead>\n",
              "  <tbody>\n",
              "    <tr>\n",
              "      <th>0</th>\n",
              "      <td>RT @NVALeuven: Onaanvaardbaar! 😡😡😡\\n\\nSpoedig ...</td>\n",
              "      <td>Mon Sep 14 14:08:15 +0000 2020</td>\n",
              "      <td>karel_mortier</td>\n",
              "      <td>Vader | Echtgenoot | Leuvenaar | Advocaat  arb...</td>\n",
              "      <td>NaN</td>\n",
              "      <td>False</td>\n",
              "      <td>RT @NVALeuven: Unacceptable! 😡😡😡\\n\\nSpeedy rec...</td>\n",
              "    </tr>\n",
              "    <tr>\n",
              "      <th>1</th>\n",
              "      <td>Coronabonus voor leiding Zaans Medisch Centrum...</td>\n",
              "      <td>Sat Aug 08 13:55:42 +0000 2020</td>\n",
              "      <td>rightsofearth</td>\n",
              "      <td>Agent provocateur. Stelt rare dingen #stemrech...</td>\n",
              "      <td>Amsterdam Zuidoost</td>\n",
              "      <td>False</td>\n",
              "      <td>Corona Bonus for leadership Zaans Medical Cent...</td>\n",
              "    </tr>\n",
              "    <tr>\n",
              "      <th>2</th>\n",
              "      <td>Dubbele verantwoordelijkheid dus voor werkgeve...</td>\n",
              "      <td>Wed Sep 16 09:06:56 +0000 2020</td>\n",
              "      <td>wisbin</td>\n",
              "      <td>𝔻𝕠𝕔𝕖𝕟𝕥 𝕧𝕠/𝕊𝕠𝕔𝕚𝕠𝕝𝕠𝕠𝕘/𝔸𝕟𝕥𝕚𝕥𝕙𝕖ï𝕤𝕥/𝔻𝕒𝕥𝕒 ℝ𝕒𝕡𝕡𝕖𝕣/ℙ𝕚𝕩...</td>\n",
              "      <td>Schiedam, Nederland</td>\n",
              "      <td>False</td>\n",
              "      <td>Double responsibility So for employers in educ...</td>\n",
              "    </tr>\n",
              "    <tr>\n",
              "      <th>3</th>\n",
              "      <td>RT @Elsdijkstra95: Nee tatuurlijk niet he. Waa...</td>\n",
              "      <td>Wed Aug 19 15:27:21 +0000 2020</td>\n",
              "      <td>lorelei3112</td>\n",
              "      <td>Hannelore Bruijn  Manus-je-van-alles in apothe...</td>\n",
              "      <td>Streefkerk</td>\n",
              "      <td>False</td>\n",
              "      <td>RT @ Elsdijkstra95 No tatuurlijk not he. Why w...</td>\n",
              "    </tr>\n",
              "    <tr>\n",
              "      <th>4</th>\n",
              "      <td>RT @mikercarpenter: News that got completely b...</td>\n",
              "      <td>Wed May 13 14:49:54 +0000 2020</td>\n",
              "      <td>mvanderKist</td>\n",
              "      <td>Jurist, oud-advocaat, kinderrechten, (jeugd)st...</td>\n",
              "      <td>Apeldoorn e.o.  Netherlands</td>\n",
              "      <td>False</td>\n",
              "      <td>RT @mikercarpenter: News that got completely b...</td>\n",
              "    </tr>\n",
              "    <tr>\n",
              "      <th>5</th>\n",
              "      <td>RT @FaQuix: Nog zo’n willekeur, de kleurencode...</td>\n",
              "      <td>Sun Aug 02 21:23:26 +0000 2020</td>\n",
              "      <td>WNiemegeers</td>\n",
              "      <td>Advocaat - Адвокат/юрист - Voorzitter “Vlaams ...</td>\n",
              "      <td>NaN</td>\n",
              "      <td>False</td>\n",
              "      <td>RT @FaQuix: get area around Geneva 'code red':...</td>\n",
              "    </tr>\n",
              "    <tr>\n",
              "      <th>6</th>\n",
              "      <td>RT @RubenKorthorst: De ‘willing to pay’ lijkt ...</td>\n",
              "      <td>Wed Mar 25 11:46:27 +0000 2020</td>\n",
              "      <td>Lammerthoeve</td>\n",
              "      <td>Huisarts, Opleider, Bestuurslid VPHuisartsen. ...</td>\n",
              "      <td>NaN</td>\n",
              "      <td>False</td>\n",
              "      <td>RT @RubenKorthorst: The \"willing to pay\" appea...</td>\n",
              "    </tr>\n",
              "    <tr>\n",
              "      <th>7</th>\n",
              "      <td>Zij die vinden dat covid19 een voldoende concr...</td>\n",
              "      <td>Sun Jul 26 05:58:50 +0000 2020</td>\n",
              "      <td>2Plot</td>\n",
              "      <td>West-Vlaams advocaat wiens mening niet door ie...</td>\n",
              "      <td>NaN</td>\n",
              "      <td>False</td>\n",
              "      <td>Those who think covid19 sufficiently concrete ...</td>\n",
              "    </tr>\n",
              "    <tr>\n",
              "      <th>8</th>\n",
              "      <td>RT @FleurAgemaPVV: Ingezet voor de zorg? Je be...</td>\n",
              "      <td>Wed Jun 24 18:29:59 +0000 2020</td>\n",
              "      <td>PalingRobert</td>\n",
              "      <td>Senior redacteur Vastgoedmarkt, eeuwige advoca...</td>\n",
              "      <td>Dordrecht</td>\n",
              "      <td>False</td>\n",
              "      <td>RT @FleurAgemaPVV: Used to care? You promised ...</td>\n",
              "    </tr>\n",
              "    <tr>\n",
              "      <th>9</th>\n",
              "      <td>RT @bslagter: (A) Van Dissel legt in die video...</td>\n",
              "      <td>Wed Sep 23 06:38:09 +0000 2020</td>\n",
              "      <td>RubenKorthorst</td>\n",
              "      <td>uroloog | medisch manager | @ziekenhuisMST | U...</td>\n",
              "      <td>NaN</td>\n",
              "      <td>False</td>\n",
              "      <td>RT @bslagter: (A) From Tiller explains in this...</td>\n",
              "    </tr>\n",
              "    <tr>\n",
              "      <th>10</th>\n",
              "      <td>RT @Museumschat: Ik vind het zo erg dat hier w...</td>\n",
              "      <td>Sat Jun 27 07:52:52 +0000 2020</td>\n",
              "      <td>NazmiTurkkol</td>\n",
              "      <td>Advocaat, lid van het college van afgevaardigd...</td>\n",
              "      <td>Amsterdam, Nederland</td>\n",
              "      <td>False</td>\n",
              "      <td>@Museumschat RT: I'm so sorry to here seems to...</td>\n",
              "    </tr>\n",
              "    <tr>\n",
              "      <th>11</th>\n",
              "      <td>RT @HrothN: Wat u niet zult zien bij de staats...</td>\n",
              "      <td>Wed Aug 26 11:58:35 +0000 2020</td>\n",
              "      <td>EviletteH</td>\n",
              "      <td>Salonfasciste ende Professioneel Muggeziftster...</td>\n",
              "      <td>NaN</td>\n",
              "      <td>False</td>\n",
              "      <td>@HrothN RT: What you will not see at the state...</td>\n",
              "    </tr>\n",
              "    <tr>\n",
              "      <th>12</th>\n",
              "      <td>RT @fransweisglas: Terechte woede. Maar dit is...</td>\n",
              "      <td>Sat Aug 08 13:07:51 +0000 2020</td>\n",
              "      <td>LuukWilson</td>\n",
              "      <td>Leefbaar Rotterdam</td>\n",
              "      <td>Rotterdam</td>\n",
              "      <td>False</td>\n",
              "      <td>RT @fransweisglas: Justified anger. But this i...</td>\n",
              "    </tr>\n",
              "    <tr>\n",
              "      <th>13</th>\n",
              "      <td>Nederland gaat verder open. Coronavirus heeft ...</td>\n",
              "      <td>Tue Jun 23 07:47:54 +0000 2020</td>\n",
              "      <td>KienhuisHoving1</td>\n",
              "      <td>Advocaten en notarissen, alle rechtsgebieden, ...</td>\n",
              "      <td>Enschede</td>\n",
              "      <td>True</td>\n",
              "      <td>Netherlands goes further. Coronavirus has repe...</td>\n",
              "    </tr>\n",
              "    <tr>\n",
              "      <th>14</th>\n",
              "      <td>Onbegrijpelijk dat de EU de regels voor het te...</td>\n",
              "      <td>Mon Jun 29 09:39:40 +0000 2020</td>\n",
              "      <td>vandesanden2</td>\n",
              "      <td>Advocaat bestuurs- en privacyrecht</td>\n",
              "      <td>'s-Hertogenbosch, Nederland</td>\n",
              "      <td>True</td>\n",
              "      <td>Incomprehensible that the EU will facilitate t...</td>\n",
              "    </tr>\n",
              "  </tbody>\n",
              "</table>\n",
              "</div>"
            ],
            "text/plain": [
              "                                            full_text  ...                                   text Translation\n",
              "0   RT @NVALeuven: Onaanvaardbaar! 😡😡😡\\n\\nSpoedig ...  ...  RT @NVALeuven: Unacceptable! 😡😡😡\\n\\nSpeedy rec...\n",
              "1   Coronabonus voor leiding Zaans Medisch Centrum...  ...  Corona Bonus for leadership Zaans Medical Cent...\n",
              "2   Dubbele verantwoordelijkheid dus voor werkgeve...  ...  Double responsibility So for employers in educ...\n",
              "3   RT @Elsdijkstra95: Nee tatuurlijk niet he. Waa...  ...  RT @ Elsdijkstra95 No tatuurlijk not he. Why w...\n",
              "4   RT @mikercarpenter: News that got completely b...  ...  RT @mikercarpenter: News that got completely b...\n",
              "5   RT @FaQuix: Nog zo’n willekeur, de kleurencode...  ...  RT @FaQuix: get area around Geneva 'code red':...\n",
              "6   RT @RubenKorthorst: De ‘willing to pay’ lijkt ...  ...  RT @RubenKorthorst: The \"willing to pay\" appea...\n",
              "7   Zij die vinden dat covid19 een voldoende concr...  ...  Those who think covid19 sufficiently concrete ...\n",
              "8   RT @FleurAgemaPVV: Ingezet voor de zorg? Je be...  ...  RT @FleurAgemaPVV: Used to care? You promised ...\n",
              "9   RT @bslagter: (A) Van Dissel legt in die video...  ...  RT @bslagter: (A) From Tiller explains in this...\n",
              "10  RT @Museumschat: Ik vind het zo erg dat hier w...  ...  @Museumschat RT: I'm so sorry to here seems to...\n",
              "11  RT @HrothN: Wat u niet zult zien bij de staats...  ...  @HrothN RT: What you will not see at the state...\n",
              "12  RT @fransweisglas: Terechte woede. Maar dit is...  ...  RT @fransweisglas: Justified anger. But this i...\n",
              "13  Nederland gaat verder open. Coronavirus heeft ...  ...  Netherlands goes further. Coronavirus has repe...\n",
              "14  Onbegrijpelijk dat de EU de regels voor het te...  ...  Incomprehensible that the EU will facilitate t...\n",
              "\n",
              "[15 rows x 7 columns]"
            ]
          },
          "metadata": {
            "tags": []
          },
          "execution_count": 1
        }
      ]
    },
    {
      "cell_type": "code",
      "metadata": {
        "id": "4eCBm4eAgMjL",
        "outputId": "5da092ae-b20a-443d-fbfb-6027c42d44ad",
        "colab": {
          "base_uri": "https://localhost:8080/",
          "height": 35
        }
      },
      "source": [
        "dutch['created_at'][0]"
      ],
      "execution_count": null,
      "outputs": [
        {
          "output_type": "execute_result",
          "data": {
            "application/vnd.google.colaboratory.intrinsic+json": {
              "type": "string"
            },
            "text/plain": [
              "'Mon Sep 14 14:08:15 +0000 2020'"
            ]
          },
          "metadata": {
            "tags": []
          },
          "execution_count": 2
        }
      ]
    },
    {
      "cell_type": "code",
      "metadata": {
        "id": "d5Nn1XNxkinm",
        "outputId": "86714f65-677d-4315-dc4b-7d7f432730a2",
        "colab": {
          "base_uri": "https://localhost:8080/",
          "height": 35
        }
      },
      "source": [
        "dutch['created_at'][0][:-11] + dutch['created_at'][0][-5:] "
      ],
      "execution_count": null,
      "outputs": [
        {
          "output_type": "execute_result",
          "data": {
            "application/vnd.google.colaboratory.intrinsic+json": {
              "type": "string"
            },
            "text/plain": [
              "'Mon Sep 14 14:08:15 2020'"
            ]
          },
          "metadata": {
            "tags": []
          },
          "execution_count": 13
        }
      ]
    },
    {
      "cell_type": "code",
      "metadata": {
        "id": "joDADvQPlYk9",
        "outputId": "5ce70d3d-9e90-445e-c77f-d46030a1e049",
        "colab": {
          "base_uri": "https://localhost:8080/",
          "height": 34
        }
      },
      "source": [
        "datetime.datetime.strptime(\"Mon Sep 14 14:08:15 +0000 2020\", '%a %b %d %H:%M:%S %z %Y')"
      ],
      "execution_count": null,
      "outputs": [
        {
          "output_type": "execute_result",
          "data": {
            "text/plain": [
              "datetime.datetime(2020, 9, 14, 14, 8, 15, tzinfo=datetime.timezone.utc)"
            ]
          },
          "metadata": {
            "tags": []
          },
          "execution_count": 22
        }
      ]
    },
    {
      "cell_type": "code",
      "metadata": {
        "id": "FdWULjYOhkzX",
        "outputId": "91b7bad8-825a-414d-b096-254b09defdf4",
        "colab": {
          "base_uri": "https://localhost:8080/",
          "height": 34
        }
      },
      "source": [
        "import datetime\n",
        "\n",
        "date_time_str = dutch['created_at'][0]#dutch['created_at'][0][:-11] + dutch['created_at'][0][-5:] \n",
        "print(date_time_str) \n",
        "\n",
        "# Format taken from \n",
        "# https://www.journaldev.com/23365/python-string-to-datetime-strptime\n",
        "date_time_obj = datetime.datetime.strptime(date_time_str, '%a %b %d %H:%M:%S %z %Y') # E MMM d HH:mm:ss Z yyyy  # %Y-%m-%d %H:%M:%S.%f\n"
      ],
      "execution_count": null,
      "outputs": [
        {
          "output_type": "stream",
          "text": [
            "Mon Sep 14 14:08:15 +0000 2020\n"
          ],
          "name": "stdout"
        }
      ]
    },
    {
      "cell_type": "code",
      "metadata": {
        "id": "xviczQG7jjfn"
      },
      "source": [
        "dutch['dateObject'] = dutch['created_at'].apply(lambda x: datetime.datetime.strptime(x, '%a %b %d %H:%M:%S %z %Y'))"
      ],
      "execution_count": null,
      "outputs": []
    },
    {
      "cell_type": "code",
      "metadata": {
        "id": "wZLOVKuNnWiQ"
      },
      "source": [
        "dutch['Weekday'] = dutch['dateObject'].apply(lambda x: x.weekday)\n",
        "dutch['Month'] = dutch['dateObject'].apply(lambda x: x.month)\n",
        "dutch['Year'] = dutch['dateObject'].apply(lambda x: x.year)\n",
        "dutch.drop(['dateObject'], axis=1, inplace=True)"
      ],
      "execution_count": null,
      "outputs": []
    },
    {
      "cell_type": "code",
      "metadata": {
        "id": "C0DYg80OoOPZ"
      },
      "source": [
        "dutch.to_excel('dutch_tweets.xlsx', index=False)"
      ],
      "execution_count": null,
      "outputs": []
    },
    {
      "cell_type": "code",
      "metadata": {
        "id": "i1TI4vpOo-Qq"
      },
      "source": [],
      "execution_count": null,
      "outputs": []
    }
  ]
}