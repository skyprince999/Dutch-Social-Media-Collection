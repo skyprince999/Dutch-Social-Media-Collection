{
  "nbformat": 4,
  "nbformat_minor": 0,
  "metadata": {
    "colab": {
      "provenance": [],
      "collapsed_sections": []
    },
    "kernelspec": {
      "name": "python3",
      "display_name": "Python 3"
    }
  },
  "cells": [
    {
      "cell_type": "markdown",
      "metadata": {
        "id": "34qv_VWHFLgL"
      },
      "source": [
        "DATE: 26th Oct 2020\n",
        "\n",
        "This file will iterate over all the data files. Take one chunk of allData and then iterate over the rows to dientify province matches ...It will also read the HSN HISCO codes and update it in the respective columns\n",
        "\n",
        "\n",
        "1. Read allData_chunk{idx}.csv\n",
        "2. Iterate through rows and check for allLocation_chunks\n",
        "3. Update the location information \n",
        "4. Iterate through the tweet text & update the HISCO codes\n",
        "5. Save the file to Gdrive\n",
        "\n",
        "HISCO codes (for single file) was done in the following colab notebook\n",
        "Previous version can be found here:\n",
        "\n",
        "https://colab.research.google.com/drive/1Ja5HNwJxR9pyDLcqizpi475AT9O41glY#scrollTo=LwCAd5y93e6L"
      ]
    },
    {
      "cell_type": "code",
      "metadata": {
        "id": "-O-mpXxxFBif",
        "outputId": "998a022b-631b-4247-e08e-1a0b499a6b43",
        "colab": {
          "base_uri": "https://localhost:8080/",
          "height": 34
        }
      },
      "source": [
        "from google.colab import drive\n",
        "drive.mount('/content/drive')"
      ],
      "execution_count": null,
      "outputs": [
        {
          "output_type": "stream",
          "text": [
            "Mounted at /content/drive\n"
          ],
          "name": "stdout"
        }
      ]
    },
    {
      "cell_type": "code",
      "metadata": {
        "id": "TUJmcWAiF-uO",
        "outputId": "3fd64ffc-4dad-4135-d611-2031cd56f1c3",
        "colab": {
          "base_uri": "https://localhost:8080/",
          "height": 187
        }
      },
      "source": [
        "!cp -r drive/\"My Drive\"/\"Dutch Tweets\" ."
      ],
      "execution_count": null,
      "outputs": [
        {
          "output_type": "stream",
          "text": [
            "cp: cannot open 'drive/My Drive/Dutch Tweets/allDataList_chunk6.gsheet' for reading: Operation not supported\n",
            "cp: cannot open 'drive/My Drive/Dutch Tweets/allDataList_chunk9.gsheet' for reading: Operation not supported\n",
            "cp: cannot open 'drive/My Drive/Dutch Tweets/allDataList_chunk0.gsheet' for reading: Operation not supported\n",
            "cp: cannot open 'drive/My Drive/Dutch Tweets/allDataList_chunk1.gsheet' for reading: Operation not supported\n",
            "cp: cannot open 'drive/My Drive/Dutch Tweets/allDataList_chunk2.gsheet' for reading: Operation not supported\n",
            "cp: cannot open 'drive/My Drive/Dutch Tweets/allDataList_chunk3.gsheet' for reading: Operation not supported\n",
            "cp: cannot open 'drive/My Drive/Dutch Tweets/allDataList_chunk4.gsheet' for reading: Operation not supported\n",
            "cp: cannot open 'drive/My Drive/Dutch Tweets/allDataList_chunk5.gsheet' for reading: Operation not supported\n",
            "cp: cannot open 'drive/My Drive/Dutch Tweets/allDataList_chunk8.gsheet' for reading: Operation not supported\n",
            "cp: cannot open 'drive/My Drive/Dutch Tweets/allDataList_chunk7.gsheet' for reading: Operation not supported\n"
          ],
          "name": "stdout"
        }
      ]
    },
    {
      "cell_type": "code",
      "metadata": {
        "id": "RGvngwlIGFY6",
        "outputId": "72f556e1-69f4-4d8f-cacb-88693476c54f",
        "colab": {
          "base_uri": "https://localhost:8080/",
          "height": 85
        }
      },
      "source": [
        "# Read and concatenate all the location data \n",
        "import pandas as pd \n",
        "\n",
        "allLocation = pd.DataFrame()\n",
        "\n",
        "for idx in range(10):\n",
        "  try:\n",
        "    allLocation = pd.concat([allLocation, pd.read_csv(\"Dutch Tweets/Location CSV/allLocation_chunk\"+ str(idx) +\".csv\")], axis=0)\n",
        "  except:\n",
        "    print(\"Error encountered on the following chunk: \", idx)\n",
        "    pass\n",
        "\n",
        "print(\"Shape of allLocation dataframe: \", allLocation.shape)\n",
        "allLocation.columns"
      ],
      "execution_count": null,
      "outputs": [
        {
          "output_type": "stream",
          "text": [
            "Shape of allLocation dataframe:  (14809, 8)\n"
          ],
          "name": "stdout"
        },
        {
          "output_type": "execute_result",
          "data": {
            "text/plain": [
              "Index(['Unnamed: 0', 'location', 'point_info', 'point', 'latitude',\n",
              "       'longitude', 'altitude', 'Province'],\n",
              "      dtype='object')"
            ]
          },
          "metadata": {
            "tags": []
          },
          "execution_count": 123
        }
      ]
    },
    {
      "cell_type": "code",
      "metadata": {
        "id": "D3MEDXnSLEz4",
        "outputId": "78dee6be-10b8-4f73-e074-d842a4d16845",
        "colab": {
          "base_uri": "https://localhost:8080/",
          "height": 514
        }
      },
      "source": [
        "# Preprocess the location file by updating the string information\n",
        "\n",
        "allLocation.drop(columns=['Unnamed: 0'], inplace=True)\n",
        "allLocation.reset_index(inplace=True, drop=True)\n",
        "allLocation['location'] = allLocation['location'].astype(\"str\")\n",
        "allLocation.head(15)"
      ],
      "execution_count": null,
      "outputs": [
        {
          "output_type": "execute_result",
          "data": {
            "text/html": [
              "<div>\n",
              "<style scoped>\n",
              "    .dataframe tbody tr th:only-of-type {\n",
              "        vertical-align: middle;\n",
              "    }\n",
              "\n",
              "    .dataframe tbody tr th {\n",
              "        vertical-align: top;\n",
              "    }\n",
              "\n",
              "    .dataframe thead th {\n",
              "        text-align: right;\n",
              "    }\n",
              "</style>\n",
              "<table border=\"1\" class=\"dataframe\">\n",
              "  <thead>\n",
              "    <tr style=\"text-align: right;\">\n",
              "      <th></th>\n",
              "      <th>location</th>\n",
              "      <th>point_info</th>\n",
              "      <th>point</th>\n",
              "      <th>latitude</th>\n",
              "      <th>longitude</th>\n",
              "      <th>altitude</th>\n",
              "      <th>Province</th>\n",
              "    </tr>\n",
              "  </thead>\n",
              "  <tbody>\n",
              "    <tr>\n",
              "      <th>0</th>\n",
              "      <td>Netherlands</td>\n",
              "      <td>Nederland</td>\n",
              "      <td>(52.5001698, 5.7480821, 0.0)</td>\n",
              "      <td>52.500170</td>\n",
              "      <td>5.748082</td>\n",
              "      <td>0.0</td>\n",
              "      <td>Flevoland</td>\n",
              "    </tr>\n",
              "    <tr>\n",
              "      <th>1</th>\n",
              "      <td>Amsterdam, The Netherlands</td>\n",
              "      <td>Amsterdam, Noord-Holland, Nederland</td>\n",
              "      <td>(52.3727598, 4.8936041, 0.0)</td>\n",
              "      <td>52.372760</td>\n",
              "      <td>4.893604</td>\n",
              "      <td>0.0</td>\n",
              "      <td>Noord-Holland</td>\n",
              "    </tr>\n",
              "    <tr>\n",
              "      <th>2</th>\n",
              "      <td>nan</td>\n",
              "      <td>Nanno, Comunità della Val di Non, Provincia di...</td>\n",
              "      <td>(46.3144754, 11.0480288, 0.0)</td>\n",
              "      <td>46.314475</td>\n",
              "      <td>11.048029</td>\n",
              "      <td>0.0</td>\n",
              "      <td>False</td>\n",
              "    </tr>\n",
              "    <tr>\n",
              "      <th>3</th>\n",
              "      <td>Amsterdam</td>\n",
              "      <td>Amsterdam, Noord-Holland, Nederland</td>\n",
              "      <td>(52.3727598, 4.8936041, 0.0)</td>\n",
              "      <td>52.372760</td>\n",
              "      <td>4.893604</td>\n",
              "      <td>0.0</td>\n",
              "      <td>Noord-Holland</td>\n",
              "    </tr>\n",
              "    <tr>\n",
              "      <th>4</th>\n",
              "      <td>The Netherlands</td>\n",
              "      <td>Nederland</td>\n",
              "      <td>(52.5001698, 5.7480821, 0.0)</td>\n",
              "      <td>52.500170</td>\n",
              "      <td>5.748082</td>\n",
              "      <td>0.0</td>\n",
              "      <td>Flevoland</td>\n",
              "    </tr>\n",
              "    <tr>\n",
              "      <th>5</th>\n",
              "      <td>NLD-DEU</td>\n",
              "      <td>Aeropuerto Intl. Quetzalcóatl, Anzures, Fracci...</td>\n",
              "      <td>(27.442489899999998, -99.56709906841328, 0.0)</td>\n",
              "      <td>27.442490</td>\n",
              "      <td>-99.567099</td>\n",
              "      <td>0.0</td>\n",
              "      <td>False</td>\n",
              "    </tr>\n",
              "    <tr>\n",
              "      <th>6</th>\n",
              "      <td>Lopik / Holland</td>\n",
              "      <td>Lopik, Utrecht, Nederland</td>\n",
              "      <td>(51.9752848, 4.9491743, 0.0)</td>\n",
              "      <td>51.975285</td>\n",
              "      <td>4.949174</td>\n",
              "      <td>0.0</td>\n",
              "      <td>Utrecht</td>\n",
              "    </tr>\n",
              "    <tr>\n",
              "      <th>7</th>\n",
              "      <td>Groningen, Nederland</td>\n",
              "      <td>Groningen, Nederland</td>\n",
              "      <td>(53.2190652, 6.5680077, 0.0)</td>\n",
              "      <td>53.219065</td>\n",
              "      <td>6.568008</td>\n",
              "      <td>0.0</td>\n",
              "      <td>Groningen</td>\n",
              "    </tr>\n",
              "    <tr>\n",
              "      <th>8</th>\n",
              "      <td>Utrecht, Netherlands</td>\n",
              "      <td>Utrecht, Nederland</td>\n",
              "      <td>(52.0949753, 5.109708, 0.0)</td>\n",
              "      <td>52.094975</td>\n",
              "      <td>5.109708</td>\n",
              "      <td>0.0</td>\n",
              "      <td>Utrecht</td>\n",
              "    </tr>\n",
              "    <tr>\n",
              "      <th>9</th>\n",
              "      <td>Utrecht</td>\n",
              "      <td>Utrecht, Nederland</td>\n",
              "      <td>(52.0949753, 5.109708, 0.0)</td>\n",
              "      <td>52.094975</td>\n",
              "      <td>5.109708</td>\n",
              "      <td>0.0</td>\n",
              "      <td>Utrecht</td>\n",
              "    </tr>\n",
              "    <tr>\n",
              "      <th>10</th>\n",
              "      <td>Ergens op de wereld</td>\n",
              "      <td>NaN</td>\n",
              "      <td>NaN</td>\n",
              "      <td>NaN</td>\n",
              "      <td>NaN</td>\n",
              "      <td>NaN</td>\n",
              "      <td>False</td>\n",
              "    </tr>\n",
              "    <tr>\n",
              "      <th>11</th>\n",
              "      <td>Nijmegen/Nimègue, Pays-Bas</td>\n",
              "      <td>Nijmegen, Gelderland, Nederland</td>\n",
              "      <td>(51.842574850000005, 5.838960628748229, 0.0)</td>\n",
              "      <td>51.842575</td>\n",
              "      <td>5.838961</td>\n",
              "      <td>0.0</td>\n",
              "      <td>Gelderland</td>\n",
              "    </tr>\n",
              "    <tr>\n",
              "      <th>12</th>\n",
              "      <td>Leidschendam-Voorburg</td>\n",
              "      <td>Leidschendam-Voorburg, Zuid-Holland, Nederland</td>\n",
              "      <td>(52.09260105, 4.4321249720751625, 0.0)</td>\n",
              "      <td>52.092601</td>\n",
              "      <td>4.432125</td>\n",
              "      <td>0.0</td>\n",
              "      <td>Zuid-Holland</td>\n",
              "    </tr>\n",
              "    <tr>\n",
              "      <th>13</th>\n",
              "      <td>045 Zuid-Limburg - Nederlandje</td>\n",
              "      <td>NaN</td>\n",
              "      <td>NaN</td>\n",
              "      <td>NaN</td>\n",
              "      <td>NaN</td>\n",
              "      <td>NaN</td>\n",
              "      <td>False</td>\n",
              "    </tr>\n",
              "    <tr>\n",
              "      <th>14</th>\n",
              "      <td>Groningen, Netherlands</td>\n",
              "      <td>Groningen, Nederland</td>\n",
              "      <td>(53.2190652, 6.5680077, 0.0)</td>\n",
              "      <td>53.219065</td>\n",
              "      <td>6.568008</td>\n",
              "      <td>0.0</td>\n",
              "      <td>Groningen</td>\n",
              "    </tr>\n",
              "  </tbody>\n",
              "</table>\n",
              "</div>"
            ],
            "text/plain": [
              "                          location  ...       Province\n",
              "0                      Netherlands  ...      Flevoland\n",
              "1       Amsterdam, The Netherlands  ...  Noord-Holland\n",
              "2                              nan  ...          False\n",
              "3                        Amsterdam  ...  Noord-Holland\n",
              "4                  The Netherlands  ...      Flevoland\n",
              "5                          NLD-DEU  ...          False\n",
              "6                  Lopik / Holland  ...        Utrecht\n",
              "7             Groningen, Nederland  ...      Groningen\n",
              "8             Utrecht, Netherlands  ...        Utrecht\n",
              "9                          Utrecht  ...        Utrecht\n",
              "10             Ergens op de wereld  ...          False\n",
              "11      Nijmegen/Nimègue, Pays-Bas  ...     Gelderland\n",
              "12           Leidschendam-Voorburg  ...   Zuid-Holland\n",
              "13  045 Zuid-Limburg - Nederlandje  ...          False\n",
              "14          Groningen, Netherlands  ...      Groningen\n",
              "\n",
              "[15 rows x 7 columns]"
            ]
          },
          "metadata": {
            "tags": []
          },
          "execution_count": 124
        }
      ]
    },
    {
      "cell_type": "code",
      "metadata": {
        "id": "SV5z9o_Fnj63",
        "outputId": "05c79023-d894-4a11-8bac-2e223066a781",
        "colab": {
          "base_uri": "https://localhost:8080/",
          "height": 68
        }
      },
      "source": [
        "## Read the HSN HISCO codes and process it \n",
        "\n",
        "# Read the HSNHISCO code file\n",
        "hsnhisco = pd.read_excel(\"Dutch Tweets/hsnhisco.xlsx\")\n",
        "hsnhisco.drop_duplicates(subset=['Standard', 'HISCO'], inplace=True)\n",
        "print(hsnhisco.shape)\n",
        "hsnhisco.head()\n",
        "\n",
        "# Create a Series of unique HSN HISCO codes\n",
        "# And then extract list of all codes \n",
        "\n",
        "hsnhisco_dict = pd.Series(hsnhisco['HISCO'].values,index=hsnhisco['Standard']).to_dict()\n",
        "print(hsnhisco.shape)\n",
        "hisco_list = list(set(list(hsnhisco['Standard'])))\n",
        "print(len(hisco_list))"
      ],
      "execution_count": null,
      "outputs": [
        {
          "output_type": "stream",
          "text": [
            "(34257, 15)\n",
            "(34257, 15)\n",
            "34257\n"
          ],
          "name": "stdout"
        }
      ]
    },
    {
      "cell_type": "markdown",
      "metadata": {
        "id": "QNw1iltFPeTc"
      },
      "source": [
        "Read the data files"
      ]
    },
    {
      "cell_type": "code",
      "metadata": {
        "id": "Vv6_L4oqLpz4"
      },
      "source": [
        "# ## For debugging next code blocks\n",
        "\n",
        "idx =5\n",
        "allData_chunk = pd.read_excel(\"Dutch Tweets/Tweets Excel Version_v1/allDataList_chunk\"+str(idx) + \".xlsx\", dtype={'full_text': 'str', 'text Translation': 'str', \n",
        "                                                                                                        'description':'str','desc Translation': 'str', \n",
        "                                                                                                        'location': 'str'})\n",
        "allData_chunk.reset_index(inplace=True, drop=True)\n",
        "allData_chunk['location'] = allData_chunk['location'].astype(\"str\")\n",
        "allData_chunk.head()"
      ],
      "execution_count": null,
      "outputs": []
    },
    {
      "cell_type": "code",
      "metadata": {
        "id": "fJoWneutL55k"
      },
      "source": [
        "# allData = pd.merge(allData_chunk, allLocation,how='left', on= ['location'], suffixes=(\"_data\",\"_loc\") )\n",
        "# allData.head()"
      ],
      "execution_count": null,
      "outputs": []
    },
    {
      "cell_type": "code",
      "metadata": {
        "id": "LFFxxEJgrw3k",
        "outputId": "219f818f-b6a4-4381-adf5-9aa9597b6ee7",
        "colab": {
          "base_uri": "https://localhost:8080/",
          "height": 34
        }
      },
      "source": [
        "# print(f\"Saving chunk to file: allData_chunk{idx}.xlsx\" )"
      ],
      "execution_count": null,
      "outputs": [
        {
          "output_type": "stream",
          "text": [
            "Saving chunk to file: allData_chunk0.xlsx\n"
          ],
          "name": "stdout"
        }
      ]
    },
    {
      "cell_type": "code",
      "metadata": {
        "id": "KVv0IkUSGvAS",
        "outputId": "d7734c25-00b7-4d96-e521-15b6945b165d",
        "colab": {
          "base_uri": "https://localhost:8080/",
          "height": 255
        }
      },
      "source": [
        "# read each allData chunk & merge with allLocation file. \n",
        "# write it back to local disk\n",
        "\n",
        "for idx in range(3, 10):\n",
        "  print(f\"Processing chunk: {idx}\")\n",
        "  try:\n",
        "    allData_chunk = pd.read_excel(\"Dutch Tweets/Tweets Excel Version_v1/allDataList_chunk\"+str(idx) + \".xlsx\", dtype={'full_text': 'str', 'text Translation': 'str', \n",
        "                                                                                                        'description':'str','desc Translation': 'str', \n",
        "                                                                                                        'location': 'str'})\n",
        "  except:\n",
        "    print(\"Error process chunk: \", idx)\n",
        "    pass\n",
        "  allData_chunk.reset_index(inplace=True, drop=True)\n",
        "  allData_chunk['location'] = allData_chunk['location'].astype(\"str\")\n",
        "  \n",
        "  allData = pd.merge(allData_chunk, allLocation,how='left', on= ['location'], suffixes=(\"_data\",\"_loc\") )\n",
        "\n",
        "  # apply the hisco code & standard\n",
        "  allData['hisco_standard'] = allData['full_text'].apply(lambda tweet: [str(i) for i in hisco_list if i in str(tweet)])\n",
        "  allData['hisco_code'] = allData['full_text'].apply(lambda tweet: [str(hsnhisco_dict[i]) for i in hisco_list if i in str(tweet)])\n",
        "\n",
        "  # process the results, to ensure that the list brackets are removed    \n",
        "  allData['hisco_standard'] = allData['hisco_standard'].apply(lambda text: str(text)[2:len(str(text))-2] ) \n",
        "  allData['hisco_code'] = allData['hisco_code'].apply(lambda text: str(text)[2:len(str(text))-2] )\n",
        "\n",
        "  print(f\"Saving chunk to file: allData_chunk{idx}.xlsx\" )\n",
        "  allData.to_excel(\"allData_chunk\"+ str(idx) + \".xlsx\", index=False)"
      ],
      "execution_count": null,
      "outputs": [
        {
          "output_type": "stream",
          "text": [
            "Processing chunk: 3\n",
            "Saving chunk to file: allData_chunk3.xlsx\n",
            "Processing chunk: 4\n",
            "Saving chunk to file: allData_chunk4.xlsx\n",
            "Processing chunk: 5\n",
            "Saving chunk to file: allData_chunk5.xlsx\n",
            "Processing chunk: 6\n",
            "Saving chunk to file: allData_chunk6.xlsx\n",
            "Processing chunk: 7\n",
            "Saving chunk to file: allData_chunk7.xlsx\n",
            "Processing chunk: 8\n",
            "Saving chunk to file: allData_chunk8.xlsx\n",
            "Processing chunk: 9\n",
            "Saving chunk to file: allData_chunk9.xlsx\n"
          ],
          "name": "stdout"
        }
      ]
    },
    {
      "cell_type": "code",
      "metadata": {
        "id": "LOReDwWpjpYK"
      },
      "source": [
        "!cp *.xlsx drive/\"My Drive\"/\"Dutch Tweets\"/\"Tweets Excel_v3\""
      ],
      "execution_count": null,
      "outputs": []
    },
    {
      "cell_type": "code",
      "metadata": {
        "id": "SUMPheyQkG_1",
        "outputId": "36f6c6ef-34ac-4a47-b0c3-05bf73e8e827",
        "colab": {
          "base_uri": "https://localhost:8080/",
          "height": 34
        }
      },
      "source": [
        "drive.flush_and_unmount()\n",
        "print('All changes made in this colab session should now be visible in Drive.')"
      ],
      "execution_count": null,
      "outputs": [
        {
          "output_type": "stream",
          "text": [
            "All changes made in this colab session should now be visible in Drive.\n"
          ],
          "name": "stdout"
        }
      ]
    },
    {
      "cell_type": "code",
      "metadata": {
        "id": "SGpgl_uTkNaK",
        "outputId": "3028af9a-ba84-48ff-d61a-4b8dca106f57",
        "colab": {
          "base_uri": "https://localhost:8080/",
          "height": 187
        }
      },
      "source": [
        "for idx in range(10):\n",
        "  try:\n",
        "    allData =pd.read_excel(\"allData_chunk\"+str(idx)+\".xlsx\")\n",
        "    print(f'Shape of data chunk {idx} :: {allData.shape}')\n",
        "  except Exception as err:\n",
        "    print(f\"Error processing chun {idx}\")\n",
        "    print(err)\n",
        "    pass\n",
        "  \n",
        "  "
      ],
      "execution_count": null,
      "outputs": [
        {
          "output_type": "stream",
          "text": [
            "Shape of data chunk 0 :: (27019, 19)\n",
            "Shape of data chunk 1 :: (27142, 19)\n",
            "Shape of data chunk 2 :: (27130, 19)\n",
            "Shape of data chunk 3 :: (27112, 19)\n",
            "Shape of data chunk 4 :: (27217, 19)\n",
            "Shape of data chunk 5 :: (27104, 19)\n",
            "Shape of data chunk 6 :: (27026, 19)\n",
            "Shape of data chunk 7 :: (27234, 19)\n",
            "Shape of data chunk 8 :: (27137, 19)\n",
            "Shape of data chunk 9 :: (27221, 18)\n"
          ],
          "name": "stdout"
        }
      ]
    },
    {
      "cell_type": "code",
      "metadata": {
        "id": "fkbctinGton_",
        "outputId": "088c439c-4f85-4a97-ae02-ffaf43d682de",
        "colab": {
          "base_uri": "https://localhost:8080/",
          "height": 34
        }
      },
      "source": [
        "## For debugging next code block\n",
        "idx = 0\n",
        "\n",
        "allData =pd.read_excel(\"allData_chunk\"+str(idx)+\".xlsx\")\n",
        "print(f'Shape of data chunk {idx} :: {allData.shape}')"
      ],
      "execution_count": null,
      "outputs": [
        {
          "output_type": "stream",
          "text": [
            "Shape of data chunk 0 :: (27019, 19)\n"
          ],
          "name": "stdout"
        }
      ]
    },
    {
      "cell_type": "code",
      "metadata": {
        "id": "WezvXbXut3Hr",
        "outputId": "238c249e-c1f3-4ddf-9884-6acd466563ed",
        "colab": {
          "base_uri": "https://localhost:8080/",
          "height": 102
        }
      },
      "source": [
        "allData.columns"
      ],
      "execution_count": null,
      "outputs": [
        {
          "output_type": "execute_result",
          "data": {
            "text/plain": [
              "Index(['full_text', 'text Translation', 'created_at', 'screen_name',\n",
              "       'description', 'desc Translation', 'location', 'Weekday', 'Month',\n",
              "       'Year', 'Day', 'point_info', 'point', 'latitude', 'longitude',\n",
              "       'altitude', 'Province', 'hisco_standard', 'hisco_code'],\n",
              "      dtype='object')"
            ]
          },
          "metadata": {
            "tags": []
          },
          "execution_count": 207
        }
      ]
    },
    {
      "cell_type": "code",
      "metadata": {
        "id": "GOhto1UJwGHT"
      },
      "source": [
        "# allData[allData['location'].isnull()]"
      ],
      "execution_count": null,
      "outputs": []
    },
    {
      "cell_type": "code",
      "metadata": {
        "id": "BX4I8slBvrhU"
      },
      "source": [
        "allData.loc[allData['location'].isnull(), 'point_info'] = ''\n",
        "allData.loc[allData['location'].isnull(), 'point'] = ''\n",
        "allData.loc[allData['location'].isnull(), 'latitude'] = ''\n",
        "allData.loc[allData['location'].isnull(), 'longitude'] = ''"
      ],
      "execution_count": null,
      "outputs": []
    },
    {
      "cell_type": "code",
      "metadata": {
        "id": "sZJZ_umC1T-c"
      },
      "source": [
        "allData.to_csv(\"allData_chunk\"+ str(idx) + \".xlsx\", index=False)"
      ],
      "execution_count": null,
      "outputs": []
    },
    {
      "cell_type": "code",
      "metadata": {
        "id": "Ke-0ZcFl0PWv",
        "outputId": "5d9c1e6f-aae1-4fe7-b9c1-a16cd985ec0f",
        "colab": {
          "base_uri": "https://localhost:8080/",
          "height": 357
        }
      },
      "source": [
        "for idx in range(10):\n",
        "  try:\n",
        "    allData =pd.read_excel(\"allData_chunk\"+str(idx)+\".xlsx\")\n",
        "    print(f'Shape of data chunk {idx} :: {allData.shape}.....Processing....')\n",
        "    allData.loc[allData['location'].isnull(), 'point_info'] = ''\n",
        "    allData.loc[allData['location'].isnull(), 'point'] = ''\n",
        "    allData.loc[allData['location'].isnull(), 'latitude'] = ''\n",
        "    allData.loc[allData['location'].isnull(), 'longitude'] = ''\n",
        "    print(f'Saving file allData_chunk{idx}.xlsx')\n",
        "    allData.to_csv(\"allData_chunk\"+ str(idx) + \".xlsx\", index=False)\n",
        "  except Exception as err:\n",
        "    print(f\"Error processing chunk {idx}\")\n",
        "    print(err)\n",
        "    pass\n",
        "  \n",
        "  "
      ],
      "execution_count": null,
      "outputs": [
        {
          "output_type": "stream",
          "text": [
            "Error processing chun 0\n",
            "Unsupported format, or corrupt file: Expected BOF record; found b'full_tex'\n",
            "Shape of data chunk 1 :: (27142, 19).....Processing....\n",
            "Saving file allData_chunk1.xlsx\n",
            "Shape of data chunk 2 :: (27130, 19).....Processing....\n",
            "Saving file allData_chunk2.xlsx\n",
            "Shape of data chunk 3 :: (27112, 19).....Processing....\n",
            "Saving file allData_chunk3.xlsx\n",
            "Shape of data chunk 4 :: (27217, 19).....Processing....\n",
            "Saving file allData_chunk4.xlsx\n",
            "Shape of data chunk 5 :: (27104, 19).....Processing....\n",
            "Saving file allData_chunk5.xlsx\n",
            "Shape of data chunk 6 :: (27026, 19).....Processing....\n",
            "Saving file allData_chunk6.xlsx\n",
            "Shape of data chunk 7 :: (27234, 19).....Processing....\n",
            "Saving file allData_chunk7.xlsx\n",
            "Shape of data chunk 8 :: (27137, 19).....Processing....\n",
            "Saving file allData_chunk8.xlsx\n",
            "Shape of data chunk 9 :: (27221, 18).....Processing....\n",
            "Saving file allData_chunk9.xlsx\n"
          ],
          "name": "stdout"
        }
      ]
    },
    {
      "cell_type": "code",
      "metadata": {
        "id": "CcMd3Tgn0_dJ",
        "outputId": "75a15857-9081-406c-b91d-6259923f6e1a",
        "colab": {
          "base_uri": "https://localhost:8080/",
          "height": 357
        }
      },
      "source": [
        "for idx in range(10):\n",
        "  try:\n",
        "    allData =pd.read_csv(\"allData_chunk\"+str(idx)+\".xlsx\")\n",
        "    print(f'Shape of data chunk {idx} :: {allData.shape}.....Processing....')\n",
        "    allData.loc[~allData['hisco_code'].isnull(), 'Industry'] = True\n",
        "    allData.loc[allData['hisco_code'].isnull(), 'Industry'] = False\n",
        "    print(f'Saving file allData_chunk{idx}.xlsx')\n",
        "    allData.to_csv(\"allData_chunk\"+ str(idx) + \".xlsx\", index=False)\n",
        "  except Exception as err:\n",
        "    print(f\"Error processing chunk {idx}\")\n",
        "    print(err)\n",
        "    pass\n",
        "  \n",
        "  "
      ],
      "execution_count": null,
      "outputs": [
        {
          "output_type": "stream",
          "text": [
            "Shape of data chunk 0 :: (27019, 20).....Processing....\n",
            "Saving file allData_chunk0.xlsx\n",
            "Shape of data chunk 1 :: (27142, 20).....Processing....\n",
            "Saving file allData_chunk1.xlsx\n",
            "Shape of data chunk 2 :: (27130, 20).....Processing....\n",
            "Saving file allData_chunk2.xlsx\n",
            "Shape of data chunk 3 :: (27112, 20).....Processing....\n",
            "Saving file allData_chunk3.xlsx\n",
            "Shape of data chunk 4 :: (27217, 20).....Processing....\n",
            "Saving file allData_chunk4.xlsx\n",
            "Shape of data chunk 5 :: (27104, 20).....Processing....\n",
            "Saving file allData_chunk5.xlsx\n",
            "Shape of data chunk 6 :: (27026, 20).....Processing....\n",
            "Saving file allData_chunk6.xlsx\n",
            "Shape of data chunk 7 :: (27234, 20).....Processing....\n",
            "Saving file allData_chunk7.xlsx\n",
            "Shape of data chunk 8 :: (27137, 20).....Processing....\n",
            "Saving file allData_chunk8.xlsx\n",
            "Shape of data chunk 9 :: (27221, 19).....Processing....\n",
            "Saving file allData_chunk9.xlsx\n"
          ],
          "name": "stdout"
        }
      ]
    },
    {
      "cell_type": "code",
      "metadata": {
        "id": "kVr1rGBM3PKj",
        "outputId": "f5e65027-0bb3-4a6d-ab00-8b0c63aed301",
        "colab": {
          "base_uri": "https://localhost:8080/",
          "height": 1000
        }
      },
      "source": [
        "allData.head(15)"
      ],
      "execution_count": null,
      "outputs": [
        {
          "output_type": "execute_result",
          "data": {
            "text/html": [
              "<div>\n",
              "<style scoped>\n",
              "    .dataframe tbody tr th:only-of-type {\n",
              "        vertical-align: middle;\n",
              "    }\n",
              "\n",
              "    .dataframe tbody tr th {\n",
              "        vertical-align: top;\n",
              "    }\n",
              "\n",
              "    .dataframe thead th {\n",
              "        text-align: right;\n",
              "    }\n",
              "</style>\n",
              "<table border=\"1\" class=\"dataframe\">\n",
              "  <thead>\n",
              "    <tr style=\"text-align: right;\">\n",
              "      <th></th>\n",
              "      <th>full_text</th>\n",
              "      <th>text Translation</th>\n",
              "      <th>created_at</th>\n",
              "      <th>screen_name</th>\n",
              "      <th>description</th>\n",
              "      <th>desc Translation</th>\n",
              "      <th>location</th>\n",
              "      <th>Weekday</th>\n",
              "      <th>Month</th>\n",
              "      <th>Year</th>\n",
              "      <th>point_info</th>\n",
              "      <th>point</th>\n",
              "      <th>latitude</th>\n",
              "      <th>longitude</th>\n",
              "      <th>altitude</th>\n",
              "      <th>Province</th>\n",
              "      <th>hisco_standard</th>\n",
              "      <th>hisco_code</th>\n",
              "      <th>Industry</th>\n",
              "    </tr>\n",
              "  </thead>\n",
              "  <tbody>\n",
              "    <tr>\n",
              "      <th>0</th>\n",
              "      <td>1300 nieuwe besmettingen met corona: Het RIVM ...</td>\n",
              "      <td>1300 new infections with corona: RIVM reported...</td>\n",
              "      <td>Mon Sep 14 14:10:02 +0000 2020</td>\n",
              "      <td>assercourant</td>\n",
              "      <td>De nieuwssite van Assen en omstreken. https://...</td>\n",
              "      <td>The news of Assen and environs. https://t.co/4...</td>\n",
              "      <td>Assen</td>\n",
              "      <td>0</td>\n",
              "      <td>9</td>\n",
              "      <td>2020</td>\n",
              "      <td>Assen, Drenthe, Nederland</td>\n",
              "      <td>(52.99037165, 6.553377770642328, 0.0)</td>\n",
              "      <td>52.990372</td>\n",
              "      <td>6.553378</td>\n",
              "      <td>0.0</td>\n",
              "      <td>Drenthe</td>\n",
              "      <td>NaN</td>\n",
              "      <td>NaN</td>\n",
              "      <td>False</td>\n",
              "    </tr>\n",
              "    <tr>\n",
              "      <th>1</th>\n",
              "      <td>1300 nieuwe besmettingen met corona: Het RIVM ...</td>\n",
              "      <td>1300 new infections with corona: RIVM reported...</td>\n",
              "      <td>Mon Sep 14 14:10:02 +0000 2020</td>\n",
              "      <td>assercourant</td>\n",
              "      <td>De nieuwssite van Assen en omstreken. https://...</td>\n",
              "      <td>The news of Assen and environs. https://t.co/4...</td>\n",
              "      <td>Assen</td>\n",
              "      <td>0</td>\n",
              "      <td>9</td>\n",
              "      <td>2020</td>\n",
              "      <td>Assen, Drenthe, Nederland</td>\n",
              "      <td>(52.99037165, 6.553377770642328, 0.0)</td>\n",
              "      <td>52.990372</td>\n",
              "      <td>6.553378</td>\n",
              "      <td>0.0</td>\n",
              "      <td>Drenthe</td>\n",
              "      <td>NaN</td>\n",
              "      <td>NaN</td>\n",
              "      <td>False</td>\n",
              "    </tr>\n",
              "    <tr>\n",
              "      <th>2</th>\n",
              "      <td>1300 nieuwe besmettingen met corona: Het RIVM ...</td>\n",
              "      <td>1300 new infections with corona: RIVM reported...</td>\n",
              "      <td>Mon Sep 14 14:10:03 +0000 2020</td>\n",
              "      <td>CoevordenHAH</td>\n",
              "      <td>Nieuws uit de gemeente Coevorden. Officiële ac...</td>\n",
              "      <td>News from the municipality of Coevorden. Offic...</td>\n",
              "      <td>Coevorden</td>\n",
              "      <td>0</td>\n",
              "      <td>9</td>\n",
              "      <td>2020</td>\n",
              "      <td>Coevorden, Drenthe, Nederland</td>\n",
              "      <td>(52.65266925, 6.739318887009727, 0.0)</td>\n",
              "      <td>52.652669</td>\n",
              "      <td>6.739319</td>\n",
              "      <td>0.0</td>\n",
              "      <td>Drenthe</td>\n",
              "      <td>NaN</td>\n",
              "      <td>NaN</td>\n",
              "      <td>False</td>\n",
              "    </tr>\n",
              "    <tr>\n",
              "      <th>3</th>\n",
              "      <td>RT @Variety: #Tenet likely to be delayed again...</td>\n",
              "      <td>RT @Variety: #Tenet likely to be delayed again...</td>\n",
              "      <td>Mon Jul 13 15:26:13 +0000 2020</td>\n",
              "      <td>BelleOog</td>\n",
              "      <td>Interviews in English with mainly Dutch film t...</td>\n",
              "      <td>Interviews in English with Mainly Dutch film t...</td>\n",
              "      <td>Amsterdam</td>\n",
              "      <td>0</td>\n",
              "      <td>7</td>\n",
              "      <td>2020</td>\n",
              "      <td>Amsterdam, Noord-Holland, Nederland</td>\n",
              "      <td>(52.3727598, 4.8936041, 0.0)</td>\n",
              "      <td>52.372760</td>\n",
              "      <td>4.893604</td>\n",
              "      <td>0.0</td>\n",
              "      <td>Noord-Holland</td>\n",
              "      <td>NaN</td>\n",
              "      <td>NaN</td>\n",
              "      <td>False</td>\n",
              "    </tr>\n",
              "    <tr>\n",
              "      <th>4</th>\n",
              "      <td>RT @Variety: #Tenet likely to be delayed again...</td>\n",
              "      <td>RT @Variety: #Tenet likely to be delayed again...</td>\n",
              "      <td>Mon Jul 13 15:26:13 +0000 2020</td>\n",
              "      <td>BelleOog</td>\n",
              "      <td>Interviews in English with mainly Dutch film t...</td>\n",
              "      <td>Interviews in English with Mainly Dutch film t...</td>\n",
              "      <td>Amsterdam</td>\n",
              "      <td>0</td>\n",
              "      <td>7</td>\n",
              "      <td>2020</td>\n",
              "      <td>Amsterdam, Noord-Holland, Nederland</td>\n",
              "      <td>(52.3727598, 4.8936041, 0.0)</td>\n",
              "      <td>52.372760</td>\n",
              "      <td>4.893604</td>\n",
              "      <td>0.0</td>\n",
              "      <td>Noord-Holland</td>\n",
              "      <td>NaN</td>\n",
              "      <td>NaN</td>\n",
              "      <td>False</td>\n",
              "    </tr>\n",
              "    <tr>\n",
              "      <th>5</th>\n",
              "      <td>1300 nieuwe besmettingen met corona: Het RIVM ...</td>\n",
              "      <td>1300 new infections with corona: RIVM reported...</td>\n",
              "      <td>Mon Sep 14 14:10:03 +0000 2020</td>\n",
              "      <td>Emmen_nu</td>\n",
              "      <td>Nieuws uit de gemeente Emmen. Emmer Courant is...</td>\n",
              "      <td>News from the municipality of Emmen. Bucket Co...</td>\n",
              "      <td>Emmen</td>\n",
              "      <td>0</td>\n",
              "      <td>9</td>\n",
              "      <td>2020</td>\n",
              "      <td>Emmen, Drenthe, Nederland</td>\n",
              "      <td>(52.788937, 6.8939001, 0.0)</td>\n",
              "      <td>52.788937</td>\n",
              "      <td>6.893900</td>\n",
              "      <td>0.0</td>\n",
              "      <td>Drenthe</td>\n",
              "      <td>NaN</td>\n",
              "      <td>NaN</td>\n",
              "      <td>False</td>\n",
              "    </tr>\n",
              "    <tr>\n",
              "      <th>6</th>\n",
              "      <td>@3Groter @lotje_hx Ik denk dan óók dat die geh...</td>\n",
              "      <td>@ 3Groter @lotje_hx I ​​am thinking also that ...</td>\n",
              "      <td>Mon Sep 14 14:10:05 +0000 2020</td>\n",
              "      <td>Evelien_Netjes</td>\n",
              "      <td>De aarde staat niet stil. Niet #links niet #re...</td>\n",
              "      <td>The earth does not stand still. Not #links not...</td>\n",
              "      <td>Op de Zeebodem</td>\n",
              "      <td>0</td>\n",
              "      <td>9</td>\n",
              "      <td>2020</td>\n",
              "      <td>Welkom op de zeebodem, Schokkerringweg, Ens, N...</td>\n",
              "      <td>(52.6398099, 5.8166619, 0.0)</td>\n",
              "      <td>52.639810</td>\n",
              "      <td>5.816662</td>\n",
              "      <td>0.0</td>\n",
              "      <td>Flevoland</td>\n",
              "      <td>nertsenfokker</td>\n",
              "      <td>61240</td>\n",
              "      <td>True</td>\n",
              "    </tr>\n",
              "    <tr>\n",
              "      <th>7</th>\n",
              "      <td>Anti lockdown protest Milaan:\\n\\nDe betogers e...</td>\n",
              "      <td>Anti lockdown protest Milan:\\n\\nThe protesters...</td>\n",
              "      <td>Wed Jun 03 15:42:24 +0000 2020</td>\n",
              "      <td>InwonerL</td>\n",
              "      <td>!!AWAKENED!!\\n\\nPRO FVD, PVV AND FREEDOM OF SP...</td>\n",
              "      <td>Awakened !! !!\\n\\nPRO FVD, PVV AND FREEDOM OF ...</td>\n",
              "      <td>NaN</td>\n",
              "      <td>2</td>\n",
              "      <td>6</td>\n",
              "      <td>2020</td>\n",
              "      <td>NaN</td>\n",
              "      <td>NaN</td>\n",
              "      <td>NaN</td>\n",
              "      <td>NaN</td>\n",
              "      <td>0.0</td>\n",
              "      <td>False</td>\n",
              "      <td>NaN</td>\n",
              "      <td>NaN</td>\n",
              "      <td>False</td>\n",
              "    </tr>\n",
              "    <tr>\n",
              "      <th>8</th>\n",
              "      <td>Anti lockdown protest Milaan:\\n\\nDe betogers e...</td>\n",
              "      <td>Anti lockdown protest Milan:\\n\\nThe protesters...</td>\n",
              "      <td>Wed Jun 03 15:42:24 +0000 2020</td>\n",
              "      <td>InwonerL</td>\n",
              "      <td>!!AWAKENED!!\\n\\nPRO FVD, PVV AND FREEDOM OF SP...</td>\n",
              "      <td>Awakened !! !!\\n\\nPRO FVD, PVV AND FREEDOM OF ...</td>\n",
              "      <td>NaN</td>\n",
              "      <td>2</td>\n",
              "      <td>6</td>\n",
              "      <td>2020</td>\n",
              "      <td>NaN</td>\n",
              "      <td>NaN</td>\n",
              "      <td>NaN</td>\n",
              "      <td>NaN</td>\n",
              "      <td>0.0</td>\n",
              "      <td>False</td>\n",
              "      <td>NaN</td>\n",
              "      <td>NaN</td>\n",
              "      <td>False</td>\n",
              "    </tr>\n",
              "    <tr>\n",
              "      <th>9</th>\n",
              "      <td>RT @nlvaarder: Rutte wil Gommers spreken over ...</td>\n",
              "      <td>RT @nlvaarder: Gommers Rutte wants to talk abo...</td>\n",
              "      <td>Mon Jul 13 15:26:42 +0000 2020</td>\n",
              "      <td>Klandestien010</td>\n",
              "      <td>Al vallen er 1000 aan mijn zijde en 10000 aan ...</td>\n",
              "      <td>May fall in 1000 by my side and 10000 on my ri...</td>\n",
              "      <td>Ergens in rotterdam</td>\n",
              "      <td>0</td>\n",
              "      <td>7</td>\n",
              "      <td>2020</td>\n",
              "      <td>NaN</td>\n",
              "      <td>NaN</td>\n",
              "      <td>NaN</td>\n",
              "      <td>NaN</td>\n",
              "      <td>NaN</td>\n",
              "      <td>NaN</td>\n",
              "      <td>NaN</td>\n",
              "      <td>NaN</td>\n",
              "      <td>False</td>\n",
              "    </tr>\n",
              "    <tr>\n",
              "      <th>10</th>\n",
              "      <td>RT @varkensinnood: Dat slachthuizen sluiten kl...</td>\n",
              "      <td>RT @varkensinnood That abattoirs closing may s...</td>\n",
              "      <td>Wed Jun 03 15:42:27 +0000 2020</td>\n",
              "      <td>masterprogram1</td>\n",
              "      <td>Digitally Yours,\\nLove is in the air\\n#CordonS...</td>\n",
              "      <td>Digitally Yours,\\nLove is in the air\\n#CordonS...</td>\n",
              "      <td>Clock Zero</td>\n",
              "      <td>2</td>\n",
              "      <td>6</td>\n",
              "      <td>2020</td>\n",
              "      <td>The Clock, Welwyn, Welwyn Hatfield, Hertfordsh...</td>\n",
              "      <td>(51.833375849999996, -0.20906740937634993, 0.0)</td>\n",
              "      <td>51.833376</td>\n",
              "      <td>-0.209067</td>\n",
              "      <td>0.0</td>\n",
              "      <td>False</td>\n",
              "      <td>NaN</td>\n",
              "      <td>NaN</td>\n",
              "      <td>False</td>\n",
              "    </tr>\n",
              "    <tr>\n",
              "      <th>11</th>\n",
              "      <td>RT @depeiling: Het RIVM meldt in de afgelopen ...</td>\n",
              "      <td>RT @depeiling: RIVM reports in the last 24 hou...</td>\n",
              "      <td>Mon Sep 14 14:10:29 +0000 2020</td>\n",
              "      <td>VonBierman</td>\n",
              "      <td>NaN</td>\n",
              "      <td>NaN</td>\n",
              "      <td>NaN</td>\n",
              "      <td>0</td>\n",
              "      <td>9</td>\n",
              "      <td>2020</td>\n",
              "      <td>NaN</td>\n",
              "      <td>NaN</td>\n",
              "      <td>NaN</td>\n",
              "      <td>NaN</td>\n",
              "      <td>0.0</td>\n",
              "      <td>False</td>\n",
              "      <td>NaN</td>\n",
              "      <td>NaN</td>\n",
              "      <td>False</td>\n",
              "    </tr>\n",
              "    <tr>\n",
              "      <th>12</th>\n",
              "      <td>RT @depeiling: Het RIVM meldt in de afgelopen ...</td>\n",
              "      <td>RT @depeiling: RIVM reports in the last 24 hou...</td>\n",
              "      <td>Mon Sep 14 14:10:29 +0000 2020</td>\n",
              "      <td>VonBierman</td>\n",
              "      <td>NaN</td>\n",
              "      <td>NaN</td>\n",
              "      <td>NaN</td>\n",
              "      <td>0</td>\n",
              "      <td>9</td>\n",
              "      <td>2020</td>\n",
              "      <td>NaN</td>\n",
              "      <td>NaN</td>\n",
              "      <td>NaN</td>\n",
              "      <td>NaN</td>\n",
              "      <td>0.0</td>\n",
              "      <td>False</td>\n",
              "      <td>NaN</td>\n",
              "      <td>NaN</td>\n",
              "      <td>False</td>\n",
              "    </tr>\n",
              "    <tr>\n",
              "      <th>13</th>\n",
              "      <td>@henriettedewit @kimzs09dv Als jij daar werkt ...</td>\n",
              "      <td>@henriettedewit @ kimzs09dv If you work there ...</td>\n",
              "      <td>Mon Sep 14 14:10:31 +0000 2020</td>\n",
              "      <td>e3b5b45c5716402</td>\n",
              "      <td>those of us who know can't sleep</td>\n",
              "      <td>Those of us who know can not sleep</td>\n",
              "      <td>NaN</td>\n",
              "      <td>0</td>\n",
              "      <td>9</td>\n",
              "      <td>2020</td>\n",
              "      <td>NaN</td>\n",
              "      <td>NaN</td>\n",
              "      <td>NaN</td>\n",
              "      <td>NaN</td>\n",
              "      <td>0.0</td>\n",
              "      <td>False</td>\n",
              "      <td>NaN</td>\n",
              "      <td>NaN</td>\n",
              "      <td>False</td>\n",
              "    </tr>\n",
              "    <tr>\n",
              "      <th>14</th>\n",
              "      <td>@henriettedewit @kimzs09dv Als jij daar werkt ...</td>\n",
              "      <td>@henriettedewit @ kimzs09dv If you work there ...</td>\n",
              "      <td>Mon Sep 14 14:10:31 +0000 2020</td>\n",
              "      <td>e3b5b45c5716402</td>\n",
              "      <td>those of us who know can't sleep</td>\n",
              "      <td>Those of us who know can not sleep</td>\n",
              "      <td>NaN</td>\n",
              "      <td>0</td>\n",
              "      <td>9</td>\n",
              "      <td>2020</td>\n",
              "      <td>NaN</td>\n",
              "      <td>NaN</td>\n",
              "      <td>NaN</td>\n",
              "      <td>NaN</td>\n",
              "      <td>0.0</td>\n",
              "      <td>False</td>\n",
              "      <td>NaN</td>\n",
              "      <td>NaN</td>\n",
              "      <td>False</td>\n",
              "    </tr>\n",
              "  </tbody>\n",
              "</table>\n",
              "</div>"
            ],
            "text/plain": [
              "                                            full_text  ... Industry\n",
              "0   1300 nieuwe besmettingen met corona: Het RIVM ...  ...    False\n",
              "1   1300 nieuwe besmettingen met corona: Het RIVM ...  ...    False\n",
              "2   1300 nieuwe besmettingen met corona: Het RIVM ...  ...    False\n",
              "3   RT @Variety: #Tenet likely to be delayed again...  ...    False\n",
              "4   RT @Variety: #Tenet likely to be delayed again...  ...    False\n",
              "5   1300 nieuwe besmettingen met corona: Het RIVM ...  ...    False\n",
              "6   @3Groter @lotje_hx Ik denk dan óók dat die geh...  ...     True\n",
              "7   Anti lockdown protest Milaan:\\n\\nDe betogers e...  ...    False\n",
              "8   Anti lockdown protest Milaan:\\n\\nDe betogers e...  ...    False\n",
              "9   RT @nlvaarder: Rutte wil Gommers spreken over ...  ...    False\n",
              "10  RT @varkensinnood: Dat slachthuizen sluiten kl...  ...    False\n",
              "11  RT @depeiling: Het RIVM meldt in de afgelopen ...  ...    False\n",
              "12  RT @depeiling: Het RIVM meldt in de afgelopen ...  ...    False\n",
              "13  @henriettedewit @kimzs09dv Als jij daar werkt ...  ...    False\n",
              "14  @henriettedewit @kimzs09dv Als jij daar werkt ...  ...    False\n",
              "\n",
              "[15 rows x 19 columns]"
            ]
          },
          "metadata": {
            "tags": []
          },
          "execution_count": 212
        }
      ]
    },
    {
      "cell_type": "code",
      "metadata": {
        "id": "rsOJyOUF3XkW"
      },
      "source": [],
      "execution_count": null,
      "outputs": []
    }
  ]
}